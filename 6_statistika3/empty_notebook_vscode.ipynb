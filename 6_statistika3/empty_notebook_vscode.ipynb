{
  "cells": [
    {
      "cell_type": "markdown",
      "metadata": {},
      "source": [
        "# Empty Notebook\n",
        "\n",
        "_Starter notebook for VS Code + Jupyter._"
      ]
    },
    {
      "cell_type": "code",
      "execution_count": null,
      "metadata": {},
      "outputs": [],
      "source": []
    }
  ],
  "metadata": {
    "kernelspec": {
      "display_name": "Python 3",
      "language": "python",
      "name": "python3"
    },
    "language_info": {
      "name": "python",
      "version": "3.11"
    },
    "vscode": {
      "interpreter": {
        "hash": "python3"
      }
    },
    "created": "2025-08-18T14:35:39.394020Z"
  },
  "nbformat": 4,
  "nbformat_minor": 5
}
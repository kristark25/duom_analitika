{
  "cells": [
    {
      "cell_type": "markdown",
      "id": "22e6faad",
      "metadata": {},
      "source": [
        "#  Notebook Statistika 3\n"
      ]
    },
    {
      "cell_type": "code",
      "execution_count": 1,
      "id": "5560beb6",
      "metadata": {},
      "outputs": [],
      "source": [
        "# print(\"Hello, World!\")"
      ]
    },
    {
      "cell_type": "code",
      "execution_count": 2,
      "id": "3cb3d68a",
      "metadata": {},
      "outputs": [
        {
          "data": {
            "text/html": [
              "<div>\n",
              "<style scoped>\n",
              "    .dataframe tbody tr th:only-of-type {\n",
              "        vertical-align: middle;\n",
              "    }\n",
              "\n",
              "    .dataframe tbody tr th {\n",
              "        vertical-align: top;\n",
              "    }\n",
              "\n",
              "    .dataframe thead th {\n",
              "        text-align: right;\n",
              "    }\n",
              "</style>\n",
              "<table border=\"1\" class=\"dataframe\">\n",
              "  <thead>\n",
              "    <tr style=\"text-align: right;\">\n",
              "      <th></th>\n",
              "      <th>size</th>\n",
              "      <th>size_encoded</th>\n",
              "    </tr>\n",
              "  </thead>\n",
              "  <tbody>\n",
              "    <tr>\n",
              "      <th>0</th>\n",
              "      <td>Small</td>\n",
              "      <td>1</td>\n",
              "    </tr>\n",
              "    <tr>\n",
              "      <th>1</th>\n",
              "      <td>Medium</td>\n",
              "      <td>2</td>\n",
              "    </tr>\n",
              "    <tr>\n",
              "      <th>2</th>\n",
              "      <td>Large</td>\n",
              "      <td>3</td>\n",
              "    </tr>\n",
              "    <tr>\n",
              "      <th>3</th>\n",
              "      <td>ExtraLarge</td>\n",
              "      <td>4</td>\n",
              "    </tr>\n",
              "  </tbody>\n",
              "</table>\n",
              "</div>"
            ],
            "text/plain": [
              "         size  size_encoded\n",
              "0       Small             1\n",
              "1      Medium             2\n",
              "2       Large             3\n",
              "3  ExtraLarge             4"
            ]
          },
          "execution_count": 2,
          "metadata": {},
          "output_type": "execute_result"
        }
      ],
      "source": [
        "import pandas as pd\n",
        "df = pd.DataFrame({'size': ['Small', 'Medium', 'Large', 'ExtraLarge']})\n",
        "size_mapping = {'Small': 1, 'Medium': 2, 'Large': 3, 'ExtraLarge': 4}\n",
        "df['size_encoded'] = df['size'].map(size_mapping)\n",
        "df\n"
      ]
    },
    {
      "cell_type": "code",
      "execution_count": 3,
      "id": "960105ed",
      "metadata": {},
      "outputs": [
        {
          "data": {
            "text/html": [
              "<div>\n",
              "<style scoped>\n",
              "    .dataframe tbody tr th:only-of-type {\n",
              "        vertical-align: middle;\n",
              "    }\n",
              "\n",
              "    .dataframe tbody tr th {\n",
              "        vertical-align: top;\n",
              "    }\n",
              "\n",
              "    .dataframe thead th {\n",
              "        text-align: right;\n",
              "    }\n",
              "</style>\n",
              "<table border=\"1\" class=\"dataframe\">\n",
              "  <thead>\n",
              "    <tr style=\"text-align: right;\">\n",
              "      <th></th>\n",
              "      <th>size</th>\n",
              "      <th>size_encoded</th>\n",
              "    </tr>\n",
              "  </thead>\n",
              "  <tbody>\n",
              "    <tr>\n",
              "      <th>0</th>\n",
              "      <td>Small</td>\n",
              "      <td>3</td>\n",
              "    </tr>\n",
              "    <tr>\n",
              "      <th>1</th>\n",
              "      <td>Medium</td>\n",
              "      <td>2</td>\n",
              "    </tr>\n",
              "    <tr>\n",
              "      <th>2</th>\n",
              "      <td>Large</td>\n",
              "      <td>1</td>\n",
              "    </tr>\n",
              "    <tr>\n",
              "      <th>3</th>\n",
              "      <td>ExtraLarge</td>\n",
              "      <td>0</td>\n",
              "    </tr>\n",
              "  </tbody>\n",
              "</table>\n",
              "</div>"
            ],
            "text/plain": [
              "         size  size_encoded\n",
              "0       Small             3\n",
              "1      Medium             2\n",
              "2       Large             1\n",
              "3  ExtraLarge             0"
            ]
          },
          "execution_count": 3,
          "metadata": {},
          "output_type": "execute_result"
        }
      ],
      "source": [
        "from sklearn.preprocessing import OrdinalEncoder\n",
        "import pandas as pd\n",
        "df = pd.DataFrame({'size': ['Small', 'Medium', 'Large', 'ExtraLarge']})\n",
        "enc = OrdinalEncoder(categories='auto', dtype=int)\n",
        "df['size_encoded'] =enc.fit_transform(df[['size']])\n",
        "df"
      ]
    },
    {
      "cell_type": "code",
      "execution_count": 4,
      "id": "0822e6f6",
      "metadata": {},
      "outputs": [],
      "source": [
        "# import category_encoders as ce\n",
        "# import pandas as pd\n",
        "# df = pd.DataFrame({'size': ['Small', 'Medium', 'Large', 'ExtraLarge']})\n",
        "# encoder = ce.TargetEncoder(cols=['size'])\n",
        "# df['size_encoded'] = encoder.fit_transform(df['size'],df['target'])\n",
        "# df = pd.DataFrame({'size': ['Small', 'Medium', 'Large', 'ExtraLarge']})\n"
      ]
    },
    {
      "cell_type": "markdown",
      "id": "6d5abf57",
      "metadata": {},
      "source": [
        "# Statistika – 3 paskaita: Užduotys \n",
        "\n",
        "Dataset'ai: `tips` ir `penguins` (`seaborn.load_dataset`)\n",
        "\n",
        "## A. Tikimybės (tips)\n",
        "1. Apskaičiuokite P(tip > 5).\n",
        "2. Apskaičiuokite P(smoker == 'Yes'). Patikrinkite nepriklausomumą: ar P(tip > 5 ∩ smoker) ≈ P(tip > 5) * P(smoker)?\n",
        "3. Apskaičiuokite sąlyginę tikimybę P(tip > 5 | day ∈ {Sat, Sun}). Palyginkite su P(tip > 5 | day ∈ {Thur, Fri}).\n",
        "4. Pavaizduokite `total_bill` histogramą (20 binų) ir pažymėkite vertikalią liniją ties 30.\n",
        "\n",
        "## B. Kodavimas (tips)\n",
        "5. Sukurkite one-hot/dummy kintamuosius stulpeliams: `sex`, `smoker`, `day`, `time`. Paaiškinkite, kada naudotumėte `drop_first=True`.\n",
        "6. Susikurkite `tip_rate = tip / total_bill`. Pagal kvantiles sukurkite ordinal kintamąjį `service_level`: Low/Medium/High. Priskirkite 1/2/3.\n",
        "7. Pavaizduokite `tip_rate` dėžės diagramą (boxplot) pagal `smoker`. Ką pastebite?\n",
        "\n"
      ]
    },
    {
      "cell_type": "code",
      "execution_count": 5,
      "id": "06a212b2",
      "metadata": {},
      "outputs": [],
      "source": [
        "# 📦 Importai ir nustatymai\n",
        "import numpy as np\n",
        "import pandas as pd\n",
        "import matplotlib.pyplot as plt\n",
        "from sklearn.preprocessing import OneHotEncoder\n",
        "from sklearn.naive_bayes import GaussianNB\n",
        "from sklearn.model_selection import train_test_split\n",
        "from sklearn.metrics import classification_report, confusion_matrix\n",
        "\n",
        "import seaborn as sns  # tik duomenų įkėlimui\n",
        "pd.set_option(\"display.max_columns\", 100)\n"
      ]
    },
    {
      "cell_type": "code",
      "execution_count": 6,
      "id": "746be87a",
      "metadata": {},
      "outputs": [
        {
          "name": "stdout",
          "output_type": "stream",
          "text": [
            "tips shape: (244, 7)\n"
          ]
        },
        {
          "data": {
            "text/html": [
              "<div>\n",
              "<style scoped>\n",
              "    .dataframe tbody tr th:only-of-type {\n",
              "        vertical-align: middle;\n",
              "    }\n",
              "\n",
              "    .dataframe tbody tr th {\n",
              "        vertical-align: top;\n",
              "    }\n",
              "\n",
              "    .dataframe thead th {\n",
              "        text-align: right;\n",
              "    }\n",
              "</style>\n",
              "<table border=\"1\" class=\"dataframe\">\n",
              "  <thead>\n",
              "    <tr style=\"text-align: right;\">\n",
              "      <th></th>\n",
              "      <th>total_bill</th>\n",
              "      <th>tip</th>\n",
              "      <th>sex</th>\n",
              "      <th>smoker</th>\n",
              "      <th>day</th>\n",
              "      <th>time</th>\n",
              "      <th>size</th>\n",
              "    </tr>\n",
              "  </thead>\n",
              "  <tbody>\n",
              "    <tr>\n",
              "      <th>0</th>\n",
              "      <td>16.99</td>\n",
              "      <td>1.01</td>\n",
              "      <td>Female</td>\n",
              "      <td>No</td>\n",
              "      <td>Sun</td>\n",
              "      <td>Dinner</td>\n",
              "      <td>2</td>\n",
              "    </tr>\n",
              "    <tr>\n",
              "      <th>1</th>\n",
              "      <td>10.34</td>\n",
              "      <td>1.66</td>\n",
              "      <td>Male</td>\n",
              "      <td>No</td>\n",
              "      <td>Sun</td>\n",
              "      <td>Dinner</td>\n",
              "      <td>3</td>\n",
              "    </tr>\n",
              "    <tr>\n",
              "      <th>2</th>\n",
              "      <td>21.01</td>\n",
              "      <td>3.50</td>\n",
              "      <td>Male</td>\n",
              "      <td>No</td>\n",
              "      <td>Sun</td>\n",
              "      <td>Dinner</td>\n",
              "      <td>3</td>\n",
              "    </tr>\n",
              "    <tr>\n",
              "      <th>3</th>\n",
              "      <td>23.68</td>\n",
              "      <td>3.31</td>\n",
              "      <td>Male</td>\n",
              "      <td>No</td>\n",
              "      <td>Sun</td>\n",
              "      <td>Dinner</td>\n",
              "      <td>2</td>\n",
              "    </tr>\n",
              "    <tr>\n",
              "      <th>4</th>\n",
              "      <td>24.59</td>\n",
              "      <td>3.61</td>\n",
              "      <td>Female</td>\n",
              "      <td>No</td>\n",
              "      <td>Sun</td>\n",
              "      <td>Dinner</td>\n",
              "      <td>4</td>\n",
              "    </tr>\n",
              "  </tbody>\n",
              "</table>\n",
              "</div>"
            ],
            "text/plain": [
              "   total_bill   tip     sex smoker  day    time  size\n",
              "0       16.99  1.01  Female     No  Sun  Dinner     2\n",
              "1       10.34  1.66    Male     No  Sun  Dinner     3\n",
              "2       21.01  3.50    Male     No  Sun  Dinner     3\n",
              "3       23.68  3.31    Male     No  Sun  Dinner     2\n",
              "4       24.59  3.61  Female     No  Sun  Dinner     4"
            ]
          },
          "metadata": {},
          "output_type": "display_data"
        },
        {
          "name": "stdout",
          "output_type": "stream",
          "text": [
            "\n",
            "penguins shape: (344, 7)\n"
          ]
        },
        {
          "data": {
            "text/html": [
              "<div>\n",
              "<style scoped>\n",
              "    .dataframe tbody tr th:only-of-type {\n",
              "        vertical-align: middle;\n",
              "    }\n",
              "\n",
              "    .dataframe tbody tr th {\n",
              "        vertical-align: top;\n",
              "    }\n",
              "\n",
              "    .dataframe thead th {\n",
              "        text-align: right;\n",
              "    }\n",
              "</style>\n",
              "<table border=\"1\" class=\"dataframe\">\n",
              "  <thead>\n",
              "    <tr style=\"text-align: right;\">\n",
              "      <th></th>\n",
              "      <th>species</th>\n",
              "      <th>island</th>\n",
              "      <th>bill_length_mm</th>\n",
              "      <th>bill_depth_mm</th>\n",
              "      <th>flipper_length_mm</th>\n",
              "      <th>body_mass_g</th>\n",
              "      <th>sex</th>\n",
              "    </tr>\n",
              "  </thead>\n",
              "  <tbody>\n",
              "    <tr>\n",
              "      <th>0</th>\n",
              "      <td>Adelie</td>\n",
              "      <td>Torgersen</td>\n",
              "      <td>39.1</td>\n",
              "      <td>18.7</td>\n",
              "      <td>181.0</td>\n",
              "      <td>3750.0</td>\n",
              "      <td>Male</td>\n",
              "    </tr>\n",
              "    <tr>\n",
              "      <th>1</th>\n",
              "      <td>Adelie</td>\n",
              "      <td>Torgersen</td>\n",
              "      <td>39.5</td>\n",
              "      <td>17.4</td>\n",
              "      <td>186.0</td>\n",
              "      <td>3800.0</td>\n",
              "      <td>Female</td>\n",
              "    </tr>\n",
              "    <tr>\n",
              "      <th>2</th>\n",
              "      <td>Adelie</td>\n",
              "      <td>Torgersen</td>\n",
              "      <td>40.3</td>\n",
              "      <td>18.0</td>\n",
              "      <td>195.0</td>\n",
              "      <td>3250.0</td>\n",
              "      <td>Female</td>\n",
              "    </tr>\n",
              "    <tr>\n",
              "      <th>3</th>\n",
              "      <td>Adelie</td>\n",
              "      <td>Torgersen</td>\n",
              "      <td>NaN</td>\n",
              "      <td>NaN</td>\n",
              "      <td>NaN</td>\n",
              "      <td>NaN</td>\n",
              "      <td>NaN</td>\n",
              "    </tr>\n",
              "    <tr>\n",
              "      <th>4</th>\n",
              "      <td>Adelie</td>\n",
              "      <td>Torgersen</td>\n",
              "      <td>36.7</td>\n",
              "      <td>19.3</td>\n",
              "      <td>193.0</td>\n",
              "      <td>3450.0</td>\n",
              "      <td>Female</td>\n",
              "    </tr>\n",
              "  </tbody>\n",
              "</table>\n",
              "</div>"
            ],
            "text/plain": [
              "  species     island  bill_length_mm  bill_depth_mm  flipper_length_mm  \\\n",
              "0  Adelie  Torgersen            39.1           18.7              181.0   \n",
              "1  Adelie  Torgersen            39.5           17.4              186.0   \n",
              "2  Adelie  Torgersen            40.3           18.0              195.0   \n",
              "3  Adelie  Torgersen             NaN            NaN                NaN   \n",
              "4  Adelie  Torgersen            36.7           19.3              193.0   \n",
              "\n",
              "   body_mass_g     sex  \n",
              "0       3750.0    Male  \n",
              "1       3800.0  Female  \n",
              "2       3250.0  Female  \n",
              "3          NaN     NaN  \n",
              "4       3450.0  Female  "
            ]
          },
          "metadata": {},
          "output_type": "display_data"
        }
      ],
      "source": [
        "# 🔽 Įkeliame duomenų rinkinius\n",
        "tips = sns.load_dataset('tips')\n",
        "penguins = sns.load_dataset('penguins')\n",
        "\n",
        "print(\"tips shape:\", tips.shape)\n",
        "display(tips.head())\n",
        "\n",
        "print(\"\\npenguins shape:\", penguins.shape)\n",
        "display(penguins.head())"
      ]
    },
    {
      "cell_type": "code",
      "execution_count": 11,
      "id": "89ca945d",
      "metadata": {},
      "outputs": [
        {
          "name": "stdout",
          "output_type": "stream",
          "text": [
            "P(tip > 5): 0.074\n"
          ]
        }
      ],
      "source": [
        "#  1) P(tip > 5).\n",
        "p_tip5 = (tips['tip'] > 5).mean()\n",
        "print(\"P(tip > 5):\", round(p_tip5, 3))"
      ]
    },
    {
      "cell_type": "code",
      "execution_count": 14,
      "id": "cbf9f970",
      "metadata": {},
      "outputs": [
        {
          "data": {
            "text/plain": [
              "0.07377049180327869"
            ]
          },
          "execution_count": 14,
          "metadata": {},
          "output_type": "execute_result"
        }
      ],
      "source": [
        "tips[tips['tip'] >5].shape[0] / tips.shape[0]"
      ]
    },
    {
      "cell_type": "code",
      "execution_count": 13,
      "id": "280df4fc",
      "metadata": {},
      "outputs": [
        {
          "data": {
            "text/plain": [
              "(244, 7)"
            ]
          },
          "execution_count": 13,
          "metadata": {},
          "output_type": "execute_result"
        }
      ],
      "source": [
        "tips.shape"
      ]
    },
    {
      "cell_type": "code",
      "execution_count": 17,
      "id": "464a8c9b",
      "metadata": {},
      "outputs": [
        {
          "name": "stdout",
          "output_type": "stream",
          "text": [
            "P('smoker' == 'Yes'): 0.381\n",
            "P(tip>5 ∩ smoker) = 0.025 vs P(tip>5)*P(smoker) = 0.028\n"
          ]
        }
      ],
      "source": [
        "# 2) P('smoker'==yes)\n",
        "p_smoker = (tips['smoker'] == 'Yes').mean()\n",
        "p_both = ((tips['tip'] > 5) & (tips['smoker'] == 'Yes')).mean()\n",
        "print(\"P('smoker' == 'Yes'):\", round(p_smoker, 3))\n",
        "print(\"P(tip>5 ∩ smoker) =\", round( p_both, 3),\n",
        "      \"vs P(tip>5)*P(smoker) =\", round((p_tip5 * p_smoker), 3))\n"
      ]
    },
    {
      "cell_type": "code",
      "execution_count": 18,
      "id": "e44652f0",
      "metadata": {},
      "outputs": [
        {
          "name": "stdout",
          "output_type": "stream",
          "text": [
            "P(tip>5 | weekend) = 0.092\n",
            "P(tip>5 | workdays) = 0.037\n"
          ]
        }
      ],
      "source": [
        "# 3) P(tip>5 | weekend) vs (| workdays)\n",
        "weekend = tips['day'].isin(['Sat', 'Sun'])\n",
        "p_tip_weekend = tips.loc[weekend, 'tip'].gt(5).mean()\n",
        "p_tip_work = tips.loc[~weekend, 'tip'].gt(5).mean()\n",
        "print(\"P(tip>5 | weekend) =\", round(p_tip_weekend, 3))\n",
        "print(\"P(tip>5 | workdays) =\", round(p_tip_work, 3))"
      ]
    },
    {
      "cell_type": "code",
      "execution_count": 19,
      "id": "56712c86",
      "metadata": {},
      "outputs": [
        {
          "data": {
            "text/html": [
              "<div>\n",
              "<style scoped>\n",
              "    .dataframe tbody tr th:only-of-type {\n",
              "        vertical-align: middle;\n",
              "    }\n",
              "\n",
              "    .dataframe tbody tr th {\n",
              "        vertical-align: top;\n",
              "    }\n",
              "\n",
              "    .dataframe thead th {\n",
              "        text-align: right;\n",
              "    }\n",
              "</style>\n",
              "<table border=\"1\" class=\"dataframe\">\n",
              "  <thead>\n",
              "    <tr style=\"text-align: right;\">\n",
              "      <th>day</th>\n",
              "      <th>Thur</th>\n",
              "      <th>Fri</th>\n",
              "      <th>Sat</th>\n",
              "      <th>Sun</th>\n",
              "    </tr>\n",
              "    <tr>\n",
              "      <th>smoker</th>\n",
              "      <th></th>\n",
              "      <th></th>\n",
              "      <th></th>\n",
              "      <th></th>\n",
              "    </tr>\n",
              "  </thead>\n",
              "  <tbody>\n",
              "    <tr>\n",
              "      <th>Yes</th>\n",
              "      <td>17</td>\n",
              "      <td>15</td>\n",
              "      <td>42</td>\n",
              "      <td>19</td>\n",
              "    </tr>\n",
              "    <tr>\n",
              "      <th>No</th>\n",
              "      <td>45</td>\n",
              "      <td>4</td>\n",
              "      <td>45</td>\n",
              "      <td>57</td>\n",
              "    </tr>\n",
              "  </tbody>\n",
              "</table>\n",
              "</div>"
            ],
            "text/plain": [
              "day     Thur  Fri  Sat  Sun\n",
              "smoker                     \n",
              "Yes       17   15   42   19\n",
              "No        45    4   45   57"
            ]
          },
          "metadata": {},
          "output_type": "display_data"
        },
        {
          "name": "stdout",
          "output_type": "stream",
          "text": [
            "P(smoker='Yes' | day='Sun') = 0.25\n"
          ]
        }
      ],
      "source": [
        "# 4) Dvimatė dažnių lentelė ir P(smoker='Yes' | day='Sun')\n",
        "ct = pd.crosstab(tips['smoker'], tips['day'])\n",
        "display(ct)\n",
        "p_smoker_yes_given_sun = ct.loc['Yes','Sun'] / ct['Sun'].sum()\n",
        "print(\"P(smoker='Yes' | day='Sun') =\", round(p_smoker_yes_given_sun, 3))"
      ]
    },
    {
      "cell_type": "code",
      "execution_count": 26,
      "id": "67aaa99c",
      "metadata": {},
      "outputs": [
        {
          "data": {
            "text/html": [
              "<div>\n",
              "<style scoped>\n",
              "    .dataframe tbody tr th:only-of-type {\n",
              "        vertical-align: middle;\n",
              "    }\n",
              "\n",
              "    .dataframe tbody tr th {\n",
              "        vertical-align: top;\n",
              "    }\n",
              "\n",
              "    .dataframe thead th {\n",
              "        text-align: right;\n",
              "    }\n",
              "</style>\n",
              "<table border=\"1\" class=\"dataframe\">\n",
              "  <thead>\n",
              "    <tr style=\"text-align: right;\">\n",
              "      <th></th>\n",
              "      <th>total_bill</th>\n",
              "      <th>tip</th>\n",
              "      <th>size</th>\n",
              "      <th>sex_Male</th>\n",
              "      <th>sex_Female</th>\n",
              "      <th>smoker_Yes</th>\n",
              "      <th>smoker_No</th>\n",
              "      <th>day_Thur</th>\n",
              "      <th>day_Fri</th>\n",
              "      <th>day_Sat</th>\n",
              "      <th>day_Sun</th>\n",
              "      <th>time_Lunch</th>\n",
              "      <th>time_Dinner</th>\n",
              "    </tr>\n",
              "  </thead>\n",
              "  <tbody>\n",
              "    <tr>\n",
              "      <th>0</th>\n",
              "      <td>16.99</td>\n",
              "      <td>1.01</td>\n",
              "      <td>2</td>\n",
              "      <td>False</td>\n",
              "      <td>True</td>\n",
              "      <td>False</td>\n",
              "      <td>True</td>\n",
              "      <td>False</td>\n",
              "      <td>False</td>\n",
              "      <td>False</td>\n",
              "      <td>True</td>\n",
              "      <td>False</td>\n",
              "      <td>True</td>\n",
              "    </tr>\n",
              "    <tr>\n",
              "      <th>1</th>\n",
              "      <td>10.34</td>\n",
              "      <td>1.66</td>\n",
              "      <td>3</td>\n",
              "      <td>True</td>\n",
              "      <td>False</td>\n",
              "      <td>False</td>\n",
              "      <td>True</td>\n",
              "      <td>False</td>\n",
              "      <td>False</td>\n",
              "      <td>False</td>\n",
              "      <td>True</td>\n",
              "      <td>False</td>\n",
              "      <td>True</td>\n",
              "    </tr>\n",
              "    <tr>\n",
              "      <th>2</th>\n",
              "      <td>21.01</td>\n",
              "      <td>3.50</td>\n",
              "      <td>3</td>\n",
              "      <td>True</td>\n",
              "      <td>False</td>\n",
              "      <td>False</td>\n",
              "      <td>True</td>\n",
              "      <td>False</td>\n",
              "      <td>False</td>\n",
              "      <td>False</td>\n",
              "      <td>True</td>\n",
              "      <td>False</td>\n",
              "      <td>True</td>\n",
              "    </tr>\n",
              "    <tr>\n",
              "      <th>3</th>\n",
              "      <td>23.68</td>\n",
              "      <td>3.31</td>\n",
              "      <td>2</td>\n",
              "      <td>True</td>\n",
              "      <td>False</td>\n",
              "      <td>False</td>\n",
              "      <td>True</td>\n",
              "      <td>False</td>\n",
              "      <td>False</td>\n",
              "      <td>False</td>\n",
              "      <td>True</td>\n",
              "      <td>False</td>\n",
              "      <td>True</td>\n",
              "    </tr>\n",
              "    <tr>\n",
              "      <th>4</th>\n",
              "      <td>24.59</td>\n",
              "      <td>3.61</td>\n",
              "      <td>4</td>\n",
              "      <td>False</td>\n",
              "      <td>True</td>\n",
              "      <td>False</td>\n",
              "      <td>True</td>\n",
              "      <td>False</td>\n",
              "      <td>False</td>\n",
              "      <td>False</td>\n",
              "      <td>True</td>\n",
              "      <td>False</td>\n",
              "      <td>True</td>\n",
              "    </tr>\n",
              "  </tbody>\n",
              "</table>\n",
              "</div>"
            ],
            "text/plain": [
              "   total_bill   tip  size  sex_Male  sex_Female  smoker_Yes  smoker_No  \\\n",
              "0       16.99  1.01     2     False        True       False       True   \n",
              "1       10.34  1.66     3      True       False       False       True   \n",
              "2       21.01  3.50     3      True       False       False       True   \n",
              "3       23.68  3.31     2      True       False       False       True   \n",
              "4       24.59  3.61     4     False        True       False       True   \n",
              "\n",
              "   day_Thur  day_Fri  day_Sat  day_Sun  time_Lunch  time_Dinner  \n",
              "0     False    False    False     True       False         True  \n",
              "1     False    False    False     True       False         True  \n",
              "2     False    False    False     True       False         True  \n",
              "3     False    False    False     True       False         True  \n",
              "4     False    False    False     True       False         True  "
            ]
          },
          "execution_count": 26,
          "metadata": {},
          "output_type": "execute_result"
        }
      ],
      "source": [
        "# 5) One-hot/Dummies\n",
        "cat_cols = ['sex','smoker','day','time']\n",
        "onehot = pd.get_dummies(tips, columns=cat_cols, drop_first=False)\n",
        "\n",
        "onehot.shape\n",
        "onehot.head()\n",
        "\n",
        "# dummies_drop = pd.get_dummies(tips, columns=cat_cols, drop_first=True)\n",
        "# onehot.shape, dummies_drop.shape"
      ]
    },
    {
      "cell_type": "code",
      "execution_count": 25,
      "id": "79d2d7f9",
      "metadata": {},
      "outputs": [
        {
          "name": "stderr",
          "output_type": "stream",
          "text": [
            "C:\\Users\\krist\\AppData\\Local\\Temp\\ipykernel_23796\\2920168207.py:1: FutureWarning: The default of observed=False is deprecated and will be changed to True in a future version of pandas. Pass observed=False to retain current behavior or observed=True to adopt the future default and silence this warning.\n",
            "  tips['day'].groupby(tips['day']).count()\n"
          ]
        },
        {
          "data": {
            "text/plain": [
              "day\n",
              "Thur    62\n",
              "Fri     19\n",
              "Sat     87\n",
              "Sun     76\n",
              "Name: day, dtype: int64"
            ]
          },
          "execution_count": 25,
          "metadata": {},
          "output_type": "execute_result"
        }
      ],
      "source": [
        "tips['day'].groupby(tips['day']).count()"
      ]
    },
    {
      "cell_type": "code",
      "execution_count": null,
      "id": "127b8156",
      "metadata": {},
      "outputs": [],
      "source": []
    }
  ],
  "metadata": {
    "created": "2025-08-18T14:35:39.394020Z",
    "kernelspec": {
      "display_name": "Python 3",
      "language": "python",
      "name": "python3"
    },
    "language_info": {
      "codemirror_mode": {
        "name": "ipython",
        "version": 3
      },
      "file_extension": ".py",
      "mimetype": "text/x-python",
      "name": "python",
      "nbconvert_exporter": "python",
      "pygments_lexer": "ipython3",
      "version": "3.13.4"
    }
  },
  "nbformat": 4,
  "nbformat_minor": 5
}

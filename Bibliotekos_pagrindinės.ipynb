{
 "cells": [
  {
   "cell_type": "markdown",
   "id": "dc67d49f",
   "metadata": {},
   "source": [
    "# Bibliotekos"
   ]
  },
  {
   "cell_type": "markdown",
   "id": "332adfdc",
   "metadata": {},
   "source": [
    "## Duomenų rinkinys\n",
    "\n",
    "Smulkios parduotuvės „užsakymų“ duomenys:\n",
    "\n",
    "- `order_id` – užsakymo ID  \n",
    "- `date` – data  \n",
    "- `city` – miestas  \n",
    "- `category` – kategorija (A/B/C)  \n",
    "- `product` – prekė  \n",
    "- `price` – vieneto kaina (EUR)  \n",
    "- `qty` – kiekis  \n",
    "- `channel` – kanalas (online/offline)  \n",
    "- `rating` – kliento įvertinimas (1–5)  \n",
    "- `revenue` – pajamos (= price × qty)\n"
   ]
  },
  {
   "cell_type": "code",
   "execution_count": 1,
   "id": "a8392c85",
   "metadata": {},
   "outputs": [
    {
     "data": {
      "text/html": [
       "<div>\n",
       "<style scoped>\n",
       "    .dataframe tbody tr th:only-of-type {\n",
       "        vertical-align: middle;\n",
       "    }\n",
       "\n",
       "    .dataframe tbody tr th {\n",
       "        vertical-align: top;\n",
       "    }\n",
       "\n",
       "    .dataframe thead th {\n",
       "        text-align: right;\n",
       "    }\n",
       "</style>\n",
       "<table border=\"1\" class=\"dataframe\">\n",
       "  <thead>\n",
       "    <tr style=\"text-align: right;\">\n",
       "      <th></th>\n",
       "      <th>order_id</th>\n",
       "      <th>date</th>\n",
       "      <th>city</th>\n",
       "      <th>category</th>\n",
       "      <th>product</th>\n",
       "      <th>price</th>\n",
       "      <th>qty</th>\n",
       "      <th>channel</th>\n",
       "      <th>rating</th>\n",
       "      <th>revenue</th>\n",
       "    </tr>\n",
       "  </thead>\n",
       "  <tbody>\n",
       "    <tr>\n",
       "      <th>0</th>\n",
       "      <td>1</td>\n",
       "      <td>2025-01-01</td>\n",
       "      <td>Vilnius</td>\n",
       "      <td>A</td>\n",
       "      <td>Widget</td>\n",
       "      <td>19.99</td>\n",
       "      <td>2</td>\n",
       "      <td>online</td>\n",
       "      <td>5</td>\n",
       "      <td>39.98</td>\n",
       "    </tr>\n",
       "    <tr>\n",
       "      <th>1</th>\n",
       "      <td>2</td>\n",
       "      <td>2025-01-01</td>\n",
       "      <td>Kaunas</td>\n",
       "      <td>B</td>\n",
       "      <td>Gadget</td>\n",
       "      <td>29.50</td>\n",
       "      <td>1</td>\n",
       "      <td>offline</td>\n",
       "      <td>4</td>\n",
       "      <td>29.50</td>\n",
       "    </tr>\n",
       "    <tr>\n",
       "      <th>2</th>\n",
       "      <td>3</td>\n",
       "      <td>2025-01-02</td>\n",
       "      <td>Klaipėda</td>\n",
       "      <td>A</td>\n",
       "      <td>Widget</td>\n",
       "      <td>18.49</td>\n",
       "      <td>3</td>\n",
       "      <td>online</td>\n",
       "      <td>5</td>\n",
       "      <td>55.47</td>\n",
       "    </tr>\n",
       "    <tr>\n",
       "      <th>3</th>\n",
       "      <td>4</td>\n",
       "      <td>2025-01-03</td>\n",
       "      <td>Šiauliai</td>\n",
       "      <td>C</td>\n",
       "      <td>Thing</td>\n",
       "      <td>9.99</td>\n",
       "      <td>5</td>\n",
       "      <td>offline</td>\n",
       "      <td>3</td>\n",
       "      <td>49.95</td>\n",
       "    </tr>\n",
       "    <tr>\n",
       "      <th>4</th>\n",
       "      <td>5</td>\n",
       "      <td>2025-01-03</td>\n",
       "      <td>Panevėžys</td>\n",
       "      <td>B</td>\n",
       "      <td>Gadget</td>\n",
       "      <td>31.00</td>\n",
       "      <td>1</td>\n",
       "      <td>online</td>\n",
       "      <td>4</td>\n",
       "      <td>31.00</td>\n",
       "    </tr>\n",
       "  </tbody>\n",
       "</table>\n",
       "</div>"
      ],
      "text/plain": [
       "   order_id       date       city category product  price  qty  channel  \\\n",
       "0         1 2025-01-01    Vilnius        A  Widget  19.99    2   online   \n",
       "1         2 2025-01-01     Kaunas        B  Gadget  29.50    1  offline   \n",
       "2         3 2025-01-02   Klaipėda        A  Widget  18.49    3   online   \n",
       "3         4 2025-01-03   Šiauliai        C   Thing   9.99    5  offline   \n",
       "4         5 2025-01-03  Panevėžys        B  Gadget  31.00    1   online   \n",
       "\n",
       "   rating  revenue  \n",
       "0       5    39.98  \n",
       "1       4    29.50  \n",
       "2       5    55.47  \n",
       "3       3    49.95  \n",
       "4       4    31.00  "
      ]
     },
     "execution_count": 1,
     "metadata": {},
     "output_type": "execute_result"
    }
   ],
   "source": [
    "import pandas as pd\n",
    "import numpy as np\n",
    "from io import StringIO\n",
    "\n",
    "csv = StringIO(\"\"\"order_id,date,city,category,product,price,qty,channel,rating\n",
    "1,2025-01-01,Vilnius,A,Widget,19.99,2,online,5\n",
    "2,2025-01-01,Kaunas,B,Gadget,29.50,1,offline,4\n",
    "3,2025-01-02,Klaipėda,A,Widget,18.49,3,online,5\n",
    "4,2025-01-03,Šiauliai,C,Thing,9.99,5,offline,3\n",
    "5,2025-01-03,Panevėžys,B,Gadget,31.00,1,online,4\n",
    "6,2025-01-04,Vilnius,C,Thing,11.49,4,online,2\n",
    "7,2025-01-04,Kaunas,A,Widget,20.49,1,offline,5\n",
    "8,2025-01-05,Klaipėda,B,Gadget,27.99,2,online,4\n",
    "9,2025-01-05,Šiauliai,C,Thing,10.49,6,offline,3\n",
    "10,2025-01-06,Panevėžys,A,Widget,21.49,1,online,5\n",
    "\"\"\")\n",
    "df = pd.read_csv(csv, parse_dates=[\"date\"])\n",
    "df[\"revenue\"] = df[\"price\"] * df[\"qty\"]\n",
    "df.head()"
   ]
  },
  {
   "cell_type": "markdown",
   "id": "fb99190c",
   "metadata": {},
   "source": [
    "## 1) NumPy – skaičiavimų pagrindas\n",
    "\n",
    "**Kam skirta:** skaičiavimai su masyvais ir matricomis.\n"
   ]
  },
  {
   "cell_type": "code",
   "execution_count": 2,
   "id": "3edadd05",
   "metadata": {},
   "outputs": [
    {
     "name": "stdout",
     "output_type": "stream",
     "text": [
      "Pirmos 5 pajamos (NumPy): [39.98 29.5  55.47 49.95 31.  ]\n",
      "Vidutinė kaina: 20.092000000000002 Kiekio suma: 26\n"
     ]
    }
   ],
   "source": [
    "import numpy as np\n",
    "\n",
    "prices = df[\"price\"].to_numpy()\n",
    "qty = df[\"qty\"].to_numpy()\n",
    "rev_vec = prices * qty \n",
    "print(\"Pirmos 5 pajamos (NumPy):\", rev_vec[:5])\n",
    "print(\"Vidutinė kaina:\", prices.mean(), \"Kiekio suma:\", qty.sum())"
   ]
  },
  {
   "cell_type": "code",
   "execution_count": 3,
   "id": "2b3d1a7f",
   "metadata": {},
   "outputs": [
    {
     "name": "stdout",
     "output_type": "stream",
     "text": [
      "Masyvų suma: [5 7 9]\n",
      "Masyvų sandauga: [ 4 10 18]\n"
     ]
    }
   ],
   "source": [
    "masyvas_a = np.array([1,2,3])\n",
    "masyvas_b = np.array([4,5,6])\n",
    "suma = masyvas_a + masyvas_b\n",
    "print(\"Masyvų suma:\", suma)\n",
    "sandauga = masyvas_a * masyvas_b\n",
    "print(\"Masyvų sandauga:\", sandauga)"
   ]
  },
  {
   "cell_type": "code",
   "execution_count": 4,
   "id": "5ac791fc",
   "metadata": {},
   "outputs": [
    {
     "name": "stdout",
     "output_type": "stream",
     "text": [
      "5.0\n"
     ]
    }
   ],
   "source": [
    "vidurkis = np.mean(masyvas_b)\n",
    "print(vidurkis)"
   ]
  },
  {
   "cell_type": "markdown",
   "id": "2c812a64",
   "metadata": {},
   "source": [
    "## 2) pandas – duomenys lentelėse\n",
    "\n",
    "**Kam skirta:** nuskaityti, valyti, transformuoti ir agreguoti duomenis `DataFrame` formatu.\n"
   ]
  },
  {
   "cell_type": "code",
   "execution_count": 5,
   "id": "2e84657d",
   "metadata": {},
   "outputs": [
    {
     "data": {
      "text/html": [
       "<div>\n",
       "<style scoped>\n",
       "    .dataframe tbody tr th:only-of-type {\n",
       "        vertical-align: middle;\n",
       "    }\n",
       "\n",
       "    .dataframe tbody tr th {\n",
       "        vertical-align: top;\n",
       "    }\n",
       "\n",
       "    .dataframe thead th {\n",
       "        text-align: right;\n",
       "    }\n",
       "</style>\n",
       "<table border=\"1\" class=\"dataframe\">\n",
       "  <thead>\n",
       "    <tr style=\"text-align: right;\">\n",
       "      <th></th>\n",
       "      <th>order_id</th>\n",
       "      <th>date</th>\n",
       "      <th>city</th>\n",
       "      <th>category</th>\n",
       "      <th>product</th>\n",
       "      <th>price</th>\n",
       "      <th>qty</th>\n",
       "      <th>channel</th>\n",
       "      <th>rating</th>\n",
       "      <th>revenue</th>\n",
       "    </tr>\n",
       "  </thead>\n",
       "  <tbody>\n",
       "    <tr>\n",
       "      <th>0</th>\n",
       "      <td>1</td>\n",
       "      <td>2025-01-01</td>\n",
       "      <td>Vilnius</td>\n",
       "      <td>A</td>\n",
       "      <td>Widget</td>\n",
       "      <td>19.99</td>\n",
       "      <td>2</td>\n",
       "      <td>online</td>\n",
       "      <td>5</td>\n",
       "      <td>39.98</td>\n",
       "    </tr>\n",
       "    <tr>\n",
       "      <th>1</th>\n",
       "      <td>2</td>\n",
       "      <td>2025-01-01</td>\n",
       "      <td>Kaunas</td>\n",
       "      <td>B</td>\n",
       "      <td>Gadget</td>\n",
       "      <td>29.50</td>\n",
       "      <td>1</td>\n",
       "      <td>offline</td>\n",
       "      <td>4</td>\n",
       "      <td>29.50</td>\n",
       "    </tr>\n",
       "    <tr>\n",
       "      <th>2</th>\n",
       "      <td>3</td>\n",
       "      <td>2025-01-02</td>\n",
       "      <td>Klaipėda</td>\n",
       "      <td>A</td>\n",
       "      <td>Widget</td>\n",
       "      <td>18.49</td>\n",
       "      <td>3</td>\n",
       "      <td>online</td>\n",
       "      <td>5</td>\n",
       "      <td>55.47</td>\n",
       "    </tr>\n",
       "    <tr>\n",
       "      <th>3</th>\n",
       "      <td>4</td>\n",
       "      <td>2025-01-03</td>\n",
       "      <td>Šiauliai</td>\n",
       "      <td>C</td>\n",
       "      <td>Thing</td>\n",
       "      <td>9.99</td>\n",
       "      <td>5</td>\n",
       "      <td>offline</td>\n",
       "      <td>3</td>\n",
       "      <td>49.95</td>\n",
       "    </tr>\n",
       "    <tr>\n",
       "      <th>4</th>\n",
       "      <td>5</td>\n",
       "      <td>2025-01-03</td>\n",
       "      <td>Panevėžys</td>\n",
       "      <td>B</td>\n",
       "      <td>Gadget</td>\n",
       "      <td>31.00</td>\n",
       "      <td>1</td>\n",
       "      <td>online</td>\n",
       "      <td>4</td>\n",
       "      <td>31.00</td>\n",
       "    </tr>\n",
       "  </tbody>\n",
       "</table>\n",
       "</div>"
      ],
      "text/plain": [
       "   order_id       date       city category product  price  qty  channel  \\\n",
       "0         1 2025-01-01    Vilnius        A  Widget  19.99    2   online   \n",
       "1         2 2025-01-01     Kaunas        B  Gadget  29.50    1  offline   \n",
       "2         3 2025-01-02   Klaipėda        A  Widget  18.49    3   online   \n",
       "3         4 2025-01-03   Šiauliai        C   Thing   9.99    5  offline   \n",
       "4         5 2025-01-03  Panevėžys        B  Gadget  31.00    1   online   \n",
       "\n",
       "   rating  revenue  \n",
       "0       5    39.98  \n",
       "1       4    29.50  \n",
       "2       5    55.47  \n",
       "3       3    49.95  \n",
       "4       4    31.00  "
      ]
     },
     "metadata": {},
     "output_type": "display_data"
    },
    {
     "data": {
      "text/html": [
       "<div>\n",
       "<style scoped>\n",
       "    .dataframe tbody tr th:only-of-type {\n",
       "        vertical-align: middle;\n",
       "    }\n",
       "\n",
       "    .dataframe tbody tr th {\n",
       "        vertical-align: top;\n",
       "    }\n",
       "\n",
       "    .dataframe thead th {\n",
       "        text-align: right;\n",
       "    }\n",
       "</style>\n",
       "<table border=\"1\" class=\"dataframe\">\n",
       "  <thead>\n",
       "    <tr style=\"text-align: right;\">\n",
       "      <th></th>\n",
       "      <th>category</th>\n",
       "      <th>avg_price</th>\n",
       "    </tr>\n",
       "  </thead>\n",
       "  <tbody>\n",
       "    <tr>\n",
       "      <th>0</th>\n",
       "      <td>A</td>\n",
       "      <td>20.115000</td>\n",
       "    </tr>\n",
       "    <tr>\n",
       "      <th>1</th>\n",
       "      <td>B</td>\n",
       "      <td>29.496667</td>\n",
       "    </tr>\n",
       "    <tr>\n",
       "      <th>2</th>\n",
       "      <td>C</td>\n",
       "      <td>10.656667</td>\n",
       "    </tr>\n",
       "  </tbody>\n",
       "</table>\n",
       "</div>"
      ],
      "text/plain": [
       "  category  avg_price\n",
       "0        A  20.115000\n",
       "1        B  29.496667\n",
       "2        C  10.656667"
      ]
     },
     "metadata": {},
     "output_type": "display_data"
    }
   ],
   "source": [
    "# Kaip lentelė atrodo\n",
    "display(df.head())\n",
    "\n",
    "# Greita agregacija: vidutinė kaina pagal kategoriją\n",
    "agg = df.groupby(\"category\", as_index=False)[\"price\"].mean().rename(columns={\"price\":\"avg_price\"})\n",
    "display(agg)"
   ]
  },
  {
   "cell_type": "markdown",
   "id": "fa4bff68",
   "metadata": {},
   "source": [
    "## 3) SciPy – statistika ir testai\n",
    "\n",
    "**Kam skirta:** hipotezių testai, paskirstymai, optimizavimas.\n"
   ]
  },
  {
   "cell_type": "code",
   "execution_count": 6,
   "id": "0fec9624",
   "metadata": {},
   "outputs": [
    {
     "name": "stdout",
     "output_type": "stream",
     "text": [
      "t=-8.765, p=0.0010\n"
     ]
    }
   ],
   "source": [
    "from scipy import stats\n",
    "\n",
    "# Pvz.: ar A ir B kategorijų kainų vidurkiai skiriasi? (t-testas, demonstracinis)\n",
    "a_prices = df.loc[df[\"category\"]==\"A\",\"price\"]\n",
    "b_prices = df.loc[df[\"category\"]==\"B\",\"price\"]\n",
    "t, p = stats.ttest_ind(a_prices, b_prices, equal_var=False)\n",
    "print(f\"t={t:.3f}, p={p:.4f}\")"
   ]
  },
  {
   "cell_type": "code",
   "execution_count": 7,
   "id": "af7d8ea5",
   "metadata": {},
   "outputs": [
    {
     "name": "stdout",
     "output_type": "stream",
     "text": [
      "Vidurkis_A:20.115\n",
      "Vidurkis_B:29.496666666666666\n"
     ]
    }
   ],
   "source": [
    "print(f\"Vidurkis_A:{a_prices.mean()}\")\n",
    "print(f'Vidurkis_B:{b_prices.mean()}')"
   ]
  },
  {
   "cell_type": "markdown",
   "id": "32afe0a3",
   "metadata": {},
   "source": [
    "## 4) matplotlib – bazinė vizualizacija\n",
    "\n",
    "**Kam skirta:** linijinės, stulpelinės, sklaidos diagramos; pritaikomos ašys ir anotacijos.\n"
   ]
  },
  {
   "cell_type": "code",
   "execution_count": 8,
   "id": "61737055",
   "metadata": {},
   "outputs": [
    {
     "data": {
      "image/png": "[encoded data removed]",
      "text/plain": [
       "<Figure size 640x480 with 1 Axes>"
      ]
     },
     "metadata": {},
     "output_type": "display_data"
    }
   ],
   "source": [
    "import matplotlib.pyplot as plt\n",
    "\n",
    "avg_rev = df.groupby(\"category\")[\"revenue\"].mean()\n",
    "plt.figure()\n",
    "avg_rev.plot(kind=\"bar\")\n",
    "plt.title(\"Vidutinės pajamos pagal kategoriją\")\n",
    "plt.xlabel(\"Kategorija\"); plt.ylabel(\"Pajamos\")\n",
    "plt.grid(True, axis=\"y\")\n",
    "plt.show()"
   ]
  },
  {
   "cell_type": "markdown",
   "id": "8498bbac",
   "metadata": {},
   "source": [
    "## 5) seaborn – statistinė vizualizacija\n",
    "\n",
    "**Kam skirta:** greiti, estetiški grafikai ant matplotlib: paskirstymai, ryšiai, heatmap'AI.\n"
   ]
  },
  {
   "cell_type": "code",
   "execution_count": 9,
   "id": "17d8d30c",
   "metadata": {},
   "outputs": [
    {
     "data": {
      "text/plain": [
       "<Axes: xlabel='price', ylabel='qty'>"
      ]
     },
     "execution_count": 9,
     "metadata": {},
     "output_type": "execute_result"
    },
    {
     "data": {
      "image/png": "[encoded data removed]",
      "text/plain": [
       "<Figure size 640x480 with 1 Axes>"
      ]
     },
     "metadata": {},
     "output_type": "display_data"
    }
   ],
   "source": [
    "import seaborn as sns\n",
    "\n",
    "sns.scatterplot(data=df, x=\"price\", y=\"qty\", hue=\"category\")"
   ]
  },
  {
   "cell_type": "code",
   "execution_count": 10,
   "id": "1b7c3706",
   "metadata": {},
   "outputs": [
    {
     "data": {
      "text/plain": [
       "<Axes: xlabel='category', ylabel='revenue'>"
      ]
     },
     "execution_count": 10,
     "metadata": {},
     "output_type": "execute_result"
    },
    {
     "data": {
      "image/png": "[encoded data removed]",
      "text/plain": [
       "<Figure size 640x480 with 1 Axes>"
      ]
     },
     "metadata": {},
     "output_type": "display_data"
    }
   ],
   "source": [
    "sns.boxplot(data=df, x=\"category\", y=\"revenue\")"
   ]
  },
  {
   "cell_type": "code",
   "execution_count": 11,
   "id": "ea11aae7",
   "metadata": {},
   "outputs": [
    {
     "name": "stdout",
     "output_type": "stream",
     "text": [
      "            price       qty   revenue    rating\n",
      "price    1.000000 -0.853450 -0.474724  0.502203\n",
      "qty     -0.853450  1.000000  0.795890 -0.688247\n",
      "revenue -0.474724  0.795890  1.000000 -0.470181\n",
      "rating   0.502203 -0.688247 -0.470181  1.000000\n"
     ]
    },
    {
     "data": {
      "image/png": "[encoded data removed]",
      "text/plain": [
       "<Figure size 640x480 with 2 Axes>"
      ]
     },
     "metadata": {},
     "output_type": "display_data"
    }
   ],
   "source": [
    "corr = df[[\"price\", \"qty\", \"revenue\", \"rating\"]].corr()\n",
    "print(corr)\n",
    "sns.heatmap(corr, annot=True, cmap=\"coolwarm\")\n",
    "plt.title(\"Koreliacijų matrica\")\n",
    "plt.show()"
   ]
  },
  {
   "cell_type": "markdown",
   "id": "2832bcc7",
   "metadata": {},
   "source": [
    "## 6) Plotly – interaktyvūs grafikai\n",
    "\n",
    "**Kam skirta:** priartinimas, „hover“, filtravimas – patogu dalintis HTML formatu.\n"
   ]
  },
  {
   "cell_type": "code",
   "execution_count": null,
   "id": "1a18a77d",
   "metadata": {},
   "outputs": [
    {
     "name": "stdout",
     "output_type": "stream",
     "text": [
      "Requirement already satisfied: plotly in c:\\users\\krist\\appdata\\local\\programs\\python\\python313\\lib\\site-packages (6.2.0)\n",
      "Requirement already satisfied: narwhals>=1.15.1 in c:\\users\\krist\\appdata\\local\\programs\\python\\python313\\lib\\site-packages (from plotly) (2.1.1)\n",
      "Requirement already satisfied: packaging in c:\\users\\krist\\appdata\\roaming\\python\\python313\\site-packages (from plotly) (25.0)\n",
      "Note: you may need to restart the kernel to use updated packages.\n"
     ]
    },
    {
     "name": "stderr",
     "output_type": "stream",
     "text": [
      "\n",
      "[notice] A new release of pip is available: 25.1.1 -> 25.2\n",
      "[notice] To update, run: python.exe -m pip install --upgrade pip\n"
     ]
    }
   ],
   "source": [
    "# pip install plotly"
   ]
  },
  {
   "cell_type": "code",
   "execution_count": null,
   "id": "1e914eb0",
   "metadata": {},
   "outputs": [],
   "source": [
    "# pip install nbformat"
   ]
  },
  {
   "cell_type": "code",
   "execution_count": 22,
   "id": "a92097fb",
   "metadata": {},
   "outputs": [
    {
     "data": {
      "application/vnd.plotly.v1+json": {
       "config": {
        "plotlyServerURL": "https://plot.ly"
       },
       "data": [
        {
         "customdata": [
          [
           "Vilnius",
           "Widget",
           2
          ],
          [
           "Klaipėda",
           "Widget",
           3
          ],
          [
           "Kaunas",
           "Widget",
           1
          ],
          [
           "Panevėžys",
           "Widget",
           1
          ]
         ],
         "hovertemplate": "category=A<br>price=%{x}<br>revenue=%{y}<br>city=%{customdata[0]}<br>product=%{customdata[1]}<br>qty=%{customdata[2]}<extra></extra>",
         "legendgroup": "A",
         "marker": {
          "color": "#636efa",
          "symbol": "circle"
         },
         "mode": "markers",
         "name": "A",
         "orientation": "v",
         "showlegend": true,
         "type": "scatter",
         "x": {
          "bdata": "PQrXo3D9M0A9CtejcH0yQD0K16NwfTRAPQrXo3B9NUA=",
          "dtype": "f8"
         },
         "xaxis": "x",
         "y": {
          "bdata": "PQrXo3D9Q0Bcj8L1KLxLQD0K16NwfTRAPQrXo3B9NUA=",
          "dtype": "f8"
         },
         "yaxis": "y"
        },
        {
         "customdata": [
          [
           "Kaunas",
           "Gadget",
           1
          ],
          [
           "Panevėžys",
           "Gadget",
           1
          ],
          [
           "Klaipėda",
           "Gadget",
           2
          ]
         ],
         "hovertemplate": "category=B<br>price=%{x}<br>revenue=%{y}<br>city=%{customdata[0]}<br>product=%{customdata[1]}<br>qty=%{customdata[2]}<extra></extra>",
         "legendgroup": "B",
         "marker": {
          "color": "#EF553B",
          "symbol": "circle"
         },
         "mode": "markers",
         "name": "B",
         "orientation": "v",
         "showlegend": true,
         "type": "scatter",
         "x": {
          "bdata": "AAAAAACAPUAAAAAAAAA/QD0K16Nw/TtA",
          "dtype": "f8"
         },
         "xaxis": "x",
         "y": {
          "bdata": "AAAAAACAPUAAAAAAAAA/QD0K16Nw/UtA",
          "dtype": "f8"
         },
         "yaxis": "y"
        },
        {
         "customdata": [
          [
           "Šiauliai",
           "Thing",
           5
          ],
          [
           "Vilnius",
           "Thing",
           4
          ],
          [
           "Šiauliai",
           "Thing",
           6
          ]
         ],
         "hovertemplate": "category=C<br>price=%{x}<br>revenue=%{y}<br>city=%{customdata[0]}<br>product=%{customdata[1]}<br>qty=%{customdata[2]}<extra></extra>",
         "legendgroup": "C",
         "marker": {
          "color": "#00cc96",
          "symbol": "circle"
         },
         "mode": "markers",
         "name": "C",
         "orientation": "v",
         "showlegend": true,
         "type": "scatter",
         "x": {
          "bdata": "exSuR+H6I0B7FK5H4fomQHsUrkfh+iRA",
          "dtype": "f8"
         },
         "xaxis": "x",
         "y": {
          "bdata": "mpmZmZn5SEB7FK5H4fpGQLgehetReE9A",
          "dtype": "f8"
         },
         "yaxis": "y"
        }
       ],
       "layout": {
        "legend": {
         "title": {
          "text": "category"
         },
         "tracegroupgap": 0
        },
        "margin": {
         "t": 60
        },
        "template": {
         "data": {
          "bar": [
           {
            "error_x": {
             "color": "#2a3f5f"
            },
            "error_y": {
             "color": "#2a3f5f"
            },
            "marker": {
             "line": {
              "color": "#E5ECF6",
              "width": 0.5
             },
             "pattern": {
              "fillmode": "overlay",
              "size": 10,
              "solidity": 0.2
             }
            },
            "type": "bar"
           }
          ],
          "barpolar": [
           {
            "marker": {
             "line": {
              "color": "#E5ECF6",
              "width": 0.5
             },
             "pattern": {
              "fillmode": "overlay",
              "size": 10,
              "solidity": 0.2
             }
            },
            "type": "barpolar"
           }
          ],
          "carpet": [
           {
            "aaxis": {
             "endlinecolor": "#2a3f5f",
             "gridcolor": "white",
             "linecolor": "white",
             "minorgridcolor": "white",
             "startlinecolor": "#2a3f5f"
            },
            "baxis": {
             "endlinecolor": "#2a3f5f",
             "gridcolor": "white",
             "linecolor": "white",
             "minorgridcolor": "white",
             "startlinecolor": "#2a3f5f"
            },
            "type": "carpet"
           }
          ],
          "choropleth": [
           {
            "colorbar": {
             "outlinewidth": 0,
             "ticks": ""
            },
            "type": "choropleth"
           }
          ],
          "contour": [
           {
            "colorbar": {
             "outlinewidth": 0,
             "ticks": ""
            },
            "colorscale": [
             [
              0,
              "#0d0887"
             ],
             [
              0.1111111111111111,
              "#46039f"
             ],
             [
              0.2222222222222222,
              "#7201a8"
             ],
             [
              0.3333333333333333,
              "#9c179e"
             ],
             [
              0.4444444444444444,
              "#bd3786"
             ],
             [
              0.5555555555555556,
              "#d8576b"
             ],
             [
              0.6666666666666666,
              "#ed7953"
             ],
             [
              0.7777777777777778,
              "#fb9f3a"
             ],
             [
              0.8888888888888888,
              "#fdca26"
             ],
             [
              1,
              "#f0f921"
             ]
            ],
            "type": "contour"
           }
          ],
          "contourcarpet": [
           {
            "colorbar": {
             "outlinewidth": 0,
             "ticks": ""
            },
            "type": "contourcarpet"
           }
          ],
          "heatmap": [
           {
            "colorbar": {
             "outlinewidth": 0,
             "ticks": ""
            },
            "colorscale": [
             [
              0,
              "#0d0887"
             ],
             [
              0.1111111111111111,
              "#46039f"
             ],
             [
              0.2222222222222222,
              "#7201a8"
             ],
             [
              0.3333333333333333,
              "#9c179e"
             ],
             [
              0.4444444444444444,
              "#bd3786"
             ],
             [
              0.5555555555555556,
              "#d8576b"
             ],
             [
              0.6666666666666666,
              "#ed7953"
             ],
             [
              0.7777777777777778,
              "#fb9f3a"
             ],
             [
              0.8888888888888888,
              "#fdca26"
             ],
             [
              1,
              "#f0f921"
             ]
            ],
            "type": "heatmap"
           }
          ],
          "histogram": [
           {
            "marker": {
             "pattern": {
              "fillmode": "overlay",
              "size": 10,
              "solidity": 0.2
             }
            },
            "type": "histogram"
           }
          ],
          "histogram2d": [
           {
            "colorbar": {
             "outlinewidth": 0,
             "ticks": ""
            },
            "colorscale": [
             [
              0,
              "#0d0887"
             ],
             [
              0.1111111111111111,
              "#46039f"
             ],
             [
              0.2222222222222222,
              "#7201a8"
             ],
             [
              0.3333333333333333,
              "#9c179e"
             ],
             [
              0.4444444444444444,
              "#bd3786"
             ],
             [
              0.5555555555555556,
              "#d8576b"
             ],
             [
              0.6666666666666666,
              "#ed7953"
             ],
             [
              0.7777777777777778,
              "#fb9f3a"
             ],
             [
              0.8888888888888888,
              "#fdca26"
             ],
             [
              1,
              "#f0f921"
             ]
            ],
            "type": "histogram2d"
           }
          ],
          "histogram2dcontour": [
           {
            "colorbar": {
             "outlinewidth": 0,
             "ticks": ""
            },
            "colorscale": [
             [
              0,
              "#0d0887"
             ],
             [
              0.1111111111111111,
              "#46039f"
             ],
             [
              0.2222222222222222,
              "#7201a8"
             ],
             [
              0.3333333333333333,
              "#9c179e"
             ],
             [
              0.4444444444444444,
              "#bd3786"
             ],
             [
              0.5555555555555556,
              "#d8576b"
             ],
             [
              0.6666666666666666,
              "#ed7953"
             ],
             [
              0.7777777777777778,
              "#fb9f3a"
             ],
             [
              0.8888888888888888,
              "#fdca26"
             ],
             [
              1,
              "#f0f921"
             ]
            ],
            "type": "histogram2dcontour"
           }
          ],
          "mesh3d": [
           {
            "colorbar": {
             "outlinewidth": 0,
             "ticks": ""
            },
            "type": "mesh3d"
           }
          ],
          "parcoords": [
           {
            "line": {
             "colorbar": {
              "outlinewidth": 0,
              "ticks": ""
             }
            },
            "type": "parcoords"
           }
          ],
          "pie": [
           {
            "automargin": true,
            "type": "pie"
           }
          ],
          "scatter": [
           {
            "fillpattern": {
             "fillmode": "overlay",
             "size": 10,
             "solidity": 0.2
            },
            "type": "scatter"
           }
          ],
          "scatter3d": [
           {
            "line": {
             "colorbar": {
              "outlinewidth": 0,
              "ticks": ""
             }
            },
            "marker": {
             "colorbar": {
              "outlinewidth": 0,
              "ticks": ""
             }
            },
            "type": "scatter3d"
           }
          ],
          "scattercarpet": [
           {
            "marker": {
             "colorbar": {
              "outlinewidth": 0,
              "ticks": ""
             }
            },
            "type": "scattercarpet"
           }
          ],
          "scattergeo": [
           {
            "marker": {
             "colorbar": {
              "outlinewidth": 0,
              "ticks": ""
             }
            },
            "type": "scattergeo"
           }
          ],
          "scattergl": [
           {
            "marker": {
             "colorbar": {
              "outlinewidth": 0,
              "ticks": ""
             }
            },
            "type": "scattergl"
           }
          ],
          "scattermap": [
           {
            "marker": {
             "colorbar": {
              "outlinewidth": 0,
              "ticks": ""
             }
            },
            "type": "scattermap"
           }
          ],
          "scattermapbox": [
           {
            "marker": {
             "colorbar": {
              "outlinewidth": 0,
              "ticks": ""
             }
            },
            "type": "scattermapbox"
           }
          ],
          "scatterpolar": [
           {
            "marker": {
             "colorbar": {
              "outlinewidth": 0,
              "ticks": ""
             }
            },
            "type": "scatterpolar"
           }
          ],
          "scatterpolargl": [
           {
            "marker": {
             "colorbar": {
              "outlinewidth": 0,
              "ticks": ""
             }
            },
            "type": "scatterpolargl"
           }
          ],
          "scatterternary": [
           {
            "marker": {
             "colorbar": {
              "outlinewidth": 0,
              "ticks": ""
             }
            },
            "type": "scatterternary"
           }
          ],
          "surface": [
           {
            "colorbar": {
             "outlinewidth": 0,
             "ticks": ""
            },
            "colorscale": [
             [
              0,
              "#0d0887"
             ],
             [
              0.1111111111111111,
              "#46039f"
             ],
             [
              0.2222222222222222,
              "#7201a8"
             ],
             [
              0.3333333333333333,
              "#9c179e"
             ],
             [
              0.4444444444444444,
              "#bd3786"
             ],
             [
              0.5555555555555556,
              "#d8576b"
             ],
             [
              0.6666666666666666,
              "#ed7953"
             ],
             [
              0.7777777777777778,
              "#fb9f3a"
             ],
             [
              0.8888888888888888,
              "#fdca26"
             ],
             [
              1,
              "#f0f921"
             ]
            ],
            "type": "surface"
           }
          ],
          "table": [
           {
            "cells": {
             "fill": {
              "color": "#EBF0F8"
             },
             "line": {
              "color": "white"
             }
            },
            "header": {
             "fill": {
              "color": "#C8D4E3"
             },
             "line": {
              "color": "white"
             }
            },
            "type": "table"
           }
          ]
         },
         "layout": {
          "annotationdefaults": {
           "arrowcolor": "#2a3f5f",
           "arrowhead": 0,
           "arrowwidth": 1
          },
          "autotypenumbers": "strict",
          "coloraxis": {
           "colorbar": {
            "outlinewidth": 0,
            "ticks": ""
           }
          },
          "colorscale": {
           "diverging": [
            [
             0,
             "#8e0152"
            ],
            [
             0.1,
             "#c51b7d"
            ],
            [
             0.2,
             "#de77ae"
            ],
            [
             0.3,
             "#f1b6da"
            ],
            [
             0.4,
             "#fde0ef"
            ],
            [
             0.5,
             "#f7f7f7"
            ],
            [
             0.6,
             "#e6f5d0"
            ],
            [
             0.7,
             "#b8e186"
            ],
            [
             0.8,
             "#7fbc41"
            ],
            [
             0.9,
             "#4d9221"
            ],
            [
             1,
             "#276419"
            ]
           ],
           "sequential": [
            [
             0,
             "#0d0887"
            ],
            [
             0.1111111111111111,
             "#46039f"
            ],
            [
             0.2222222222222222,
             "#7201a8"
            ],
            [
             0.3333333333333333,
             "#9c179e"
            ],
            [
             0.4444444444444444,
             "#bd3786"
            ],
            [
             0.5555555555555556,
             "#d8576b"
            ],
            [
             0.6666666666666666,
             "#ed7953"
            ],
            [
             0.7777777777777778,
             "#fb9f3a"
            ],
            [
             0.8888888888888888,
             "#fdca26"
            ],
            [
             1,
             "#f0f921"
            ]
           ],
           "sequentialminus": [
            [
             0,
             "#0d0887"
            ],
            [
             0.1111111111111111,
             "#46039f"
            ],
            [
             0.2222222222222222,
             "#7201a8"
            ],
            [
             0.3333333333333333,
             "#9c179e"
            ],
            [
             0.4444444444444444,
             "#bd3786"
            ],
            [
             0.5555555555555556,
             "#d8576b"
            ],
            [
             0.6666666666666666,
             "#ed7953"
            ],
            [
             0.7777777777777778,
             "#fb9f3a"
            ],
            [
             0.8888888888888888,
             "#fdca26"
            ],
            [
             1,
             "#f0f921"
            ]
           ]
          },
          "colorway": [
           "#636efa",
           "#EF553B",
           "#00cc96",
           "#ab63fa",
           "#FFA15A",
           "#19d3f3",
           "#FF6692",
           "#B6E880",
           "#FF97FF",
           "#FECB52"
          ],
          "font": {
           "color": "#2a3f5f"
          },
          "geo": {
           "bgcolor": "white",
           "lakecolor": "white",
           "landcolor": "#E5ECF6",
           "showlakes": true,
           "showland": true,
           "subunitcolor": "white"
          },
          "hoverlabel": {
           "align": "left"
          },
          "hovermode": "closest",
          "mapbox": {
           "style": "light"
          },
          "paper_bgcolor": "white",
          "plot_bgcolor": "#E5ECF6",
          "polar": {
           "angularaxis": {
            "gridcolor": "white",
            "linecolor": "white",
            "ticks": ""
           },
           "bgcolor": "#E5ECF6",
           "radialaxis": {
            "gridcolor": "white",
            "linecolor": "white",
            "ticks": ""
           }
          },
          "scene": {
           "xaxis": {
            "backgroundcolor": "#E5ECF6",
            "gridcolor": "white",
            "gridwidth": 2,
            "linecolor": "white",
            "showbackground": true,
            "ticks": "",
            "zerolinecolor": "white"
           },
           "yaxis": {
            "backgroundcolor": "#E5ECF6",
            "gridcolor": "white",
            "gridwidth": 2,
            "linecolor": "white",
            "showbackground": true,
            "ticks": "",
            "zerolinecolor": "white"
           },
           "zaxis": {
            "backgroundcolor": "#E5ECF6",
            "gridcolor": "white",
            "gridwidth": 2,
            "linecolor": "white",
            "showbackground": true,
            "ticks": "",
            "zerolinecolor": "white"
           }
          },
          "shapedefaults": {
           "line": {
            "color": "#2a3f5f"
           }
          },
          "ternary": {
           "aaxis": {
            "gridcolor": "white",
            "linecolor": "white",
            "ticks": ""
           },
           "baxis": {
            "gridcolor": "white",
            "linecolor": "white",
            "ticks": ""
           },
           "bgcolor": "#E5ECF6",
           "caxis": {
            "gridcolor": "white",
            "linecolor": "white",
            "ticks": ""
           }
          },
          "title": {
           "x": 0.05
          },
          "xaxis": {
           "automargin": true,
           "gridcolor": "white",
           "linecolor": "white",
           "ticks": "",
           "title": {
            "standoff": 15
           },
           "zerolinecolor": "white",
           "zerolinewidth": 2
          },
          "yaxis": {
           "automargin": true,
           "gridcolor": "white",
           "linecolor": "white",
           "ticks": "",
           "title": {
            "standoff": 15
           },
           "zerolinecolor": "white",
           "zerolinewidth": 2
          }
         }
        },
        "title": {
         "text": "Interaktyvus: kaina vs pajamos"
        },
        "xaxis": {
         "anchor": "y",
         "domain": [
          0,
          1
         ],
         "title": {
          "text": "price"
         }
        },
        "yaxis": {
         "anchor": "x",
         "domain": [
          0,
          1
         ],
         "title": {
          "text": "revenue"
         }
        }
       }
      }
     },
     "metadata": {},
     "output_type": "display_data"
    }
   ],
   "source": [
    "import plotly.express as px\n",
    "\n",
    "fig = px.scatter(df, x=\"price\", y=\"revenue\", color=\"category\",\n",
    "                hover_data=[\"city\",\"product\",\"qty\"])\n",
    "fig.update_layout(title=\"Interaktyvus: kaina vs pajamos\")\n",
    "fig.show()"
   ]
  },
  {
   "cell_type": "markdown",
   "id": "4bdffae4",
   "metadata": {},
   "source": [
    "## 7) scikit-learn – ML pagrindai (regresija)\n",
    "\n",
    "**Kam skirta:** „tabular“ ML, paruošimas, skirstymas į train/test, metrikos.\n"
   ]
  },
  {
   "cell_type": "code",
   "execution_count": 23,
   "id": "7f4d4230",
   "metadata": {},
   "outputs": [
    {
     "name": "stdout",
     "output_type": "stream",
     "text": [
      "RMSE: 4.48910321803272\n"
     ]
    }
   ],
   "source": [
    "from sklearn.model_selection import train_test_split\n",
    "from sklearn.preprocessing import OneHotEncoder, StandardScaler\n",
    "from sklearn.compose import ColumnTransformer\n",
    "from sklearn.pipeline import Pipeline\n",
    "from sklearn.linear_model import LinearRegression\n",
    "from sklearn.metrics import mean_squared_error\n",
    "\n",
    "X = df[[\"price\",\"qty\",\"city\",\"category\",\"channel\"]]\n",
    "y = df[\"revenue\"]\n",
    "\n",
    "num = [\"price\",\"qty\"]\n",
    "cat = [\"city\",\"category\",\"channel\"]\n",
    "\n",
    "pre = ColumnTransformer([\n",
    "    (\"num\", StandardScaler(), num),\n",
    "    (\"cat\", OneHotEncoder(handle_unknown=\"ignore\"), cat)\n",
    "])\n",
    "\n",
    "pipe = Pipeline([(\"pre\", pre), (\"model\", LinearRegression())])\n",
    "\n",
    "X_tr, X_te, y_tr, y_te = train_test_split(X, y, test_size=0.3, random_state=42)\n",
    "\n",
    "pipe.fit(X_tr, y_tr)\n",
    "pred = pipe.predict(X_te)\n",
    "\n",
    "mse = mean_squared_error(y_te, pred) \n",
    "rmse = mse ** 0.5\n",
    "print(\"RMSE:\", rmse)\n"
   ]
  },
  {
   "cell_type": "markdown",
   "id": "78717dec",
   "metadata": {},
   "source": [
    "## 8) XGBoost – ml modelis\n",
    "\n",
    "**Kam skirta:** mašininio mokymosi modelis, dažnai naudojamas duomenų mokslo konkursuose\n"
   ]
  },
  {
   "cell_type": "code",
   "execution_count": 16,
   "id": "7bbf8560",
   "metadata": {},
   "outputs": [
    {
     "name": "stdout",
     "output_type": "stream",
     "text": [
      "Klaida: No module named 'xgboost'\n"
     ]
    }
   ],
   "source": [
    "# %pip install xgboost  # jei reikia\n",
    "try:\n",
    "    from xgboost import XGBRegressor\n",
    "    from sklearn.metrics import mean_squared_error\n",
    "\n",
    "    Xtr = pipe.named_steps[\"pre\"].fit_transform(X_tr)\n",
    "    Xte = pipe.named_steps[\"pre\"].transform(X_te)\n",
    "\n",
    "    model = XGBRegressor(n_estimators=200, max_depth=3, learning_rate=0.1, subsample=0.9)\n",
    "    model.fit(Xtr, y_tr)\n",
    "    xgb_pred = model.predict(Xte)\n",
    "\n",
    "    mse = mean_squared_error(y_te, xgb_pred) \n",
    "    rmse = mse ** 0.5\n",
    "    print(\"XGBoost RMSE:\", rmse)\n",
    "except Exception as e:\n",
    "    print(\"Klaida:\", e)\n"
   ]
  },
  {
   "cell_type": "markdown",
   "id": "13908565",
   "metadata": {},
   "source": [
    "## 9) statsmodels – statistiniai modeliai ir santraukos\n",
    "\n",
    "**Kam skirta:** OLS/logistinė regresija, hipotezės, p-reikšmės, pasitikėjimo intervalai.\n"
   ]
  },
  {
   "cell_type": "code",
   "execution_count": 17,
   "id": "b77a40b0",
   "metadata": {},
   "outputs": [
    {
     "name": "stdout",
     "output_type": "stream",
     "text": [
      "                            OLS Regression Results                            \n",
      "==============================================================================\n",
      "Dep. Variable:                revenue   R-squared:                       0.787\n",
      "Model:                            OLS   Adj. R-squared:                  0.727\n",
      "Method:                 Least Squares   F-statistic:                     12.97\n",
      "Date:                Tue, 12 Aug 2025   Prob (F-statistic):            0.00443\n",
      "Time:                        18:26:46   Log-Likelihood:                -33.071\n",
      "No. Observations:                  10   AIC:                             72.14\n",
      "Df Residuals:                       7   BIC:                             73.05\n",
      "Df Model:                           2                                         \n",
      "Covariance Type:            nonrobust                                         \n",
      "==============================================================================\n",
      "                 coef    std err          t      P>|t|      [0.025      0.975]\n",
      "------------------------------------------------------------------------------\n",
      "const        -18.8928     19.682     -0.960      0.369     -65.434      27.648\n",
      "price          1.4646      0.650      2.252      0.059      -0.073       3.002\n",
      "qty           11.8235      2.748      4.302      0.004       5.325      18.322\n",
      "==============================================================================\n",
      "Omnibus:                        1.824   Durbin-Watson:                   2.838\n",
      "Prob(Omnibus):                  0.402   Jarque-Bera (JB):                1.237\n",
      "Skew:                           0.692   Prob(JB):                        0.539\n",
      "Kurtosis:                       1.973   Cond. No.                         171.\n",
      "==============================================================================\n",
      "\n",
      "Notes:\n",
      "[1] Standard Errors assume that the covariance matrix of the errors is correctly specified.\n"
     ]
    }
   ],
   "source": [
    "import statsmodels.api as sm\n",
    "\n",
    "X_sm = df[[\"price\",\"qty\"]]\n",
    "X_sm = sm.add_constant(X_sm)\n",
    "y_sm = df[\"revenue\"]\n",
    "model = sm.OLS(y_sm, X_sm).fit()\n",
    "print(model.summary())"
   ]
  },
  {
   "cell_type": "markdown",
   "id": "0aaf1dbb",
   "metadata": {},
   "source": [
    "## 10) TensorFlow / Keras – neuroninių tinklų pagrindai\n",
    "\n",
    "**Kam skirta:** neuroniniai tinklai, CNN, RNN; patogu prototipams su Keras.\n"
   ]
  },
  {
   "cell_type": "code",
   "execution_count": 18,
   "id": "a4bbd675",
   "metadata": {},
   "outputs": [
    {
     "name": "stdout",
     "output_type": "stream",
     "text": [
      "Klaida: No module named 'tensorflow'\n"
     ]
    }
   ],
   "source": [
    "# %pip install tensorflow keras  # jei reikia\n",
    "try:\n",
    "    import tensorflow as tf\n",
    "    from tensorflow import keras\n",
    "    from tensorflow.keras import layers\n",
    "\n",
    "    X_nn = pipe.named_steps[\"pre\"].fit_transform(X)\n",
    "    y_nn = y.values.astype(\"float32\")\n",
    "\n",
    "    model = keras.Sequential([\n",
    "        layers.Input(shape=(X_nn.shape[1],)),\n",
    "        layers.Dense(16, activation=\"relu\"),\n",
    "        layers.Dense(1)\n",
    "    ])\n",
    "    model.compile(optimizer=\"adam\", loss=\"mse\")\n",
    "    model.fit(X_nn, y_nn, epochs=5, batch_size=8, verbose=0)\n",
    "    print(\"TF/Keras – mokymas baigtas (demo).\")\n",
    "except Exception as e:\n",
    "    print(\"Klaida:\", e)"
   ]
  },
  {
   "cell_type": "markdown",
   "id": "2d3755f5",
   "metadata": {},
   "source": [
    "## 11) PyTorch – neuroniniai tinklai\n",
    "\n",
    "**Kam skirta:** neuroniniai tinklai\n"
   ]
  },
  {
   "cell_type": "code",
   "execution_count": 19,
   "id": "41261cfd",
   "metadata": {},
   "outputs": [
    {
     "name": "stdout",
     "output_type": "stream",
     "text": [
      "Klaida: No module named 'torch'\n"
     ]
    }
   ],
   "source": [
    "# %pip install torch torchvision torchaudio  # jei reikia\n",
    "try:\n",
    "    import torch\n",
    "    from torch import nn\n",
    "\n",
    "    X_pt = pipe.named_steps[\"pre\"].fit_transform(X)\n",
    "    X_pt = torch.tensor(np.asarray(X_pt).astype(\"float32\"))\n",
    "    y_pt = torch.tensor(y.values.astype(\"float32\")).unsqueeze(1)\n",
    "\n",
    "    net = nn.Sequential(nn.Linear(X_pt.shape[1], 16), nn.ReLU(), nn.Linear(16, 1))\n",
    "    optim = torch.optim.Adam(net.parameters(), lr=1e-2)\n",
    "    loss_fn = nn.MSELoss()\n",
    "\n",
    "    net.train()\n",
    "    for _ in range(50):\n",
    "        optim.zero_grad()\n",
    "        pred = net(X_pt)\n",
    "        loss = loss_fn(pred, y_pt)\n",
    "        loss.backward()\n",
    "        optim.step()\n",
    "    print(\"PyTorch – paskutinė MSE:\", float(loss.detach()))\n",
    "except Exception as e:\n",
    "    print(\"Klaida:\", e)"
   ]
  },
  {
   "cell_type": "markdown",
   "id": "edb23a7c",
   "metadata": {},
   "source": [
    "## 12) Web duomenys: requests + BeautifulSoup + Selenium\n",
    "\n",
    "**Kam skirta:** gauti HTML/JSON (requests), parsinti HTML (BeautifulSoup), automatizuoti (Selenium).\n"
   ]
  },
  {
   "cell_type": "code",
   "execution_count": 20,
   "id": "97942486",
   "metadata": {},
   "outputs": [],
   "source": [
    "# requests – struktūra (užkomentuota interneto vengimui)\n",
    "# import requests\n",
    "# resp = requests.get(\"https://example.com/api\", params={\"q\":\"demo\"}, timeout=10)\n",
    "# data = resp.json()\n",
    "\n",
    "# from bs4 import BeautifulSoup\n",
    "# html = \"\"\"<html><body><h1>Parduotuvė</h1><p>Kategorija: A</p></body></html>\"\"\"\n",
    "# soup = BeautifulSoup(html, \"html.parser\")\n",
    "# print(\"BeautifulSoup H1:\", soup.find(\"h1\").text)\n",
    "\n",
    "# Selenium – tipinis skeletas (užkomentuota)\n",
    "# from selenium import webdriver\n",
    "# from selenium.webdriver.common.by import By\n",
    "# driver = webdriver.Chrome()\n",
    "# driver.get(\"https://example.com\")\n",
    "# title = driver.find_element(By.TAG_NAME, \"h1\").text\n",
    "# print(\"H1:\", title)"
   ]
  },
  {
   "cell_type": "markdown",
   "id": "6c5e0c14",
   "metadata": {},
   "source": [
    "## 13) Duomenų bazės: SQLAlchemy / PyMySQL\n",
    "\n",
    "**Kam skirta:** jungtis prie DB, rašyti/užklausti duomenis. Pavaizduosime **SQLite per SQLAlchemy** (nereikia serverio).\n"
   ]
  },
  {
   "cell_type": "code",
   "execution_count": 25,
   "id": "f3e3dcfa",
   "metadata": {},
   "outputs": [
    {
     "name": "stdout",
     "output_type": "stream",
     "text": [
      "Collecting pymysql\n",
      "  Downloading PyMySQL-1.1.1-py3-none-any.whl.metadata (4.4 kB)\n",
      "Downloading PyMySQL-1.1.1-py3-none-any.whl (44 kB)\n",
      "Installing collected packages: pymysql\n",
      "Successfully installed pymysql-1.1.1\n",
      "Note: you may need to restart the kernel to use updated packages.\n"
     ]
    },
    {
     "name": "stderr",
     "output_type": "stream",
     "text": [
      "\n",
      "[notice] A new release of pip is available: 25.1.1 -> 25.2\n",
      "[notice] To update, run: python.exe -m pip install --upgrade pip\n"
     ]
    }
   ],
   "source": [
    "pip install pymysql"
   ]
  },
  {
   "cell_type": "code",
   "execution_count": 26,
   "id": "3e437b42",
   "metadata": {},
   "outputs": [
    {
     "name": "stdout",
     "output_type": "stream",
     "text": [
      "TOP 15 FILMŲ PAGAL NUOMŲ SKAIČIŲ:\n"
     ]
    },
    {
     "name": "stderr",
     "output_type": "stream",
     "text": [
      "C:\\Users\\krist\\AppData\\Local\\Temp\\ipykernel_29172\\3825572702.py:39: UserWarning:\n",
      "\n",
      "pandas only supports SQLAlchemy connectable (engine/connection) or database string URI or sqlite3 DBAPI2 connection. Other DBAPI2 objects are not tested. Please consider using SQLAlchemy.\n",
      "\n"
     ]
    },
    {
     "data": {
      "text/html": [
       "<div>\n",
       "<style scoped>\n",
       "    .dataframe tbody tr th:only-of-type {\n",
       "        vertical-align: middle;\n",
       "    }\n",
       "\n",
       "    .dataframe tbody tr th {\n",
       "        vertical-align: top;\n",
       "    }\n",
       "\n",
       "    .dataframe thead th {\n",
       "        text-align: right;\n",
       "    }\n",
       "</style>\n",
       "<table border=\"1\" class=\"dataframe\">\n",
       "  <thead>\n",
       "    <tr style=\"text-align: right;\">\n",
       "      <th></th>\n",
       "      <th>film_id</th>\n",
       "      <th>title</th>\n",
       "      <th>category</th>\n",
       "      <th>rentals</th>\n",
       "    </tr>\n",
       "  </thead>\n",
       "  <tbody>\n",
       "    <tr>\n",
       "      <th>0</th>\n",
       "      <td>103</td>\n",
       "      <td>BUCKET BROTHERHOOD</td>\n",
       "      <td>Travel</td>\n",
       "      <td>34</td>\n",
       "    </tr>\n",
       "    <tr>\n",
       "      <th>1</th>\n",
       "      <td>738</td>\n",
       "      <td>ROCKETEER MOTHER</td>\n",
       "      <td>Foreign</td>\n",
       "      <td>33</td>\n",
       "    </tr>\n",
       "    <tr>\n",
       "      <th>2</th>\n",
       "      <td>331</td>\n",
       "      <td>FORWARD TEMPLE</td>\n",
       "      <td>Games</td>\n",
       "      <td>32</td>\n",
       "    </tr>\n",
       "    <tr>\n",
       "      <th>3</th>\n",
       "      <td>382</td>\n",
       "      <td>GRIT CLOCKWORK</td>\n",
       "      <td>Games</td>\n",
       "      <td>32</td>\n",
       "    </tr>\n",
       "    <tr>\n",
       "      <th>4</th>\n",
       "      <td>489</td>\n",
       "      <td>JUGGLER HARDLY</td>\n",
       "      <td>Animation</td>\n",
       "      <td>32</td>\n",
       "    </tr>\n",
       "    <tr>\n",
       "      <th>5</th>\n",
       "      <td>730</td>\n",
       "      <td>RIDGEMONT SUBMARINE</td>\n",
       "      <td>New</td>\n",
       "      <td>32</td>\n",
       "    </tr>\n",
       "    <tr>\n",
       "      <th>6</th>\n",
       "      <td>767</td>\n",
       "      <td>SCALAWAG DUCK</td>\n",
       "      <td>Music</td>\n",
       "      <td>32</td>\n",
       "    </tr>\n",
       "    <tr>\n",
       "      <th>7</th>\n",
       "      <td>31</td>\n",
       "      <td>APACHE DIVINE</td>\n",
       "      <td>Family</td>\n",
       "      <td>31</td>\n",
       "    </tr>\n",
       "    <tr>\n",
       "      <th>8</th>\n",
       "      <td>369</td>\n",
       "      <td>GOODFELLAS SALUTE</td>\n",
       "      <td>Sci-Fi</td>\n",
       "      <td>31</td>\n",
       "    </tr>\n",
       "    <tr>\n",
       "      <th>9</th>\n",
       "      <td>418</td>\n",
       "      <td>HOBBIT ALIEN</td>\n",
       "      <td>Drama</td>\n",
       "      <td>31</td>\n",
       "    </tr>\n",
       "    <tr>\n",
       "      <th>10</th>\n",
       "      <td>621</td>\n",
       "      <td>NETWORK PEAK</td>\n",
       "      <td>Family</td>\n",
       "      <td>31</td>\n",
       "    </tr>\n",
       "    <tr>\n",
       "      <th>11</th>\n",
       "      <td>735</td>\n",
       "      <td>ROBBERS JOON</td>\n",
       "      <td>Children</td>\n",
       "      <td>31</td>\n",
       "    </tr>\n",
       "    <tr>\n",
       "      <th>12</th>\n",
       "      <td>753</td>\n",
       "      <td>RUSH GOODFELLAS</td>\n",
       "      <td>Family</td>\n",
       "      <td>31</td>\n",
       "    </tr>\n",
       "    <tr>\n",
       "      <th>13</th>\n",
       "      <td>891</td>\n",
       "      <td>TIMBERLAND SKY</td>\n",
       "      <td>Classics</td>\n",
       "      <td>31</td>\n",
       "    </tr>\n",
       "    <tr>\n",
       "      <th>14</th>\n",
       "      <td>973</td>\n",
       "      <td>WIFE TURN</td>\n",
       "      <td>Documentary</td>\n",
       "      <td>31</td>\n",
       "    </tr>\n",
       "  </tbody>\n",
       "</table>\n",
       "</div>"
      ],
      "text/plain": [
       "    film_id                title     category  rentals\n",
       "0       103   BUCKET BROTHERHOOD       Travel       34\n",
       "1       738     ROCKETEER MOTHER      Foreign       33\n",
       "2       331       FORWARD TEMPLE        Games       32\n",
       "3       382       GRIT CLOCKWORK        Games       32\n",
       "4       489       JUGGLER HARDLY    Animation       32\n",
       "5       730  RIDGEMONT SUBMARINE          New       32\n",
       "6       767        SCALAWAG DUCK        Music       32\n",
       "7        31        APACHE DIVINE       Family       31\n",
       "8       369    GOODFELLAS SALUTE       Sci-Fi       31\n",
       "9       418         HOBBIT ALIEN        Drama       31\n",
       "10      621         NETWORK PEAK       Family       31\n",
       "11      735         ROBBERS JOON     Children       31\n",
       "12      753      RUSH GOODFELLAS       Family       31\n",
       "13      891       TIMBERLAND SKY     Classics       31\n",
       "14      973            WIFE TURN  Documentary       31"
      ]
     },
     "metadata": {},
     "output_type": "display_data"
    },
    {
     "name": "stdout",
     "output_type": "stream",
     "text": [
      "\n",
      "PIRMOS 10 EILUČIŲ IŠ city:\n"
     ]
    },
    {
     "name": "stderr",
     "output_type": "stream",
     "text": [
      "C:\\Users\\krist\\AppData\\Local\\Temp\\ipykernel_29172\\3825572702.py:47: UserWarning:\n",
      "\n",
      "pandas only supports SQLAlchemy connectable (engine/connection) or database string URI or sqlite3 DBAPI2 connection. Other DBAPI2 objects are not tested. Please consider using SQLAlchemy.\n",
      "\n"
     ]
    },
    {
     "data": {
      "text/html": [
       "<div>\n",
       "<style scoped>\n",
       "    .dataframe tbody tr th:only-of-type {\n",
       "        vertical-align: middle;\n",
       "    }\n",
       "\n",
       "    .dataframe tbody tr th {\n",
       "        vertical-align: top;\n",
       "    }\n",
       "\n",
       "    .dataframe thead th {\n",
       "        text-align: right;\n",
       "    }\n",
       "</style>\n",
       "<table border=\"1\" class=\"dataframe\">\n",
       "  <thead>\n",
       "    <tr style=\"text-align: right;\">\n",
       "      <th></th>\n",
       "      <th>city_id</th>\n",
       "      <th>city</th>\n",
       "    </tr>\n",
       "  </thead>\n",
       "  <tbody>\n",
       "    <tr>\n",
       "      <th>0</th>\n",
       "      <td>1</td>\n",
       "      <td>A Corua (La Corua)</td>\n",
       "    </tr>\n",
       "    <tr>\n",
       "      <th>1</th>\n",
       "      <td>2</td>\n",
       "      <td>Abha</td>\n",
       "    </tr>\n",
       "    <tr>\n",
       "      <th>2</th>\n",
       "      <td>3</td>\n",
       "      <td>Abu Dhabi</td>\n",
       "    </tr>\n",
       "    <tr>\n",
       "      <th>3</th>\n",
       "      <td>4</td>\n",
       "      <td>Acua</td>\n",
       "    </tr>\n",
       "    <tr>\n",
       "      <th>4</th>\n",
       "      <td>5</td>\n",
       "      <td>Adana</td>\n",
       "    </tr>\n",
       "    <tr>\n",
       "      <th>5</th>\n",
       "      <td>6</td>\n",
       "      <td>Addis Abeba</td>\n",
       "    </tr>\n",
       "    <tr>\n",
       "      <th>6</th>\n",
       "      <td>7</td>\n",
       "      <td>Aden</td>\n",
       "    </tr>\n",
       "    <tr>\n",
       "      <th>7</th>\n",
       "      <td>8</td>\n",
       "      <td>Adoni</td>\n",
       "    </tr>\n",
       "    <tr>\n",
       "      <th>8</th>\n",
       "      <td>9</td>\n",
       "      <td>Ahmadnagar</td>\n",
       "    </tr>\n",
       "    <tr>\n",
       "      <th>9</th>\n",
       "      <td>10</td>\n",
       "      <td>Akishima</td>\n",
       "    </tr>\n",
       "  </tbody>\n",
       "</table>\n",
       "</div>"
      ],
      "text/plain": [
       "   city_id                city\n",
       "0        1  A Corua (La Corua)\n",
       "1        2                Abha\n",
       "2        3           Abu Dhabi\n",
       "3        4                Acua\n",
       "4        5               Adana\n",
       "5        6         Addis Abeba\n",
       "6        7                Aden\n",
       "7        8               Adoni\n",
       "8        9          Ahmadnagar\n",
       "9       10            Akishima"
      ]
     },
     "metadata": {},
     "output_type": "display_data"
    }
   ],
   "source": [
    "import pymysql\n",
    "\n",
    "# ---- Prisijungimo parametrai (pakeisk pagal savo aplinką) ----\n",
    "HOST = \"localhost\"\n",
    "USER = \"root\"\n",
    "PASSWORD = \"kristina123\"\n",
    "DB = \"sakila\"\n",
    "PORT = 3306\n",
    "\n",
    "# ---- Sukuriame prisijungimą ----\n",
    "conn = pymysql.connect(\n",
    "    host=HOST,\n",
    "    user=USER,\n",
    "    password=PASSWORD,\n",
    "    database=DB,\n",
    "    port=PORT,\n",
    "    charset=\"utf8mb4\",\n",
    "    cursorclass=pymysql.cursors.Cursor,  # paprastas kursorius; pandas vistiek grąžins DataFrame\n",
    ")\n",
    "\n",
    "try:\n",
    "    # 1) Top 15 filmų pagal nuomos skaičių (su kategorija)\n",
    "    query_top_films = \"\"\"\n",
    "    SELECT\n",
    "        f.film_id,\n",
    "        f.title,\n",
    "        c.name AS category,\n",
    "        COUNT(r.rental_id) AS rentals\n",
    "    FROM film f\n",
    "    JOIN film_category fc  ON fc.film_id = f.film_id\n",
    "    JOIN category c        ON c.category_id = fc.category_id\n",
    "    JOIN inventory i       ON i.film_id = f.film_id\n",
    "    JOIN rental r          ON r.inventory_id = i.inventory_id\n",
    "    GROUP BY f.film_id, f.title, c.name\n",
    "    ORDER BY rentals DESC, f.title ASC\n",
    "    LIMIT 15;\n",
    "    \"\"\"\n",
    "\n",
    "    df_top = pd.read_sql(query_top_films, conn)\n",
    "    print(\"TOP 15 FILMŲ PAGAL NUOMŲ SKAIČIŲ:\")\n",
    "    display(df_top)  # jei esi Jupyter – gražiai atvaizduos lentelę\n",
    "    # Jei ne Jupyter, galima:\n",
    "    # print(df_top.to_string(index=False))\n",
    "\n",
    "    # 2) Greitas patikrinimas: paimkime kelis miestus\n",
    "    query_cities = \"SELECT city_id, city FROM city ORDER BY city LIMIT 10;\"\n",
    "    df_cities = pd.read_sql(query_cities, conn)\n",
    "    print(\"\\nPIRMOS 10 EILUČIŲ IŠ city:\")\n",
    "    display(df_cities)\n",
    "\n",
    "finally:\n",
    "    conn.close()\n"
   ]
  }
 ],
 "metadata": {
  "kernelspec": {
   "display_name": "Python 3",
   "language": "python",
   "name": "python3"
  },
  "language_info": {
   "codemirror_mode": {
    "name": "ipython",
    "version": 3
   },
   "file_extension": ".py",
   "mimetype": "text/x-python",
   "name": "python",
   "nbconvert_exporter": "python",
   "pygments_lexer": "ipython3",
   "version": "3.13.4"
  }
 },
 "nbformat": 4,
 "nbformat_minor": 5
}

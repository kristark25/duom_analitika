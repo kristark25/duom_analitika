{
 "cells": [
  {
   "cell_type": "markdown",
   "id": "7f343648",
   "metadata": {},
   "source": [
    "# AIC ir BIC – modelių palyginimas\n",
    "\n",
    "**Bibliotekos:** `statsmodels`, `seaborn`, `scikit-learn`, `matplotlib`\n"
   ]
  },
  {
   "cell_type": "markdown",
   "id": "8bb20c51",
   "metadata": {},
   "source": [
    "## Kas yra AIC ir BIC?\n",
    "\n",
    "**AIC (Akaike Information Criterion)** ir **BIC (Bayesian Information Criterion)** – tai kriterijai, skirti **modelių palyginimui**:"
   ]
  },
  {
   "cell_type": "markdown",
   "id": "a09c371e",
   "metadata": {},
   "source": [
    "AIC=2k−2ln(L)"
   ]
  },
  {
   "cell_type": "markdown",
   "id": "764e587e",
   "metadata": {},
   "source": [
    "kur:\n",
    "\n",
    "𝑘\n",
    "k – modelio parametrų skaičius,\n",
    "\n",
    "𝐿\n",
    "L – modelio maksimali tikimybė (likelihood)."
   ]
  },
  {
   "cell_type": "markdown",
   "id": "7af90146",
   "metadata": {},
   "source": [
    "BIC=kln(n)−2ln(L)"
   ]
  },
  {
   "cell_type": "markdown",
   "id": "b4817d6b",
   "metadata": {},
   "source": [
    "kur:\n",
    "\n",
    "𝑛\n",
    "n – stebėjimų skaičius,\n",
    "\n",
    "𝑘\n",
    "k – modelio parametrų skaičius,\n",
    "\n",
    "𝐿\n",
    "L – modelio maksimali tikimybė."
   ]
  },
  {
   "cell_type": "markdown",
   "id": "903aeb99",
   "metadata": {},
   "source": [
    "- **Mažesnė AIC/BIC reikšmė** → geresnis kompromisas tarp tikslumo ir paprastumo (tik lyginant tuos pačius duomenis).\n",
    "- **BIC** griežčiau baudžia sudėtingumą (ypač kai \\( n \\) didelis), todėl dažniau renkasi paprastesnį modelį.\n",
    "- Absoliučių „gerų“ ribų **nėra** – ieškome **minimumo** tarp nagrinėtų modelių.\n",
    "\n",
    "- AIC/BIC formulės remiasi log-likelihood."
   ]
  },
  {
   "cell_type": "code",
   "execution_count": 1,
   "id": "194a36c8",
   "metadata": {},
   "outputs": [],
   "source": [
    "import pandas as pd\n",
    "import numpy as np\n",
    "import statsmodels.api as sm\n",
    "import matplotlib.pyplot as plt\n",
    "from sklearn.datasets import load_linnerud"
   ]
  },
  {
   "cell_type": "code",
   "execution_count": 8,
   "id": "c05bee5c",
   "metadata": {},
   "outputs": [],
   "source": [
    "def fit_linear_sm(X: pd.DataFrame, y: pd.Series):\n",
    "    \"\"\"Sukuria OLS modelį ir grąžina AIC/BIC bei santrauką.\"\"\"\n",
    "    X_ = sm.add_constant(X, has_constant=\"add\")\n",
    "    model = sm.OLS(y, X_, missing=\"drop\").fit()\n",
    "    return {\n",
    "        \"aic\": model.aic,\n",
    "        \"bic\": model.bic,\n",
    "        \"k\": len(model.params),     # parametrų skaičius\n",
    "        \"summary\": model.summary()\n",
    "    }"
   ]
  },
  {
   "cell_type": "markdown",
   "id": "d586a5f9",
   "metadata": {},
   "source": [
    "### Features (nepriklausomi kintamieji – X)\n",
    "1. **Chins** – prisitraukimų skaičius, kuriuos asmuo atliko per testą.\n",
    "2. **Situps** – atsilenkimų (pilvo preso pratimų) skaičius.\n",
    "3. **Jumps** – šuolių aukštyn skaičius (per nustatytą laiką)."
   ]
  },
  {
   "cell_type": "markdown",
   "id": "67628a8d",
   "metadata": {},
   "source": [
    "### Targets (priklausomi kintamieji – Y)\n",
    "1. **Weight** – asmens svoris (kilogramais).\n",
    "2. **Waist** – liemens apimtis (centimetrais).\n",
    "3. **Pulse** – širdies pulsas po fizinio krūvio (dūžių per minutę)."
   ]
  },
  {
   "cell_type": "code",
   "execution_count": 7,
   "id": "94f10a11",
   "metadata": {},
   "outputs": [
    {
     "data": {
      "text/plain": [
       "(    Chins  Situps  Jumps\n",
       " 0     5.0   162.0   60.0\n",
       " 1     2.0   110.0   60.0\n",
       " 2    12.0   101.0  101.0\n",
       " 3    12.0   105.0   37.0\n",
       " 4    13.0   155.0   58.0\n",
       " 5     4.0   101.0   42.0\n",
       " 6     8.0   101.0   38.0\n",
       " 7     6.0   125.0   40.0\n",
       " 8    15.0   200.0   40.0\n",
       " 9    17.0   251.0  250.0\n",
       " 10   17.0   120.0   38.0\n",
       " 11   13.0   210.0  115.0\n",
       " 12   14.0   215.0  105.0\n",
       " 13    1.0    50.0   50.0\n",
       " 14    6.0    70.0   31.0\n",
       " 15   12.0   210.0  120.0\n",
       " 16    4.0    60.0   25.0\n",
       " 17   11.0   230.0   80.0\n",
       " 18   15.0   225.0   73.0\n",
       " 19    2.0   110.0   43.0,\n",
       " 0     191.0\n",
       " 1     189.0\n",
       " 2     193.0\n",
       " 3     162.0\n",
       " 4     189.0\n",
       " 5     182.0\n",
       " 6     211.0\n",
       " 7     167.0\n",
       " 8     176.0\n",
       " 9     154.0\n",
       " 10    169.0\n",
       " 11    166.0\n",
       " 12    154.0\n",
       " 13    247.0\n",
       " 14    193.0\n",
       " 15    202.0\n",
       " 16    176.0\n",
       " 17    157.0\n",
       " 18    156.0\n",
       " 19    138.0\n",
       " Name: Weight, dtype: float64)"
      ]
     },
     "execution_count": 7,
     "metadata": {},
     "output_type": "execute_result"
    }
   ],
   "source": [
    "# 2) Duomenys: Linnerud (regresija)\n",
    "lin = load_linnerud()\n",
    "X = pd.DataFrame(lin.data, columns=lin.feature_names) # Chins, Situps, Jumps\n",
    "Y = pd.DataFrame(lin.target, columns=lin.target_names)  # Weight, Waist, Pulse\n",
    "\n",
    "y = Y[\"Weight\"]\n",
    "X.head(21), y.head(21)\n"
   ]
  },
  {
   "cell_type": "code",
   "execution_count": 4,
   "id": "b1a19db9",
   "metadata": {},
   "outputs": [
    {
     "data": {
      "text/html": [
       "<div>\n",
       "<style scoped>\n",
       "    .dataframe tbody tr th:only-of-type {\n",
       "        vertical-align: middle;\n",
       "    }\n",
       "\n",
       "    .dataframe tbody tr th {\n",
       "        vertical-align: top;\n",
       "    }\n",
       "\n",
       "    .dataframe thead th {\n",
       "        text-align: right;\n",
       "    }\n",
       "</style>\n",
       "<table border=\"1\" class=\"dataframe\">\n",
       "  <thead>\n",
       "    <tr style=\"text-align: right;\">\n",
       "      <th></th>\n",
       "      <th>Model</th>\n",
       "      <th>Features</th>\n",
       "      <th>k</th>\n",
       "      <th>AIC</th>\n",
       "      <th>BIC</th>\n",
       "    </tr>\n",
       "  </thead>\n",
       "  <tbody>\n",
       "    <tr>\n",
       "      <th>0</th>\n",
       "      <td>M1</td>\n",
       "      <td>Chins</td>\n",
       "      <td>2</td>\n",
       "      <td>184.694208</td>\n",
       "      <td>186.685673</td>\n",
       "    </tr>\n",
       "    <tr>\n",
       "      <th>1</th>\n",
       "      <td>M2</td>\n",
       "      <td>Chins, Situps</td>\n",
       "      <td>3</td>\n",
       "      <td>184.305386</td>\n",
       "      <td>187.292582</td>\n",
       "    </tr>\n",
       "    <tr>\n",
       "      <th>2</th>\n",
       "      <td>M3</td>\n",
       "      <td>Chins, Situps, Jumps</td>\n",
       "      <td>4</td>\n",
       "      <td>185.751142</td>\n",
       "      <td>189.734071</td>\n",
       "    </tr>\n",
       "  </tbody>\n",
       "</table>\n",
       "</div>"
      ],
      "text/plain": [
       "  Model              Features  k         AIC         BIC\n",
       "0    M1                 Chins  2  184.694208  186.685673\n",
       "1    M2         Chins, Situps  3  184.305386  187.292582\n",
       "2    M3  Chins, Situps, Jumps  4  185.751142  189.734071"
      ]
     },
     "execution_count": 4,
     "metadata": {},
     "output_type": "execute_result"
    }
   ],
   "source": [
    "# 3) Modelių rinkiniai (didėjančio sudėtingumo)\n",
    "feature_sets = [\n",
    "    [\"Chins\"],\n",
    "    [\"Chins\", \"Situps\"],\n",
    "    [\"Chins\", \"Situps\", \"Jumps\"],\n",
    "]\n",
    "\n",
    "rows = []\n",
    "summaries = {}\n",
    "\n",
    "for i, feats in enumerate(feature_sets, start=1):\n",
    "    res = fit_linear_sm(X[feats], y)\n",
    "    rows.append({\n",
    "        \"Model\": f\"M{i}\",\n",
    "        \"Features\": \", \".join(feats),\n",
    "        \"k\": res[\"k\"],\n",
    "        \"AIC\": res[\"aic\"],\n",
    "        \"BIC\": res[\"bic\"]\n",
    "    })\n",
    "    summaries[f\"M{i}\"] = res[\"summary\"]\n",
    "\n",
    "scores = pd.DataFrame(rows)\n",
    "scores\n"
   ]
  },
  {
   "cell_type": "code",
   "execution_count": null,
   "id": "bc2b8d56",
   "metadata": {},
   "outputs": [],
   "source": [
    "AIC - M2 - maziuasias (dedam 1 arba 2 kintamuosius, reikalingi pasitikslinti kurie kintamieji yra tikslesni)\n",
    "BIC -M1 - maziausias (dedam 1 arba 2 kintamuosius, reikalingi pasitikslinti kurie kintamieji yra tikslesni)"
   ]
  },
  {
   "cell_type": "code",
   "execution_count": 9,
   "id": "b72a28e4",
   "metadata": {},
   "outputs": [
    {
     "data": {
      "image/png": "[encoded data removed]",
      "text/plain": [
       "<Figure size 640x480 with 1 Axes>"
      ]
     },
     "metadata": {},
     "output_type": "display_data"
    }
   ],
   "source": [
    "# 4) AIC/BIC grafikas\n",
    "plt.figure()\n",
    "plt.plot(scores[\"Model\"], scores[\"AIC\"], marker=\"o\", label=\"AIC\")\n",
    "plt.plot(scores[\"Model\"], scores[\"BIC\"], marker=\"o\", label=\"BIC\")\n",
    "plt.title(\"AIC/BIC vs modelio sudėtingumas (Weight)\")\n",
    "plt.xlabel(\"Modelis (M1 < M2 < M3)\")\n",
    "plt.ylabel(\"Reikšmė\")\n",
    "plt.grid(True)\n",
    "plt.legend()\n",
    "plt.show()"
   ]
  },
  {
   "cell_type": "code",
   "execution_count": 6,
   "id": "33b2fa79",
   "metadata": {},
   "outputs": [
    {
     "name": "stdout",
     "output_type": "stream",
     "text": [
      "================================================================================ M1\n",
      "                            OLS Regression Results                            \n",
      "==============================================================================\n",
      "Dep. Variable:                 Weight   R-squared:                       0.152\n",
      "Model:                            OLS   Adj. R-squared:                  0.105\n",
      "Method:                 Least Squares   F-statistic:                     3.223\n",
      "Date:                Thu, 14 Aug 2025   Prob (F-statistic):             0.0894\n",
      "Time:                        17:39:58   Log-Likelihood:                -90.347\n",
      "No. Observations:                  20   AIC:                             184.7\n",
      "Df Residuals:                      18   BIC:                             186.7\n",
      "Df Model:                           1                                         \n",
      "Covariance Type:            nonrobust                                         \n",
      "==============================================================================\n",
      "                 coef    std err          t      P>|t|      [0.025      0.975]\n",
      "------------------------------------------------------------------------------\n",
      "const        195.8003     10.913     17.943      0.000     172.874     218.727\n",
      "Chins         -1.8201      1.014     -1.795      0.089      -3.950       0.310\n",
      "==============================================================================\n",
      "Omnibus:                        2.102   Durbin-Watson:                   1.890\n",
      "Prob(Omnibus):                  0.350   Jarque-Bera (JB):                0.636\n",
      "Skew:                           0.125   Prob(JB):                        0.728\n",
      "Kurtosis:                       3.837   Cond. No.                         22.6\n",
      "==============================================================================\n",
      "\n",
      "Notes:\n",
      "[1] Standard Errors assume that the covariance matrix of the errors is correctly specified.\n",
      "================================================================================ M2\n",
      "                            OLS Regression Results                            \n",
      "==============================================================================\n",
      "Dep. Variable:                 Weight   R-squared:                       0.247\n",
      "Model:                            OLS   Adj. R-squared:                  0.159\n",
      "Method:                 Least Squares   F-statistic:                     2.793\n",
      "Date:                Thu, 14 Aug 2025   Prob (F-statistic):             0.0893\n",
      "Time:                        17:39:58   Log-Likelihood:                -89.153\n",
      "No. Observations:                  20   AIC:                             184.3\n",
      "Df Residuals:                      17   BIC:                             187.3\n",
      "Df Model:                           2                                         \n",
      "Covariance Type:            nonrobust                                         \n",
      "==============================================================================\n",
      "                 coef    std err          t      P>|t|      [0.025      0.975]\n",
      "------------------------------------------------------------------------------\n",
      "const        207.2993     13.161     15.751      0.000     179.533     235.066\n",
      "Chins         -0.4222      1.368     -0.309      0.761      -3.309       2.464\n",
      "Situps        -0.1698      0.116     -1.469      0.160      -0.414       0.074\n",
      "==============================================================================\n",
      "Omnibus:                        1.944   Durbin-Watson:                   2.139\n",
      "Prob(Omnibus):                  0.378   Jarque-Bera (JB):                0.548\n",
      "Skew:                           0.163   Prob(JB):                        0.760\n",
      "Kurtosis:                       3.742   Cond. No.                         411.\n",
      "==============================================================================\n",
      "\n",
      "Notes:\n",
      "[1] Standard Errors assume that the covariance matrix of the errors is correctly specified.\n",
      "================================================================================ M3\n",
      "                            OLS Regression Results                            \n",
      "==============================================================================\n",
      "Dep. Variable:                 Weight   R-squared:                       0.268\n",
      "Model:                            OLS   Adj. R-squared:                  0.131\n",
      "Method:                 Least Squares   F-statistic:                     1.952\n",
      "Date:                Thu, 14 Aug 2025   Prob (F-statistic):              0.162\n",
      "Time:                        17:39:58   Log-Likelihood:                -88.876\n",
      "No. Observations:                  20   AIC:                             185.8\n",
      "Df Residuals:                      16   BIC:                             189.7\n",
      "Df Model:                           3                                         \n",
      "Covariance Type:            nonrobust                                         \n",
      "==============================================================================\n",
      "                 coef    std err          t      P>|t|      [0.025      0.975]\n",
      "------------------------------------------------------------------------------\n",
      "const        208.2335     13.451     15.481      0.000     179.718     236.749\n",
      "Chins         -0.4750      1.393     -0.341      0.738      -3.428       2.478\n",
      "Situps        -0.2177      0.138     -1.583      0.133      -0.509       0.074\n",
      "Jumps          0.0931      0.139      0.671      0.512      -0.201       0.387\n",
      "==============================================================================\n",
      "Omnibus:                        1.292   Durbin-Watson:                   2.213\n",
      "Prob(Omnibus):                  0.524   Jarque-Bera (JB):                0.219\n",
      "Skew:                           0.077   Prob(JB):                        0.896\n",
      "Kurtosis:                       3.489   Cond. No.                         463.\n",
      "==============================================================================\n",
      "\n",
      "Notes:\n",
      "[1] Standard Errors assume that the covariance matrix of the errors is correctly specified.\n"
     ]
    }
   ],
   "source": [
    "# 5) Santraukos\n",
    "for m in [\"M1\",\"M2\",\"M3\"]:\n",
    "    print(\"=\"*80, m)\n",
    "    print(summaries[m])"
   ]
  }
 ],
 "metadata": {
  "kernelspec": {
   "display_name": "Python 3",
   "language": "python",
   "name": "python3"
  },
  "language_info": {
   "codemirror_mode": {
    "name": "ipython",
    "version": 3
   },
   "file_extension": ".py",
   "mimetype": "text/x-python",
   "name": "python",
   "nbconvert_exporter": "python",
   "pygments_lexer": "ipython3",
   "version": "3.13.4"
  }
 },
 "nbformat": 4,
 "nbformat_minor": 5
}

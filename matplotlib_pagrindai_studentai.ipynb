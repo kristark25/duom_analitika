{
 "cells": [
  {
   "cell_type": "markdown",
   "id": "0a411ede",
   "metadata": {},
   "source": [
    "# Studentų pažymių analizė su Matplotlib\n",
    "\n",
    "Šiame notebuke analizuosime `studentu_pazymiai.csv` duomenis naudodami `pandas` ir `matplotlib`."
   ]
  },
  {
   "cell_type": "markdown",
   "id": "f4b39305",
   "metadata": {},
   "source": [
    "## 1. Duomenų įkėlimas"
   ]
  },
  {
   "cell_type": "code",
   "execution_count": null,
   "id": "ebef542c",
   "metadata": {},
   "outputs": [],
   "source": [
    "import pandas as pd\n",
    "import matplotlib.pyplot as plt\n",
    "\n",
    "# Įkeliame duomenis\n",
    "df = pd.read_csv('studentu_pazymiai.csv')\n",
    "df.head()"
   ]
  },
  {
   "cell_type": "markdown",
   "id": "b976961c",
   "metadata": {},
   "source": [
    "## 2. Pažymių pasiskirstymo histograma"
   ]
  },
  {
   "cell_type": "code",
   "execution_count": null,
   "id": "a37c29c1",
   "metadata": {},
   "outputs": [],
   "source": [
    "plt.figure(figsize=(8,6))\n",
    "plt.hist(df['pazymys'], bins=10, color='skyblue', edgecolor='black')\n",
    "plt.xlabel('Pažymys')\n",
    "plt.ylabel('Studentų skaičius')\n",
    "plt.title('Pažymių pasiskirstymas')\n",
    "plt.grid(True)\n",
    "plt.show()"
   ]
  },
  {
   "cell_type": "markdown",
   "id": "1e44dc3c",
   "metadata": {},
   "source": [
    "## 3. Vidutinis pažymys pagal dalyką"
   ]
  },
  {
   "cell_type": "code",
   "execution_count": null,
   "id": "4acf2a5a",
   "metadata": {},
   "outputs": [],
   "source": [
    "dalyk_v_avg = df.groupby('dalykas')['pazymys'].mean().sort_values()\n",
    "dalyk_v_avg.plot(kind='barh', figsize=(8,6), color='orange', edgecolor='black')\n",
    "plt.xlabel('Vidutinis pažymys')\n",
    "plt.title('Vidutinis pažymys pagal dalyką')\n",
    "plt.grid(axis='x')\n",
    "plt.show()"
   ]
  },
  {
   "cell_type": "markdown",
   "id": "b2757f65",
   "metadata": {},
   "source": [
    "## 4. Vidutiniai pažymiai pagal kursą"
   ]
  },
  {
   "cell_type": "code",
   "execution_count": null,
   "id": "3a75a94f",
   "metadata": {},
   "outputs": [],
   "source": [
    "plt.figure(figsize=(8,6))\n",
    "kurso_vidurkiai = df.groupby('kursas')['pazymys'].mean()\n",
    "kurso_vidurkiai.plot(kind='bar', color='green', edgecolor='black')\n",
    "plt.ylabel('Vidutinis pažymys')\n",
    "plt.title('Vidutinis pažymys pagal kursą')\n",
    "plt.xticks(rotation=0)\n",
    "plt.grid(axis='y')\n",
    "plt.show()"
   ]
  },
  {
   "cell_type": "markdown",
   "id": "b8a359f0",
   "metadata": {},
   "source": [
    "## 5. Sklaidos diagrama: Pažymiai pagal kursą ir dalyką"
   ]
  },
  {
   "cell_type": "code",
   "execution_count": null,
   "id": "1fa83a67",
   "metadata": {},
   "outputs": [],
   "source": [
    "plt.figure(figsize=(10,6))\n",
    "for dalykas in df['dalykas'].unique():\n",
    "    subset = df[df['dalykas'] == dalykas]\n",
    "    plt.scatter(subset['kursas'], subset['pazymys'], label=dalykas)\n",
    "\n",
    "plt.xlabel('Kursas')\n",
    "plt.ylabel('Pažymys')\n",
    "plt.title('Sklaidos diagrama pagal kursą ir dalyką')\n",
    "plt.legend()\n",
    "plt.grid(True)\n",
    "plt.show()"
   ]
  },
  {
   "cell_type": "markdown",
   "id": "621d9a9d",
   "metadata": {},
   "source": [
    "## 6. Studentų vidurkių diagrama (TOP 10)"
   ]
  },
  {
   "cell_type": "code",
   "execution_count": null,
   "id": "99295df2",
   "metadata": {},
   "outputs": [],
   "source": [
    "vidurkiai = df.groupby('studentas')['pazymys'].mean().sort_values(ascending=False).head(10)\n",
    "vidurkiai.plot(kind='bar', figsize=(10,6), color='purple', edgecolor='black')\n",
    "plt.ylabel('Vidurkis')\n",
    "plt.title('TOP 10 studentų pagal vidurkį')\n",
    "plt.grid(axis='y')\n",
    "plt.xticks(rotation=45)\n",
    "plt.show()"
   ]
  }
 ],
 "metadata": {},
 "nbformat": 4,
 "nbformat_minor": 5
}

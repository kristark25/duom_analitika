{
 "cells": [
  {
   "cell_type": "markdown",
   "id": "a5a83b00",
   "metadata": {},
   "source": [
    "# Pandas pamoka: pagrindai su studentų duomenimis\n",
    "\n",
    "Šiame notebuke mokysimės naudotis `pandas` ir `DataFrame` struktūra su paprastu studentų duomenų rinkiniu."
   ]
  },
  {
   "cell_type": "markdown",
   "id": "6cc484c0",
   "metadata": {},
   "source": [
    "## 1. Duomenų įkėlimas ir peržiūra"
   ]
  },
  {
   "cell_type": "code",
   "execution_count": null,
   "id": "1acf26ba",
   "metadata": {},
   "outputs": [],
   "source": [
    "import pandas as pd\n",
    "\n",
    "# Įkeliame CSV failą\n",
    "df = pd.read_csv('studentai_pandas_pamoka.csv')\n",
    "df.head()"
   ]
  },
  {
   "cell_type": "markdown",
   "id": "dbe8787e",
   "metadata": {},
   "source": [
    "## 2. Informacijos suvestinė ir aprašomoji statistika"
   ]
  },
  {
   "cell_type": "code",
   "execution_count": null,
   "id": "e810e33d",
   "metadata": {},
   "outputs": [],
   "source": [
    "df.info()"
   ]
  },
  {
   "cell_type": "code",
   "execution_count": null,
   "id": "38207151",
   "metadata": {},
   "outputs": [],
   "source": [
    "df.describe()"
   ]
  },
  {
   "cell_type": "markdown",
   "id": "da36077a",
   "metadata": {},
   "source": [
    "## 3. Stulpelių pasirinkimas"
   ]
  },
  {
   "cell_type": "code",
   "execution_count": null,
   "id": "5702a850",
   "metadata": {},
   "outputs": [],
   "source": [
    "# Tik vardai ir pažymiai\n",
    "df[['Vardas', 'Pažymys']].head()"
   ]
  },
  {
   "cell_type": "markdown",
   "id": "1b13e53a",
   "metadata": {},
   "source": [
    "## 4. Filtravimas (pvz., tik 2 kurso studentai)"
   ]
  },
  {
   "cell_type": "code",
   "execution_count": null,
   "id": "3e135555",
   "metadata": {},
   "outputs": [],
   "source": [
    "df[df['Kursas'] == 2]"
   ]
  },
  {
   "cell_type": "markdown",
   "id": "163f542c",
   "metadata": {},
   "source": [
    "## 5. Rikiavimas pagal pažymį (nuo aukščiausio)"
   ]
  },
  {
   "cell_type": "code",
   "execution_count": null,
   "id": "8bd51474",
   "metadata": {},
   "outputs": [],
   "source": [
    "df.sort_values(by='Pažymys', ascending=False)"
   ]
  },
  {
   "cell_type": "markdown",
   "id": "368ae49f",
   "metadata": {},
   "source": [
    "## 6. Grupavimas: vidutinis pažymys pagal kursą"
   ]
  },
  {
   "cell_type": "code",
   "execution_count": null,
   "id": "265109ef",
   "metadata": {},
   "outputs": [],
   "source": [
    "df.groupby('Kursas')['Pažymys'].mean()"
   ]
  },
  {
   "cell_type": "markdown",
   "id": "7023d5d0",
   "metadata": {},
   "source": [
    "## 7. Naujo stulpelio kūrimas (pvz., ar išlaikė)"
   ]
  },
  {
   "cell_type": "code",
   "execution_count": null,
   "id": "f61f1a74",
   "metadata": {},
   "outputs": [],
   "source": [
    "df['Išlaikė'] = df['Pažymys'] >= 5\n",
    "df.head()"
   ]
  },
  {
   "cell_type": "markdown",
   "id": "2ac6fdc0",
   "metadata": {},
   "source": [
    "## 8. Indeksavimas su `.loc` ir `.iloc`"
   ]
  },
  {
   "cell_type": "code",
   "execution_count": null,
   "id": "5907ee82",
   "metadata": {},
   "outputs": [],
   "source": [
    "# Pagal indeksą\n",
    "df.iloc[0]  # pirmas studentas"
   ]
  },
  {
   "cell_type": "code",
   "execution_count": null,
   "id": "1e2a150a",
   "metadata": {},
   "outputs": [],
   "source": [
    "# Pagal reikšmes\n",
    "df.loc[df['Vardas'] == 'Studentas_3']"
   ]
  }
 ],
 "metadata": {},
 "nbformat": 4,
 "nbformat_minor": 5
}

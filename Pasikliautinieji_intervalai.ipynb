{
 "cells": [
  {
   "cell_type": "code",
   "execution_count": 10,
   "id": "b59843e9",
   "metadata": {},
   "outputs": [],
   "source": [
    "import numpy as np\n",
    "from math import sqrt\n",
    "from scipy import stats"
   ]
  },
  {
   "cell_type": "code",
   "execution_count": 11,
   "id": "41bb6a76",
   "metadata": {},
   "outputs": [],
   "source": [
    "np.random.seed(0)\n",
    "\n",
    "# Populiacija – 100 atsitiktinių pažymių\n",
    "populiacija = np.random.randint(1, 11, size=100)"
   ]
  },
  {
   "cell_type": "code",
   "execution_count": 12,
   "id": "dab37332",
   "metadata": {},
   "outputs": [
    {
     "data": {
      "text/plain": [
       "array([ 6,  1,  4,  4,  8, 10,  4,  6,  3,  5,  8,  7,  9,  9,  2,  7,  8,\n",
       "        8,  9,  2,  6, 10,  9, 10,  5,  4,  1,  4,  6,  1,  3,  4,  9,  2,\n",
       "        4,  4,  4,  8,  1,  2, 10, 10,  1,  5,  8,  4,  3,  8,  3,  1,  1,\n",
       "        5,  6,  6,  7,  9,  5,  2,  5, 10,  9,  2,  2,  8, 10, 10,  4,  7,\n",
       "        8,  3,  1,  4,  6, 10,  5,  5,  7,  5,  5,  4,  5,  5,  9,  5,  4,\n",
       "        8,  6,  6,  1,  2,  6, 10,  4,  1,  6,  1,  2,  3,  5,  3],\n",
       "      dtype=int32)"
      ]
     },
     "execution_count": 12,
     "metadata": {},
     "output_type": "execute_result"
    }
   ],
   "source": [
    "populiacija"
   ]
  },
  {
   "cell_type": "code",
   "execution_count": 13,
   "id": "10fa7d5a",
   "metadata": {},
   "outputs": [
    {
     "name": "stdout",
     "output_type": "stream",
     "text": [
      "Populiacijos vidurkis: 5.33\n"
     ]
    }
   ],
   "source": [
    "# Tikras populiacijos vidurkis\n",
    "tikras_vidurkis = populiacija.mean()\n",
    "print(\"Populiacijos vidurkis:\", tikras_vidurkis)\n"
   ]
  },
  {
   "cell_type": "code",
   "execution_count": 14,
   "id": "67cb1b12",
   "metadata": {},
   "outputs": [],
   "source": [
    "# Imame 20 atsitiktinių elementų (imtį)\n",
    "imties_dydis = 20\n",
    "imtis = np.random.choice(populiacija, size=imties_dydis, replace=False)\n",
    "\n",
    "imties_vidurkis = imtis.mean()\n",
    "imties_nuokrypis = imtis.std(ddof=1)"
   ]
  },
  {
   "cell_type": "code",
   "execution_count": 15,
   "id": "cd1de1a8",
   "metadata": {},
   "outputs": [
    {
     "data": {
      "text/plain": [
       "array([ 9,  1, 10,  5,  6,  1, 10,  7,  9,  8,  2,  7,  5,  5,  5,  6,  2,\n",
       "        4,  8,  5], dtype=int32)"
      ]
     },
     "execution_count": 15,
     "metadata": {},
     "output_type": "execute_result"
    }
   ],
   "source": [
    "imtis"
   ]
  },
  {
   "cell_type": "code",
   "execution_count": 22,
   "id": "756d4a84",
   "metadata": {},
   "outputs": [
    {
     "name": "stdout",
     "output_type": "stream",
     "text": [
      "paklaida 0.6277570767171176\n"
     ]
    }
   ],
   "source": [
    "# Skaičiuojame standartinę paklaidą\n",
    "standartine_paklaida = imties_nuokrypis / sqrt(imties_dydis)\n",
    "print(\"paklaida\", standartine_paklaida)"
   ]
  },
  {
   "cell_type": "code",
   "execution_count": 24,
   "id": "b59d0248",
   "metadata": {},
   "outputs": [
    {
     "name": "stdout",
     "output_type": "stream",
     "text": [
      "2.093024054408263\n"
     ]
    }
   ],
   "source": [
    "# t reikšmė (95% PI)\n",
    "alfa = 0.05\n",
    "t_reikšmė = stats.t.ppf(1-alfa/2, df=imties_dydis-1)\n",
    "print(t_reikšmė)"
   ]
  },
  {
   "cell_type": "code",
   "execution_count": 25,
   "id": "7e174785",
   "metadata": {},
   "outputs": [
    {
     "name": "stdout",
     "output_type": "stream",
     "text": [
      "apatine 4.4360893381060595 virsutine 7.0639106618939405\n"
     ]
    }
   ],
   "source": [
    "# Pasikliautinasis intervalas\n",
    "apatine_riba = imties_vidurkis - t_reikšmė*standartine_paklaida\n",
    "virsutine_riba = imties_vidurkis + t_reikšmė*standartine_paklaida\n",
    "print(\"apatine\", apatine_riba, \"virsutine\", virsutine_riba)"
   ]
  },
  {
   "cell_type": "code",
   "execution_count": 19,
   "id": "a7f85ae5",
   "metadata": {},
   "outputs": [
    {
     "name": "stdout",
     "output_type": "stream",
     "text": [
      "Imties vidurkis: 5.75\n",
      "95% pasikliautinasis intervalas: [ 4.436 ; 7.064 ]\n",
      "Ar tikras populiacijos vidurkis patenka į intervalą? True\n"
     ]
    }
   ],
   "source": [
    "print(\"Imties vidurkis:\", round(imties_vidurkis, 3))\n",
    "print(\"95% pasikliautinasis intervalas: [\", round(apatine_riba,3), \";\", round(virsutine_riba,3), \"]\")\n",
    "print(\"Ar tikras populiacijos vidurkis patenka į intervalą?\", apatine_riba <= tikras_vidurkis <= virsutine_riba)"
   ]
  },
  {
   "cell_type": "code",
   "execution_count": null,
   "id": "7d0387a6",
   "metadata": {},
   "outputs": [
    {
     "name": "stdout",
     "output_type": "stream",
     "text": [
      "Populiacijos vidurkis: 5.33\n"
     ]
    }
   ],
   "source": [
    "print(\"Populiacijos vidurkis:\", tikras_vidurkis)\n",
    "# "
   ]
  }
 ],
 "metadata": {
  "kernelspec": {
   "display_name": "Python 3",
   "language": "python",
   "name": "python3"
  },
  "language_info": {
   "codemirror_mode": {
    "name": "ipython",
    "version": 3
   },
   "file_extension": ".py",
   "mimetype": "text/x-python",
   "name": "python",
   "nbconvert_exporter": "python",
   "pygments_lexer": "ipython3",
   "version": "3.13.4"
  }
 },
 "nbformat": 4,
 "nbformat_minor": 5
}

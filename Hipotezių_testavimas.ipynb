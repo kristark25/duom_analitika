{
 "cells": [
  {
   "cell_type": "code",
   "execution_count": 31,
   "id": "e3d1ac3c",
   "metadata": {},
   "outputs": [],
   "source": [
    "import numpy as np\n",
    "from math import sqrt\n",
    "from scipy import stats\n",
    "import pandas as pd"
   ]
  },
  {
   "cell_type": "code",
   "execution_count": 32,
   "id": "a0111164",
   "metadata": {},
   "outputs": [
    {
     "name": "stdout",
     "output_type": "stream",
     "text": [
      "Populiacijos tikras vidurkis: 5.33\n"
     ]
    }
   ],
   "source": [
    "np.random.seed(0)\n",
    "\n",
    "# Sukuriame \"populiaciją\"\n",
    "populiacija = np.random.randint(1, 11, size=100)\n",
    "tikras_vidurkis = populiacija.mean()\n",
    "print(\"Populiacijos tikras vidurkis:\", tikras_vidurkis)"
   ]
  },
  {
   "cell_type": "code",
   "execution_count": 33,
   "id": "619d844b",
   "metadata": {},
   "outputs": [
    {
     "name": "stdout",
     "output_type": "stream",
     "text": [
      "Imties vidurkis: 5.75\n"
     ]
    }
   ],
   "source": [
    "# Imame imtį (20 atsitiktinių)\n",
    "imties_dydis = 20\n",
    "imtis = np.random.choice(populiacija, size=imties_dydis, replace=False)\n",
    "imties_vidurkis = imtis.mean()\n",
    "imties_nuokrypis = imtis.std(ddof=1)\n",
    "\n",
    "print(\"Imties vidurkis:\", round(imties_vidurkis, 3))"
   ]
  },
  {
   "cell_type": "code",
   "execution_count": 34,
   "id": "a3659af9",
   "metadata": {},
   "outputs": [
    {
     "name": "stdout",
     "output_type": "stream",
     "text": [
      "\\nHipotezių testavimas (ar μ=6?)\n",
      "t statistika: -0.398\n",
      "p reikšmė: 0.6949\n"
     ]
    }
   ],
   "source": [
    "# --- Hipotezės tikrinimas ---\n",
    "# H0: vidurkis = 6\n",
    "# H1: vidurkis ≠ 6\n",
    "t_statistika, p_reiksme = stats.ttest_1samp(imtis, popmean=6)\n",
    "\n",
    "print(\"\\\\nHipotezių testavimas (ar μ=6?)\")\n",
    "print(\"t statistika:\", round(t_statistika,3))\n",
    "print(\"p reikšmė:\", round(p_reiksme,4))"
   ]
  },
  {
   "cell_type": "code",
   "execution_count": 35,
   "id": "99599211",
   "metadata": {},
   "outputs": [
    {
     "name": "stdout",
     "output_type": "stream",
     "text": [
      "Išvada: nėra pagrindo atmesti H0 (vidurkis galėtų būti 6)\n",
      "\\n95% pasikliautinasis intervalas: [ 4.436 ; 7.064 ]\n",
      "Ar tikras populiacijos vidurkis patenka į intervalą? True\n"
     ]
    }
   ],
   "source": [
    "if p_reiksme < 0.05:\n",
    "    print(\"Išvada: atmetame H0 (vidurkis greičiausiai ≠ 6)\")\n",
    "else:\n",
    "    print(\"Išvada: nėra pagrindo atmesti H0 (vidurkis galėtų būti 6)\")\n",
    "\n",
    "# --- Pasikliautinasis intervalas ---\n",
    "standartine_paklaida = imties_nuokrypis / sqrt(imties_dydis)\n",
    "t_reikšmė = stats.t.ppf(1-0.05/2, df=imties_dydis-1)\n",
    "apatine_riba = imties_vidurkis - t_reikšmė*standartine_paklaida\n",
    "virsutine_riba = imties_vidurkis + t_reikšmė*standartine_paklaida\n",
    "\n",
    "print(\"\\\\n95% pasikliautinasis intervalas: [\", round(apatine_riba,3), \";\", round(virsutine_riba,3), \"]\")\n",
    "print(\"Ar tikras populiacijos vidurkis patenka į intervalą?\", apatine_riba <= tikras_vidurkis <= virsutine_riba)\n"
   ]
  },
  {
   "cell_type": "markdown",
   "id": "2f4d3074",
   "metadata": {},
   "source": [
    "---"
   ]
  },
  {
   "cell_type": "code",
   "execution_count": 36,
   "id": "01f89ee6",
   "metadata": {},
   "outputs": [
    {
     "data": {
      "text/html": [
       "<div>\n",
       "<style scoped>\n",
       "    .dataframe tbody tr th:only-of-type {\n",
       "        vertical-align: middle;\n",
       "    }\n",
       "\n",
       "    .dataframe tbody tr th {\n",
       "        vertical-align: top;\n",
       "    }\n",
       "\n",
       "    .dataframe thead th {\n",
       "        text-align: right;\n",
       "    }\n",
       "</style>\n",
       "<table border=\"1\" class=\"dataframe\">\n",
       "  <thead>\n",
       "    <tr style=\"text-align: right;\">\n",
       "      <th></th>\n",
       "      <th>id</th>\n",
       "      <th>lytis</th>\n",
       "      <th>fakultetas</th>\n",
       "      <th>pazymys</th>\n",
       "      <th>dirba</th>\n",
       "      <th>amzius</th>\n",
       "    </tr>\n",
       "  </thead>\n",
       "  <tbody>\n",
       "    <tr>\n",
       "      <th>0</th>\n",
       "      <td>1</td>\n",
       "      <td>Moteris</td>\n",
       "      <td>Psichologija</td>\n",
       "      <td>7.200237</td>\n",
       "      <td>Taip</td>\n",
       "      <td>29</td>\n",
       "    </tr>\n",
       "    <tr>\n",
       "      <th>1</th>\n",
       "      <td>2</td>\n",
       "      <td>Moteris</td>\n",
       "      <td>Psichologija</td>\n",
       "      <td>7.755460</td>\n",
       "      <td>Ne</td>\n",
       "      <td>20</td>\n",
       "    </tr>\n",
       "    <tr>\n",
       "      <th>2</th>\n",
       "      <td>3</td>\n",
       "      <td>Vyras</td>\n",
       "      <td>Ekonomika</td>\n",
       "      <td>7.853774</td>\n",
       "      <td>Taip</td>\n",
       "      <td>24</td>\n",
       "    </tr>\n",
       "    <tr>\n",
       "      <th>3</th>\n",
       "      <td>4</td>\n",
       "      <td>Vyras</td>\n",
       "      <td>Ekonomika</td>\n",
       "      <td>8.410636</td>\n",
       "      <td>Taip</td>\n",
       "      <td>29</td>\n",
       "    </tr>\n",
       "    <tr>\n",
       "      <th>4</th>\n",
       "      <td>5</td>\n",
       "      <td>Moteris</td>\n",
       "      <td>Ekonomika</td>\n",
       "      <td>8.587288</td>\n",
       "      <td>Ne</td>\n",
       "      <td>18</td>\n",
       "    </tr>\n",
       "  </tbody>\n",
       "</table>\n",
       "</div>"
      ],
      "text/plain": [
       "   id    lytis    fakultetas   pazymys dirba  amzius\n",
       "0   1  Moteris  Psichologija  7.200237  Taip      29\n",
       "1   2  Moteris  Psichologija  7.755460    Ne      20\n",
       "2   3    Vyras     Ekonomika  7.853774  Taip      24\n",
       "3   4    Vyras     Ekonomika  8.410636  Taip      29\n",
       "4   5  Moteris     Ekonomika  8.587288    Ne      18"
      ]
     },
     "execution_count": 36,
     "metadata": {},
     "output_type": "execute_result"
    }
   ],
   "source": [
    "np.random.seed(1)\n",
    "\n",
    "n = 60\n",
    "studentai = pd.DataFrame({\n",
    "    \"id\": np.arange(1, n+1),\n",
    "    \"lytis\": np.random.choice([\"Vyras\",\"Moteris\"], size=n),\n",
    "    \"fakultetas\": np.random.choice([\"Informatika\",\"Ekonomika\",\"Psichologija\"], size=n),\n",
    "    \"pazymys\": np.clip(np.random.normal(8, 0.7, size=n), 4, 10),\n",
    "    \"dirba\": np.random.choice([\"Taip\",\"Ne\"], size=n, p=[0.6,0.4]),\n",
    "    \"amzius\": np.random.randint(18, 30, size=n)\n",
    "})\n",
    "\n",
    "studentai.head()"
   ]
  },
  {
   "cell_type": "code",
   "execution_count": null,
   "id": "3fc3cade",
   "metadata": {},
   "outputs": [],
   "source": [
    "# 1) Vienos imties t-testas: ar μ = 10?\n"
   ]
  },
  {
   "cell_type": "code",
   "execution_count": null,
   "id": "56419507",
   "metadata": {},
   "outputs": [],
   "source": [
    "# 2) Dviejų nepriklausomų imčių t-testas: Vyras vs Moteris"
   ]
  },
  {
   "cell_type": "code",
   "execution_count": null,
   "id": "7fbd7e59",
   "metadata": {},
   "outputs": [],
   "source": [
    "# 3) ANOVA: Informatika vs Ekonomika vs Psichologija\n",
    "# H0 Visų trijų fakultetų studentų pažymių vidurkiai yra vienodi."
   ]
  },
  {
   "cell_type": "code",
   "execution_count": null,
   "id": "08dd92b4",
   "metadata": {},
   "outputs": [],
   "source": [
    "# 4) Chi-kvadrato nepriklausomumas: lytis × dirba\n",
    "# Lytis ir darbo statusas nepriklauso vienas nuo kito H0"
   ]
  }
 ],
 "metadata": {
  "kernelspec": {
   "display_name": "Python 3",
   "language": "python",
   "name": "python3"
  },
  "language_info": {
   "codemirror_mode": {
    "name": "ipython",
    "version": 3
   },
   "file_extension": ".py",
   "mimetype": "text/x-python",
   "name": "python",
   "nbconvert_exporter": "python",
   "pygments_lexer": "ipython3",
   "version": "3.13.2"
  }
 },
 "nbformat": 4,
 "nbformat_minor": 5
}

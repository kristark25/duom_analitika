{
 "cells": [
  {
   "cell_type": "markdown",
   "id": "6cdaa3a3",
   "metadata": {},
   "source": [
    "# Pasikliautinio intervalo (CI) skaičiavimas – praktinis pavyzdys"
   ]
  },
  {
   "cell_type": "code",
   "execution_count": 1,
   "id": "a551d268",
   "metadata": {},
   "outputs": [],
   "source": [
    "import numpy as np\n",
    "\n",
    "import matplotlib.pyplot as plt\n",
    "from scipy import stats\n",
    "from sklearn.datasets import fetch_california_housing\n",
    "import pandas as pd\n",
    "pd.set_option(\"display.precision\", 3)\n",
    "np.set_printoptions(precision=3)   # max 3 digits after decimal\n",
    "\n",
    "data = fetch_california_housing()\n",
    "X = data.data\n",
    "y = data.target\n"
   ]
  },
  {
   "cell_type": "markdown",
   "id": "d162dd41",
   "metadata": {},
   "source": [
    "## 1. Formulė ir funkcija"
   ]
  },
  {
   "cell_type": "code",
   "execution_count": null,
   "id": "e6972762",
   "metadata": {},
   "outputs": [
    {
     "data": {
      "text/plain": [
       "(np.float64(2.0528144249335036),\n",
       " np.float64(2.0843019132447913),\n",
       " np.float64(2.0685581690891475),\n",
       " np.float64(1.1539561587441385),\n",
       " 20640,\n",
       " np.float64(1.9600789323569),\n",
       " np.float64(0.008032199058796548),\n",
       " np.float64(0.015743744155644033))"
      ]
     },
     "execution_count": 2,
     "metadata": {},
     "output_type": "execute_result"
    }
   ],
   "source": [
    "\n",
    "def ci_t_mean(x, alpha=0.05):\n",
    "    from scipy import stats\n",
    "    import numpy as np\n",
    "    if isinstance(x, dict) and all(k in x for k in ('xbar','s','n')):\n",
    "        xbar, s, n = float(x['xbar']), float(x['s']), int(x['n'])\n",
    "    elif isinstance(x, (list, tuple, np.ndarray)) and len(x) == 3 and np.isscalar(x[0]):\n",
    "        xbar, s, n = float(x[0]), float(x[1]), int(x[2])\n",
    "    else:\n",
    "        data = np.asarray(x, dtype=float)\n",
    "        data = data[~np.isnan(data)]\n",
    "        n = data.size\n",
    "        xbar = data.mean()\n",
    "        s = data.std(ddof=1)\n",
    "    tcrit = stats.t.ppf(1 - alpha/2, df=n-1)\n",
    "    SE = s / np.sqrt(n)\n",
    "    ME = tcrit * SE\n",
    "    lo, hi = xbar - ME, xbar + ME\n",
    "    return lo, hi, xbar, s, n, tcrit, SE, ME\n",
    "\n",
    "result = ci_t_mean(y)\n",
    "result\n"
   ]
  },
  {
   "cell_type": "markdown",
   "id": "0839ad0e",
   "metadata": {},
   "source": [
    "# 🔎 Paaiškinimai\n",
    "\n",
    "- **`lo`** – *apatinė CI riba*  \n",
    "  Žemiausia reikšmė, kurioje, tikėtina, gali būti tikrasis populiacijos vidurkis.  \n",
    "\n",
    "- **`hi`** – *viršutinė CI riba*  \n",
    "  Aukščiausia reikšmė, kurioje, tikėtina, gali būti tikrasis populiacijos vidurkis.  \n",
    "\n",
    "- **`xbar` ( \\(\\bar{x}\\) )** – *imties vidurkis*  \n",
    "  Tai, ką apskaičiuojame tiesiogiai iš turimų duomenų.  \n",
    "\n",
    "- **`s`** – *imties standartinis nuokrypis*  \n",
    "  Parodo, kiek duomenys išsisklaido aplink vidurkį.  \n",
    "\n",
    "- **`n`** – *imties dydis*  \n",
    "  Kiek yra stebėjimų (duomenų taškų).  \n",
    "\n",
    "- **`tcrit`** – *kritinė t reikšmė*  \n",
    "  Ribinė reikšmė iš Student t-skirstinio, priklausanti nuo α (pvz., 0.05) ir laisvės laipsnių (df = n-1).  \n",
    "\n",
    "- **`SE` (Standard Error)** – *standartinė paklaida*  \n",
    "  \\[\n",
    "  SE = \\frac{s}{\\sqrt{n}}\n",
    "  \\]  \n",
    "  Rodo, kiek svyruotų imties vidurkis, jei imtumėme daug imčių iš tos pačios populiacijos.  \n",
    "\n",
    "- **`ME` (Margin of Error)** – *paklaidos dydis*  \n",
    "  \\[\n",
    "  ME = t_{\\text{crit}} \\cdot SE\n",
    "  \\]  \n",
    "  Kiek ± nuo vidurkio reikia eiti, kad gautume CI ribas. \n",
    "\n",
    "  👉 **Pavyzdys (žmonių ūgio duomenys):**\n",
    "\n",
    "- x/ = 175 cm \n",
    "- s = 10 cm\n",
    "- n = 25\n",
    "- **95% CI → lo = 171.0, hi = 179.0**\n",
    "\n",
    "---\n",
    "\n",
    "✅ **Interpretacija:**  \n",
    "Su 95% tikimybe tikrasis **populiacijos vidurkis** yra tarp **171 ir 179 cm**.   "
   ]
  },
  {
   "cell_type": "markdown",
   "id": "d56b719d",
   "metadata": {},
   "source": []
  },
  {
   "cell_type": "code",
   "execution_count": null,
   "id": "02eeaf82",
   "metadata": {},
   "outputs": [
    {
     "data": {
      "text/html": [
       "<div>\n",
       "<style scoped>\n",
       "    .dataframe tbody tr th:only-of-type {\n",
       "        vertical-align: middle;\n",
       "    }\n",
       "\n",
       "    .dataframe tbody tr th {\n",
       "        vertical-align: top;\n",
       "    }\n",
       "\n",
       "    .dataframe thead th {\n",
       "        text-align: right;\n",
       "    }\n",
       "</style>\n",
       "<table border=\"1\" class=\"dataframe\">\n",
       "  <thead>\n",
       "    <tr style=\"text-align: right;\">\n",
       "      <th></th>\n",
       "      <th>Metric</th>\n",
       "      <th>Value</th>\n",
       "    </tr>\n",
       "  </thead>\n",
       "  <tbody>\n",
       "    <tr>\n",
       "      <th>0</th>\n",
       "      <td>Sample mean (x̄)</td>\n",
       "      <td>2.069</td>\n",
       "    </tr>\n",
       "    <tr>\n",
       "      <th>1</th>\n",
       "      <td>Std deviation (s)</td>\n",
       "      <td>1.154</td>\n",
       "    </tr>\n",
       "    <tr>\n",
       "      <th>2</th>\n",
       "      <td>Sample size (n)</td>\n",
       "      <td>20640.000</td>\n",
       "    </tr>\n",
       "    <tr>\n",
       "      <th>3</th>\n",
       "      <td>t critical (tcrit)</td>\n",
       "      <td>1.960</td>\n",
       "    </tr>\n",
       "    <tr>\n",
       "      <th>4</th>\n",
       "      <td>Std Error (SE)</td>\n",
       "      <td>0.008</td>\n",
       "    </tr>\n",
       "    <tr>\n",
       "      <th>5</th>\n",
       "      <td>Margin of Error (ME)</td>\n",
       "      <td>0.016</td>\n",
       "    </tr>\n",
       "    <tr>\n",
       "      <th>6</th>\n",
       "      <td>CI lower bound (lo)</td>\n",
       "      <td>2.053</td>\n",
       "    </tr>\n",
       "    <tr>\n",
       "      <th>7</th>\n",
       "      <td>CI upper bound (hi)</td>\n",
       "      <td>2.084</td>\n",
       "    </tr>\n",
       "  </tbody>\n",
       "</table>\n",
       "</div>"
      ],
      "text/plain": [
       "                 Metric      Value\n",
       "0      Sample mean (x̄)      2.069\n",
       "1     Std deviation (s)      1.154\n",
       "2       Sample size (n)  20640.000\n",
       "3    t critical (tcrit)      1.960\n",
       "4        Std Error (SE)      0.008\n",
       "5  Margin of Error (ME)      0.016\n",
       "6   CI lower bound (lo)      2.053\n",
       "7   CI upper bound (hi)      2.084"
      ]
     },
     "execution_count": 3,
     "metadata": {},
     "output_type": "execute_result"
    }
   ],
   "source": [
    "def ci_t_mean_simple(x, alpha=0.05): #   alpha : float, optional\n",
    "                                     #   Significance level (default=0.05 → 95% CI).\n",
    "    from scipy import stats\n",
    "    import numpy as np\n",
    "    \n",
    "    data = np.asarray(x, dtype=float)   #array-like\n",
    "                                        #Sample data (list, numpy array, or pandas Series)\n",
    "    data = data[~np.isnan(data)]   # pašalinam NaN, jei yra\n",
    "\n",
    "    n = data.size\n",
    "    xbar = data.mean()\n",
    "    s = data.std(ddof=1)\n",
    "    # kritinė t reikšmė\n",
    "    tcrit = stats.t.ppf(1 - alpha/2, df=n-1)\n",
    "     # standartinė paklaida\n",
    "    SE = s / np.sqrt(n)\n",
    "    # paklaidos dydis\n",
    "    ME = tcrit * SE\n",
    "    # CI ribos\n",
    "    lo, hi = xbar - ME, xbar + ME\n",
    "    \n",
    "    return lo, hi, xbar, s, n, tcrit, SE, ME\n",
    "\n",
    "result = ci_t_mean_simple(y)\n",
    "result\n",
    "lo, hi, xbar, s, n, tcrit, SE, ME = result\n",
    "# Put them in a DataFrame\n",
    "results = pd.DataFrame({\n",
    "    \"Metric\": [\n",
    "        \"Sample mean (x̄)\", \n",
    "        \"Std deviation (s)\", \n",
    "        \"Sample size (n)\", \n",
    "        \"t critical (tcrit)\", \n",
    "        \"Std Error (SE)\", \n",
    "        \"Margin of Error (ME)\", \n",
    "        \"CI lower bound (lo)\", \n",
    "        \"CI upper bound (hi)\"\n",
    "    ],\n",
    "    \"Value\": [xbar, s, n, tcrit, SE, ME, lo, hi]\n",
    "})\n",
    "\n",
    "results[\"Value\"] = results[\"Value\"]\n",
    "results"
   ]
  },
  {
   "cell_type": "code",
   "execution_count": null,
   "id": "4fe71cee",
   "metadata": {},
   "outputs": [
    {
     "name": "stdout",
     "output_type": "stream",
     "text": [
      "Apatinė riba (lo): 2.053\n",
      "Viršutinė riba (hi): 2.084\n",
      "Imties vidurkis (x̄): 2.069\n",
      "Imties standartinis nuokrypis (s): 1.154\n",
      "Imties dydis (n): 20640\n",
      "Kritinė t reikšmė (tcrit): 1.960\n",
      "Standartinė paklaida (SE): 0.008\n",
      "Paklaidos dydis (ME): 0.016\n"
     ]
    }
   ],
   "source": [
    "print(f\"Apatinė riba (lo): {lo:.3f}\")\n",
    "print(f\"Viršutinė riba (hi): {hi:.3f}\")\n",
    "print(f\"Imties vidurkis (x̄): {xbar:.3f}\")\n",
    "print(f\"Imties standartinis nuokrypis (s): {s:.3f}\")\n",
    "print(f\"Imties dydis (n): {n}\")\n",
    "print(f\"Kritinė t reikšmė (tcrit): {tcrit:.3f}\")\n",
    "print(f\"Standartinė paklaida (SE): {SE:.3f}\")\n",
    "print(f\"Paklaidos dydis (ME): {ME:.3f}\")"
   ]
  },
  {
   "cell_type": "markdown",
   "id": "15bdb268",
   "metadata": {},
   "source": [
    "# 🔎 Ką tai reiškia\n",
    "\n",
    "1. **`stats.t`**  \n",
    "   Reiškia **Student t-skirstinį**.\n",
    "\n",
    "2. **`ppf`**  \n",
    "   = *percent point function* – tai yra kumuliacinės skirstinio funkcijos (CDF) atvirkštinė funkcija.  \n",
    "   👉 Paprastai tariant: duota tikimybė, ji grąžina **t reikšmę (kritinę reikšmę)** pagal tą tikimybę.  \n",
    "   (Tarsi *„kokia t riba palieka tiek tikimybės uodegose?“*).\n",
    "\n",
    "3. **`1 - alpha/2`**  \n",
    "   Kadangi pasikliautiniai intervalai yra dvišaliai, α daliname į dvi uodegas.  \n",
    "   Pavyzdys:  \n",
    "   - 95% PI atveju α = 0.05  \n",
    "   - Kiekvienoje uodegoje po 0.025  \n",
    "   - Todėl ieškome ribos ties 1 – 0.025 = 0.975 kvantiliu.\n",
    "\n",
    "4. **`df = n-1`**  \n",
    "   Laisvės laipsniai t-skirstiniui = imties dydis − 1.  \n",
    "   (Nes dispersija vertinama pagal imtį, o ne populiaciją.)\n",
    "\n",
    "---\n",
    "\n",
    "# 📘 Interpretacija\n",
    "\n",
    "`tcrit` yra **kritinė t reikšmė**, kuria padauginame standartinę paklaidą (SE), kad sudarytume pasikliautinį intervalą.\n",
    "\n",
    "**Vidurkio PI formulė:**\n",
    "\n",
    "\\[\n",
    "\\bar{x} \\;\\pm\\; t_{\\text{krit}} \\cdot \\frac{s}{\\sqrt{n}}\n",
    "\\]\n",
    "\n",
    "---\n",
    "\n",
    "# 🔢 Pavyzdys\n",
    "\n",
    "Jeigu n = 20 ir α = 0.05:\n",
    "\n",
    "```python\n",
    "from scipy import stats\n",
    "\n",
    "tcrit = stats.t.ppf(0.975, df=19)\n",
    "print(tcrit)  # → apie 2.093"
   ]
  },
  {
   "cell_type": "markdown",
   "id": "311810ed",
   "metadata": {},
   "source": [
    "## 2. Pardavimų pavyzdys (x̄=12 500, s=1 000, n=20)"
   ]
  },
  {
   "cell_type": "code",
   "execution_count": null,
   "id": "07169393",
   "metadata": {},
   "outputs": [
    {
     "data": {
      "text/html": [
       "<div>\n",
       "<style scoped>\n",
       "    .dataframe tbody tr th:only-of-type {\n",
       "        vertical-align: middle;\n",
       "    }\n",
       "\n",
       "    .dataframe tbody tr th {\n",
       "        vertical-align: top;\n",
       "    }\n",
       "\n",
       "    .dataframe thead th {\n",
       "        text-align: right;\n",
       "    }\n",
       "</style>\n",
       "<table border=\"1\" class=\"dataframe\">\n",
       "  <thead>\n",
       "    <tr style=\"text-align: right;\">\n",
       "      <th></th>\n",
       "      <th>Metric</th>\n",
       "      <th>Value</th>\n",
       "    </tr>\n",
       "  </thead>\n",
       "  <tbody>\n",
       "    <tr>\n",
       "      <th>0</th>\n",
       "      <td>Sample mean (x̄)</td>\n",
       "      <td>12500.000</td>\n",
       "    </tr>\n",
       "    <tr>\n",
       "      <th>1</th>\n",
       "      <td>Std deviation (s)</td>\n",
       "      <td>1000.000</td>\n",
       "    </tr>\n",
       "    <tr>\n",
       "      <th>2</th>\n",
       "      <td>Sample size (n)</td>\n",
       "      <td>20.000</td>\n",
       "    </tr>\n",
       "    <tr>\n",
       "      <th>3</th>\n",
       "      <td>t critical (tcrit)</td>\n",
       "      <td>2.093</td>\n",
       "    </tr>\n",
       "    <tr>\n",
       "      <th>4</th>\n",
       "      <td>Std Error (SE)</td>\n",
       "      <td>223.607</td>\n",
       "    </tr>\n",
       "    <tr>\n",
       "      <th>5</th>\n",
       "      <td>Margin of Error (ME)</td>\n",
       "      <td>468.014</td>\n",
       "    </tr>\n",
       "    <tr>\n",
       "      <th>6</th>\n",
       "      <td>CI lower bound (lo)</td>\n",
       "      <td>12031.986</td>\n",
       "    </tr>\n",
       "    <tr>\n",
       "      <th>7</th>\n",
       "      <td>CI upper bound (hi)</td>\n",
       "      <td>12968.014</td>\n",
       "    </tr>\n",
       "  </tbody>\n",
       "</table>\n",
       "</div>"
      ],
      "text/plain": [
       "                 Metric      Value\n",
       "0      Sample mean (x̄)  12500.000\n",
       "1     Std deviation (s)   1000.000\n",
       "2       Sample size (n)     20.000\n",
       "3    t critical (tcrit)      2.093\n",
       "4        Std Error (SE)    223.607\n",
       "5  Margin of Error (ME)    468.014\n",
       "6   CI lower bound (lo)  12031.986\n",
       "7   CI upper bound (hi)  12968.014"
      ]
     },
     "execution_count": 76,
     "metadata": {},
     "output_type": "execute_result"
    }
   ],
   "source": [
    "\n",
    "xbar = 12500; s = 1000; n = 20\n",
    "\n",
    "lo, hi, xbar_, s_, n_, tcrit, SE, ME = ci_t_mean({'xbar':xbar, 's':s, 'n':n})\n",
    "\n",
    "# Put them in a DataFrame\n",
    "results = pd.DataFrame({\n",
    "    \"Metric\": [\n",
    "        \"Sample mean (x̄)\", \n",
    "        \"Std deviation (s)\", \n",
    "        \"Sample size (n)\", \n",
    "        \"t critical (tcrit)\", \n",
    "        \"Std Error (SE)\", \n",
    "        \"Margin of Error (ME)\", \n",
    "        \"CI lower bound (lo)\", \n",
    "        \"CI upper bound (hi)\"\n",
    "    ],\n",
    "    \"Value\": [xbar_, s, n, tcrit, SE, ME, lo, hi]\n",
    "})\n",
    "\n",
    "results[\"Value\"] = results[\"Value\"]\n",
    "results\n"
   ]
  },
  {
   "cell_type": "markdown",
   "id": "16d50b50",
   "metadata": {},
   "source": [
    "## 3. Grafikas: vidurkis + 95% CI"
   ]
  },
  {
   "cell_type": "code",
   "execution_count": null,
   "id": "51048eb8",
   "metadata": {},
   "outputs": [
    {
     "data": {
      "image/png": "[encoded data removed]",
      "text/plain": [
       "<Figure size 640x480 with 1 Axes>"
      ]
     },
     "metadata": {},
     "output_type": "display_data"
    }
   ],
   "source": [
    "\n",
    "import matplotlib.pyplot as plt\n",
    "fig, ax = plt.subplots()\n",
    "ax.plot([0,1],[xbar,xbar], lw=2, label='Vidurkis')\n",
    "ax.fill_between([0,1],[lo,lo],[hi,hi], alpha=0.30, label='95% CI')\n",
    "ax.set_xlim(0,1); ax.set_xticks([])\n",
    "ax.legend(); plt.show()\n"
   ]
  },
  {
   "cell_type": "markdown",
   "id": "3ce56bff",
   "metadata": {},
   "source": [
    "## 4. 90% ir 99% CI palyginimas"
   ]
  },
  {
   "cell_type": "code",
   "execution_count": null,
   "id": "adac6bfa",
   "metadata": {},
   "outputs": [
    {
     "name": "stdout",
     "output_type": "stream",
     "text": [
      "90%: 12113.35414913129 12886.64585086871\n",
      "99%: 11860.275574079638 13139.724425920362\n"
     ]
    }
   ],
   "source": [
    "\n",
    "from scipy import stats\n",
    "def ci_bounds(xbar, s, n, alpha):\n",
    "    tcrit = stats.t.ppf(1-alpha/2, df=n-1)\n",
    "    SE = s/np.sqrt(n); ME = tcrit*SE\n",
    "    return xbar-ME, xbar+ME\n",
    "lo90, hi90 = ci_bounds(xbar, s, n, 0.10)\n",
    "lo99, hi99 = ci_bounds(xbar, s, n, 0.01)\n",
    "print('90%:', lo90, hi90); print('99%:', lo99, hi99)\n"
   ]
  },
  {
   "cell_type": "code",
   "execution_count": null,
   "id": "c57997d9",
   "metadata": {},
   "outputs": [],
   "source": []
  },
  {
   "cell_type": "code",
   "execution_count": null,
   "id": "e5b07e10",
   "metadata": {},
   "outputs": [
    {
     "name": "stdout",
     "output_type": "stream",
     "text": [
      "🔹 90% CI: [12,113.35  ,  12,886.65]\n",
      "🔹 95% CI: [12,031.99  ,  12,968.01]\n",
      "🔹 99% CI: [11,860.28  ,  13,139.72]\n"
     ]
    }
   ],
   "source": [
    "def ci_bounds(xbar, s, n, alpha):\n",
    "    \"\"\"Calculate CI bounds for a given alpha level.\"\"\"\n",
    "    tcrit = stats.t.ppf(1 - alpha/2, df=n-1)\n",
    "    SE = s / np.sqrt(n)\n",
    "    ME = tcrit * SE\n",
    "    return xbar - ME, xbar + ME\n",
    "\n",
    "# Example values\n",
    "xbar, s, n = 12500, 1000, 20\n",
    "\n",
    "# Different confidence levels\n",
    "for alpha, level in [(0.10, 90), (0.05, 95), (0.01, 99)]:\n",
    "    lo, hi = ci_bounds(xbar, s, n, alpha)\n",
    "    print(f\"🔹 {level}% CI: [{lo:,.2f}  ,  {hi:,.2f}]\")"
   ]
  },
  {
   "cell_type": "markdown",
   "id": "4c387142",
   "metadata": {},
   "source": [
    "## 5. Bendra funkcija bet kokiems duomenims"
   ]
  },
  {
   "cell_type": "code",
   "execution_count": null,
   "id": "e0a73a86",
   "metadata": {},
   "outputs": [
    {
     "name": "stdout",
     "output_type": "stream",
     "text": [
      "n= 20 xbar= 12590.0 s= 505.13156181022987 CI= (np.float64(12353.591151935423), np.float64(12826.408848064577))\n"
     ]
    }
   ],
   "source": [
    "\n",
    "your_data = [12500,12000,13300,11800,12900,12650,13050,12200,12750,11950,12300,13100,12450,12800,12150,13200,11750,13400,12600,12950]\n",
    "lo_u, hi_u, xbar_u, s_u, n_u, *_ = ci_t_mean(your_data)\n",
    "print('n=', n_u, 'xbar=', xbar_u, 's=', s_u, 'CI=', (lo_u, hi_u))\n"
   ]
  },
  {
   "cell_type": "markdown",
   "id": "68a783a6",
   "metadata": {},
   "source": [
    "## Chi-squared test"
   ]
  },
  {
   "cell_type": "code",
   "execution_count": null,
   "id": "e094f9e9",
   "metadata": {},
   "outputs": [
    {
     "name": "stdout",
     "output_type": "stream",
     "text": [
      "260.71702016732104 1.197357062775565e-58 1\n",
      "[[120.525 193.475]\n",
      " [221.475 355.525]]\n"
     ]
    }
   ],
   "source": [
    "import numpy as np \n",
    "from scipy.stats import chi2_contingency\n",
    "table = np.array([[233, 81],  # moterys: [išgyveno, ne]            \n",
    "                [109, 468]]) # vyrai: [išgyveno, ne]\n",
    "chi2, p, dof, expected = chi2_contingency(table)\n",
    "print(chi2, p, dof)\n",
    "print(expected)\n"
   ]
  }
 ],
 "metadata": {
  "kernelspec": {
   "display_name": ".venv",
   "language": "python",
   "name": "python3"
  },
  "language_info": {
   "codemirror_mode": {
    "name": "ipython",
    "version": 3
   },
   "file_extension": ".py",
   "mimetype": "text/x-python",
   "name": "python",
   "nbconvert_exporter": "python",
   "pygments_lexer": "ipython3",
   "version": "3.13.5"
  }
 },
 "nbformat": 4,
 "nbformat_minor": 5
}

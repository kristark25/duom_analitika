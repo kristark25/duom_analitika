{
 "cells": [
  {
   "cell_type": "markdown",
   "id": "27df5884",
   "metadata": {},
   "source": [
    "# 01 – Aprašomoji statistika\n",
    "\n",
    "## Kas yra aprašomoji statistika?\n",
    "\n",
    "Aprašomoji statistika padeda suprasti duomenis naudojant įvairius rodiklius:\n",
    "\n",
    "- **Vidurkis (mean):** skaičių suma padalinta iš jų skaičiaus.\n",
    "- **Mediana (median):** vidurinė reikšmė, kai duomenys surikiuoti.\n",
    "- **Moda (mode):** dažniausiai pasikartojanti reikšmė.\n",
    "- **Dispersija (variance):** parodo, kiek duomenys išsisklaidę nuo vidurkio.\n",
    "- **Standartinis nuokrypis (std):** dispersijos šaknis, rodo tipinį nuokrypį.\n",
    "- **IQR (interkvartilinis nuotolis):** skirtumas tarp 75% ir 25% kvartilių (parodo duomenų „vidurinės dalies“ išsisklaidymą)."
   ]
  },
  {
   "cell_type": "markdown",
   "id": "7337ad6a",
   "metadata": {},
   "source": [
    "## 0 žinksnis: **Bibliotekų importavimas**"
   ]
  },
  {
   "cell_type": "code",
   "execution_count": 61,
   "id": "4eeab621",
   "metadata": {},
   "outputs": [],
   "source": [
    "# 1 Įkeliame reikalingas bibliotekas\n",
    "import numpy as np\n",
    "import pandas as pd\n",
    "import matplotlib.pyplot as plt"
   ]
  },
  {
   "cell_type": "markdown",
   "id": "0e127fa5",
   "metadata": {},
   "source": [
    "## 1 žinksnis: **Duomenų įkėlimas**"
   ]
  },
  {
   "cell_type": "code",
   "execution_count": 62,
   "id": "dfbbe9fa",
   "metadata": {},
   "outputs": [],
   "source": [
    "# 2 Sukuriame duomenų rinkinį\n",
    "data = pd.DataFrame({\n",
    "    \"pazymiai\": [8, 9, 7, 6, 10, 9, 5, 7, 8, 6, 9, 10, 8, 7, 6, 4, 1, 3, 2, 25, 13],})"
   ]
  },
  {
   "cell_type": "markdown",
   "id": "f61f4a5c",
   "metadata": {},
   "source": [
    "## 2 žinksnis: **Duomenų apžvalga (EDA)**"
   ]
  },
  {
   "cell_type": "code",
   "execution_count": 63,
   "id": "e240d836",
   "metadata": {},
   "outputs": [
    {
     "data": {
      "text/plain": [
       "(21, 1)"
      ]
     },
     "execution_count": 63,
     "metadata": {},
     "output_type": "execute_result"
    }
   ],
   "source": [
    "data.shape"
   ]
  },
  {
   "cell_type": "code",
   "execution_count": 64,
   "id": "f164bd89",
   "metadata": {},
   "outputs": [
    {
     "data": {
      "text/html": [
       "<div>\n",
       "<style scoped>\n",
       "    .dataframe tbody tr th:only-of-type {\n",
       "        vertical-align: middle;\n",
       "    }\n",
       "\n",
       "    .dataframe tbody tr th {\n",
       "        vertical-align: top;\n",
       "    }\n",
       "\n",
       "    .dataframe thead th {\n",
       "        text-align: right;\n",
       "    }\n",
       "</style>\n",
       "<table border=\"1\" class=\"dataframe\">\n",
       "  <thead>\n",
       "    <tr style=\"text-align: right;\">\n",
       "      <th></th>\n",
       "      <th>pazymiai</th>\n",
       "    </tr>\n",
       "  </thead>\n",
       "  <tbody>\n",
       "    <tr>\n",
       "      <th>count</th>\n",
       "      <td>21.000000</td>\n",
       "    </tr>\n",
       "    <tr>\n",
       "      <th>mean</th>\n",
       "      <td>7.761905</td>\n",
       "    </tr>\n",
       "    <tr>\n",
       "      <th>std</th>\n",
       "      <td>4.867286</td>\n",
       "    </tr>\n",
       "    <tr>\n",
       "      <th>min</th>\n",
       "      <td>1.000000</td>\n",
       "    </tr>\n",
       "    <tr>\n",
       "      <th>25%</th>\n",
       "      <td>6.000000</td>\n",
       "    </tr>\n",
       "    <tr>\n",
       "      <th>50%</th>\n",
       "      <td>7.000000</td>\n",
       "    </tr>\n",
       "    <tr>\n",
       "      <th>75%</th>\n",
       "      <td>9.000000</td>\n",
       "    </tr>\n",
       "    <tr>\n",
       "      <th>max</th>\n",
       "      <td>25.000000</td>\n",
       "    </tr>\n",
       "  </tbody>\n",
       "</table>\n",
       "</div>"
      ],
      "text/plain": [
       "        pazymiai\n",
       "count  21.000000\n",
       "mean    7.761905\n",
       "std     4.867286\n",
       "min     1.000000\n",
       "25%     6.000000\n",
       "50%     7.000000\n",
       "75%     9.000000\n",
       "max    25.000000"
      ]
     },
     "execution_count": 64,
     "metadata": {},
     "output_type": "execute_result"
    }
   ],
   "source": [
    "data.describe()"
   ]
  },
  {
   "cell_type": "code",
   "execution_count": 65,
   "id": "dbf3cd33",
   "metadata": {},
   "outputs": [
    {
     "name": "stdout",
     "output_type": "stream",
     "text": [
      "<class 'pandas.core.frame.DataFrame'>\n",
      "RangeIndex: 21 entries, 0 to 20\n",
      "Data columns (total 1 columns):\n",
      " #   Column    Non-Null Count  Dtype\n",
      "---  ------    --------------  -----\n",
      " 0   pazymiai  21 non-null     int64\n",
      "dtypes: int64(1)\n",
      "memory usage: 300.0 bytes\n"
     ]
    }
   ],
   "source": [
    "data.info()"
   ]
  },
  {
   "cell_type": "code",
   "execution_count": 66,
   "id": "c529dcd7",
   "metadata": {},
   "outputs": [
    {
     "data": {
      "text/plain": [
       "pazymiai    0\n",
       "dtype: int64"
      ]
     },
     "execution_count": 66,
     "metadata": {},
     "output_type": "execute_result"
    }
   ],
   "source": [
    "data.isnull().sum()  # Patikriname, ar yra trūkstamų reikšmių"
   ]
  },
  {
   "cell_type": "markdown",
   "id": "32e8cca4",
   "metadata": {},
   "source": [
    "## Užduotis 1:\n",
    "\n",
    "Turite `DataFrame` su stulpeliu **`pazymiai`**, kuriame yra studentų pažymiai (pvz., nuo 1 iki 10).  \n",
    "\n",
    "1. Apskaičiuokite šiuos rodiklius:\n",
    "   - **Vidurkis**  \n",
    "   - **Mediana**  \n",
    "   - **Moda**  \n",
    "   - **Dispersija**  \n",
    "   - **Standartinis nuokrypis**  \n",
    "   - **IQR** (tarpkvartilinis diapazonas: Q3 – Q1)\n",
    "\n",
    "2. Rezultatus **išveskite su `print()`** taip, kad formatas atrodytų maždaug taip: \n",
    "\n",
    "Vidurkis: 7.25"
   ]
  },
  {
   "cell_type": "markdown",
   "id": "40346c92",
   "metadata": {},
   "source": [
    "- Naudokite `.mean()`, `.median()`, `.mode()`, `.var()` (dispersijai), `.std()`, `.quantile(0.75)` ir `.quantile(0.25)` metodus.  "
   ]
  },
  {
   "cell_type": "code",
   "execution_count": 67,
   "id": "0eb5c663",
   "metadata": {},
   "outputs": [
    {
     "name": "stdout",
     "output_type": "stream",
     "text": [
      "Vidurkis: 7.76\n",
      "Mediana: 7.0\n",
      "Moda: [6 7 8 9]\n",
      "Dispersija pazymiai    22.56\n",
      "dtype: float64\n",
      "St. nuokrypis: 4.87\n",
      "Q1: 6.0 Q3: 9.0\n",
      "IQR: 3.0\n"
     ]
    },
    {
     "name": "stderr",
     "output_type": "stream",
     "text": [
      "c:\\Users\\krist\\AppData\\Local\\Programs\\Python\\Python313\\Lib\\site-packages\\numpy\\_core\\fromnumeric.py:4266: FutureWarning: The behavior of DataFrame.var with axis=None is deprecated, in a future version this will reduce over both axes and return a scalar. To retain the old behavior, pass axis=0 (or do not pass axis)\n",
      "  return var(axis=axis, dtype=dtype, out=out, ddof=ddof, **kwargs)\n"
     ]
    }
   ],
   "source": [
    "# Aprašomoji statistika\n",
    "print('Vidurkis:', round(data['pazymiai'].mean(),2))\n",
    "print('Mediana:', data['pazymiai'].median())\n",
    "print('Moda:', data['pazymiai'].mode().values)\n",
    "print('Dispersija', round(np.var(data),2))\n",
    "print('St. nuokrypis:', round(data['pazymiai'].std(),2)) # Standartinis nuokrypi\n",
    "Q1 = data['pazymiai'].quantile(0.25)  # Pirmasis kvartilis\n",
    "Q3 = data['pazymiai'].quantile(0.75)  # Trečiasis kvartilis\n",
    "IQR = Q3 - Q1\n",
    "print('Q1:', Q1, 'Q3:', Q3)\n",
    "print('IQR:', IQR) \n",
    "# Q1 = 0.25 * 18 = 4.5\n",
    "# Q1_rez = (6+10)/2\n",
    "# Q3 = 0.75 * 18 = 13.5\n",
    "# Q3_rez = (8+9)/2\n",
    "# print('Q1_rez:', Q1_rez, 'Q3_rez:', Q3_rez)"
   ]
  },
  {
   "cell_type": "markdown",
   "id": "c6acebca",
   "metadata": {},
   "source": [
    "\n",
    "## Duomenų vizualizavimas\n"
   ]
  },
  {
   "cell_type": "markdown",
   "id": "ff3f3302",
   "metadata": {},
   "source": [
    "## Užduotis 2 : Pažymių pasiskirstymo histograma\n",
    "\n",
    "Turite `DataFrame` su stulpeliu **`pazymiai`**.  \n",
    "\n",
    "Atvaizduokite pažymių pasiskirstymą naudodami **histogramą**:  \n",
    "- naudokite `plt.hist(...)`;  \n",
    "- pasirinkite tinkamą **stulpelių (bins)** skaičių, pvz., `bins=5`;  \n",
    "- pridėkite **pavadinimą** (`plt.title`),  \n",
    "- **ašių etiketes** (`plt.xlabel`, `plt.ylabel`),  \n",
    "- ir paryškinkite stulpelių kraštines su `edgecolor=\"black\"`.  \n"
   ]
  },
  {
   "cell_type": "code",
   "execution_count": 68,
   "id": "e58e51a3",
   "metadata": {},
   "outputs": [
    {
     "data": {
      "image/png": "[encoded data removed]",
      "text/plain": [
       "<Figure size 640x480 with 1 Axes>"
      ]
     },
     "metadata": {},
     "output_type": "display_data"
    }
   ],
   "source": [
    "# Histograma\n",
    "plt.hist(data['pazymiai'], bins=5, edgecolor='black')\n",
    "plt.title('Pazymiai')\n",
    "plt.xlabel('Pazymiai')\n",
    "plt.ylabel('Dažnis')\n",
    "plt.grid(axis='y', alpha=0.75)\n",
    "plt.show()"
   ]
  },
  {
   "cell_type": "markdown",
   "id": "d9f4d1d6",
   "metadata": {},
   "source": [
    "## Užduotis 3 : Pažymių (Boxplot) diagrama\n",
    "\n",
    "Atvaizduokite šio stulpelio **dėžutės diagramą (boxplot)**:  \n",
    "- naudokite `plt.boxplot(...)`;  \n",
    "- pavaizduokite **horizontalų** boxplot (`vert=False`);  \n",
    "- pridėkite **pavadinimą** (`plt.title`).  \n",
    "\n",
    "*Atkreipkite dėmesį:* dėžutės diagrama leidžia pamatyti **medianą, kvartilius ir galimus outlierius**.\n"
   ]
  },
  {
   "cell_type": "code",
   "execution_count": 80,
   "id": "03a97cdc",
   "metadata": {},
   "outputs": [
    {
     "data": {
      "image/png": "[encoded data removed]",
      "text/plain": [
       "<Figure size 640x480 with 1 Axes>"
      ]
     },
     "metadata": {},
     "output_type": "display_data"
    }
   ],
   "source": [
    "# Boxplot (dėžutės diagrama)\n",
    "plt.boxplot(data['pazymiai'], vert=False)\n",
    "plt.title('Pazymiai')\n",
    "plt.xlabel('Pazymiai')\n",
    "plt.grid(axis='x', alpha=0.5, linestyle='--')\n",
    "plt.show()"
   ]
  },
  {
   "cell_type": "code",
   "execution_count": 70,
   "id": "b7882c72",
   "metadata": {},
   "outputs": [
    {
     "name": "stdout",
     "output_type": "stream",
     "text": [
      "6.0 9.0 Wisker_1: 1.5 Wisker_3: 13.5\n"
     ]
    }
   ],
   "source": [
    "Wisker_1 = Q1 - (1.5 * IQR)\n",
    "Wisker_3 = Q3 + (1.5 * IQR)\n",
    "print(Q1, Q3, 'Wisker_1:', Wisker_1, 'Wisker_3:', Wisker_3)"
   ]
  }
 ],
 "metadata": {
  "kernelspec": {
   "display_name": "Python 3",
   "language": "python",
   "name": "python3"
  },
  "language_info": {
   "codemirror_mode": {
    "name": "ipython",
    "version": 3
   },
   "file_extension": ".py",
   "mimetype": "text/x-python",
   "name": "python",
   "nbconvert_exporter": "python",
   "pygments_lexer": "ipython3",
   "version": "3.13.4"
  }
 },
 "nbformat": 4,
 "nbformat_minor": 5
}

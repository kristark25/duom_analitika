{
 "cells": [
  {
   "cell_type": "markdown",
   "id": "d98f2756",
   "metadata": {},
   "source": [
    "# Tikimybių teorijos praktika: kauliukai ir kortos"
   ]
  },
  {
   "cell_type": "markdown",
   "id": "792ce8cd",
   "metadata": {},
   "source": [
    "Klasikinės tikimybės formulė:\n",
    "\n",
    "$$\n",
    "P(A) = \\frac{\\text{palankių baigčių skaičius}}{\\text{visų vienodai tikėtinų baigčių skaičius}}\n",
    "$$\n"
   ]
  },
  {
   "cell_type": "markdown",
   "id": "f1d65551",
   "metadata": {},
   "source": [
    "**Priešingo įvykio formulė:**\n",
    "\n",
    "$$\n",
    "P(A) = 1 - P(A^c)\n",
    "$$\n",
    "\n",
    "$$\n",
    "P(\\text{įvykis A}) = 1 - P(\\text{priešingas įvykis A})\n",
    "$$\n",
    "\n",
    "- Tikimybė, kad įvykis įvyks, lygi vienetui minus tikimybė, kad jis **neįvyks** (priešingas įvykis).\n",
    "\n",
    "Tai tikimybė, kad tas pats įvykis A neįvyks.\n",
    "Pažymima \n",
    "𝐴𝑐\n",
    "."
   ]
  },
  {
   "cell_type": "markdown",
   "id": "22eb2075",
   "metadata": {},
   "source": [
    "**Nepriklausomų įvykių formulė:**\n",
    "\n",
    "$$\n",
    "P(A \\cap B) = P(A)\\cdot P(B)\n",
    "$$\n",
    "\n",
    "$$\n",
    "P(\\text{A ir B kartu}) = P(\\text{A}) \\cdot P(\\text{B})\n",
    "$$\n",
    "\n",
    "- Jei įvykiai nepriklausomi, tikimybė, kad jie įvyks kartu, yra lygi jų tikimybių sandaugai."
   ]
  },
  {
   "cell_type": "markdown",
   "id": "450a8d85",
   "metadata": {},
   "source": [
    "**Sąlyginės tikimybės formulė:**\n",
    "\n",
    "$$\n",
    "P(A \\mid B) = \\frac{P(A \\cap B)}{P(B)}\n",
    "$$\n",
    "\n",
    "$$\n",
    "P(\\text{A, kai žinoma B}) = \\frac{P(\\text{A ir B})}{P(\\text{B})}\n",
    "$$\n",
    "\n",
    "- Tikimybė, kad įvyks įvykis **A**, kai žinoma, jog jau įvyko įvykis **B**.\n"
   ]
  },
  {
   "cell_type": "markdown",
   "id": "e5e34b83",
   "metadata": {},
   "source": [
    "## Užduotys su kauliukais"
   ]
  },
  {
   "cell_type": "markdown",
   "id": "5a5a5e24",
   "metadata": {},
   "source": [
    "**Užduotis 0.** Tikimybė, kad metant vieną kauliuką iškris skaičius 6.\n",
    "\n",
    "Tikimybė, kad metant vieną kauliuką neiškris skaičius 6."
   ]
  },
  {
   "cell_type": "code",
   "execution_count": null,
   "id": "582ce26d",
   "metadata": {},
   "outputs": [],
   "source": []
  },
  {
   "cell_type": "markdown",
   "id": "1466e3e4",
   "metadata": {},
   "source": [
    "**Užduotis 1.** Tikimybė, kad metant vieną kauliuką iškris lyginis skaičius."
   ]
  },
  {
   "cell_type": "code",
   "execution_count": null,
   "id": "f7a57d5f",
   "metadata": {},
   "outputs": [],
   "source": []
  },
  {
   "cell_type": "markdown",
   "id": "d80b8331",
   "metadata": {},
   "source": [
    "**Užduotis 2.** Tikimybė, kad dviejų kauliukų suma bus 7."
   ]
  },
  {
   "cell_type": "code",
   "execution_count": null,
   "id": "c73e2cde",
   "metadata": {},
   "outputs": [],
   "source": []
  },
  {
   "cell_type": "markdown",
   "id": "6fc58cfd",
   "metadata": {},
   "source": [
    "**Užduotis 3.** Tikimybė, kad per 3 metimus pasirodys bent vienas šešetas."
   ]
  },
  {
   "cell_type": "code",
   "execution_count": null,
   "id": "56d1fde7",
   "metadata": {},
   "outputs": [],
   "source": []
  },
  {
   "cell_type": "markdown",
   "id": "84d6a311",
   "metadata": {},
   "source": [
    "**Užduotis 4 (sąlyginė).** Žinoma, kad dviejų kauliukų suma = 9. Kokia tikimybė, kad vienas jų yra 6?"
   ]
  },
  {
   "cell_type": "code",
   "execution_count": null,
   "id": "e6fd891b",
   "metadata": {},
   "outputs": [],
   "source": []
  },
  {
   "cell_type": "markdown",
   "id": "b646ca2f",
   "metadata": {},
   "source": [
    "## Užduotys su kortomis"
   ]
  },
  {
   "cell_type": "markdown",
   "id": "24c1bc06",
   "metadata": {},
   "source": [
    "**Užduotis 5.** Tikimybė ištraukti ♥ iš 52 kortų kaladės."
   ]
  },
  {
   "cell_type": "code",
   "execution_count": null,
   "id": "8438a0be",
   "metadata": {},
   "outputs": [],
   "source": []
  },
  {
   "cell_type": "markdown",
   "id": "2e062c0d",
   "metadata": {},
   "source": [
    "**Užduotis 6 (nepriklausomumo palyginimas).** Tikimybė, kad abi traukiamos kortos bus raudonos (be grąžinimo į malką)."
   ]
  },
  {
   "cell_type": "code",
   "execution_count": null,
   "id": "a098b427",
   "metadata": {},
   "outputs": [],
   "source": []
  },
  {
   "cell_type": "markdown",
   "id": "63332541",
   "metadata": {},
   "source": [
    "**Užduotis 7.** Tikimybė, kad dvi kortos sudarys porą (tas pats rangas)."
   ]
  },
  {
   "cell_type": "code",
   "execution_count": null,
   "id": "91154669",
   "metadata": {},
   "outputs": [],
   "source": []
  },
  {
   "cell_type": "markdown",
   "id": "e0d34235",
   "metadata": {},
   "source": [
    "**Užduotis 8.** Tikimybė, kad ištraukus 3 kortas bus bent vienas tūzas."
   ]
  },
  {
   "cell_type": "code",
   "execution_count": null,
   "id": "9b3252f6",
   "metadata": {},
   "outputs": [],
   "source": []
  },
  {
   "cell_type": "code",
   "execution_count": null,
   "id": "52f56d3a",
   "metadata": {},
   "outputs": [],
   "source": []
  },
  {
   "cell_type": "markdown",
   "id": "708f1a42",
   "metadata": {},
   "source": [
    "**Užduotis 9.** Palyginkite nepriklausomumo idėją: \n",
    "- Metant 2 kauliukus, tikimybė, kad abu šešetai = ? \n",
    "- Ar ši tikimybė = (1/6)*(1/6)? \n",
    "- Tada pakartokite su 2 kortomis raudonomis be grąžinimo."
   ]
  },
  {
   "cell_type": "code",
   "execution_count": 11,
   "id": "5a825bec",
   "metadata": {},
   "outputs": [],
   "source": [
    "# Įrašykite savo sprendimą čia"
   ]
  }
 ],
 "metadata": {
  "kernelspec": {
   "display_name": "Python 3",
   "language": "python",
   "name": "python3"
  },
  "language_info": {
   "codemirror_mode": {
    "name": "ipython",
    "version": 3
   },
   "file_extension": ".py",
   "mimetype": "text/x-python",
   "name": "python",
   "nbconvert_exporter": "python",
   "pygments_lexer": "ipython3",
   "version": "3.13.2"
  }
 },
 "nbformat": 4,
 "nbformat_minor": 5
}

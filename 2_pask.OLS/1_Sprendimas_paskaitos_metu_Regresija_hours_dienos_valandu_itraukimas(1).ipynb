{
 "cells": [
  {
   "cell_type": "markdown",
   "id": "c6faa869",
   "metadata": {},
   "source": [
    "# Daugialypė regresija su `hour.csv` duomenimis\n",
    "\n",
    "Šiame užduotyje naudosime `hour.csv` duomenis ir analizuosime, kaip įvairūs veiksniai (valanda, temperatūra, drėgmė, vėjas) veikia dviračių nuomos skaičių (`cnt`)."
   ]
  },
  {
   "cell_type": "code",
   "execution_count": 1,
   "id": "29f939a2",
   "metadata": {
    "execution": {
     "iopub.execute_input": "2025-04-07T14:13:51.057178Z",
     "iopub.status.busy": "2025-04-07T14:13:51.056410Z",
     "iopub.status.idle": "2025-04-07T14:13:56.013089Z",
     "shell.execute_reply": "2025-04-07T14:13:56.011710Z"
    }
   },
   "outputs": [
    {
     "data": {
      "text/html": [
       "<div>\n",
       "<style scoped>\n",
       "    .dataframe tbody tr th:only-of-type {\n",
       "        vertical-align: middle;\n",
       "    }\n",
       "\n",
       "    .dataframe tbody tr th {\n",
       "        vertical-align: top;\n",
       "    }\n",
       "\n",
       "    .dataframe thead th {\n",
       "        text-align: right;\n",
       "    }\n",
       "</style>\n",
       "<table border=\"1\" class=\"dataframe\">\n",
       "  <thead>\n",
       "    <tr style=\"text-align: right;\">\n",
       "      <th></th>\n",
       "      <th>instant</th>\n",
       "      <th>dteday</th>\n",
       "      <th>season</th>\n",
       "      <th>yr</th>\n",
       "      <th>mnth</th>\n",
       "      <th>hr</th>\n",
       "      <th>holiday</th>\n",
       "      <th>weekday</th>\n",
       "      <th>workingday</th>\n",
       "      <th>weathersit</th>\n",
       "      <th>temp</th>\n",
       "      <th>atemp</th>\n",
       "      <th>hum</th>\n",
       "      <th>windspeed</th>\n",
       "      <th>casual</th>\n",
       "      <th>registered</th>\n",
       "      <th>cnt</th>\n",
       "    </tr>\n",
       "  </thead>\n",
       "  <tbody>\n",
       "    <tr>\n",
       "      <th>0</th>\n",
       "      <td>1</td>\n",
       "      <td>2011-01-01</td>\n",
       "      <td>1</td>\n",
       "      <td>0</td>\n",
       "      <td>1</td>\n",
       "      <td>0</td>\n",
       "      <td>0</td>\n",
       "      <td>6</td>\n",
       "      <td>0</td>\n",
       "      <td>1</td>\n",
       "      <td>10</td>\n",
       "      <td>14</td>\n",
       "      <td>81</td>\n",
       "      <td>0</td>\n",
       "      <td>3</td>\n",
       "      <td>13</td>\n",
       "      <td>16</td>\n",
       "    </tr>\n",
       "    <tr>\n",
       "      <th>1</th>\n",
       "      <td>2</td>\n",
       "      <td>2011-01-01</td>\n",
       "      <td>1</td>\n",
       "      <td>0</td>\n",
       "      <td>1</td>\n",
       "      <td>1</td>\n",
       "      <td>0</td>\n",
       "      <td>6</td>\n",
       "      <td>0</td>\n",
       "      <td>1</td>\n",
       "      <td>9</td>\n",
       "      <td>14</td>\n",
       "      <td>80</td>\n",
       "      <td>0</td>\n",
       "      <td>8</td>\n",
       "      <td>32</td>\n",
       "      <td>40</td>\n",
       "    </tr>\n",
       "    <tr>\n",
       "      <th>2</th>\n",
       "      <td>3</td>\n",
       "      <td>2011-01-01</td>\n",
       "      <td>1</td>\n",
       "      <td>0</td>\n",
       "      <td>1</td>\n",
       "      <td>2</td>\n",
       "      <td>0</td>\n",
       "      <td>6</td>\n",
       "      <td>0</td>\n",
       "      <td>1</td>\n",
       "      <td>9</td>\n",
       "      <td>14</td>\n",
       "      <td>80</td>\n",
       "      <td>0</td>\n",
       "      <td>5</td>\n",
       "      <td>27</td>\n",
       "      <td>32</td>\n",
       "    </tr>\n",
       "    <tr>\n",
       "      <th>3</th>\n",
       "      <td>4</td>\n",
       "      <td>2011-01-01</td>\n",
       "      <td>1</td>\n",
       "      <td>0</td>\n",
       "      <td>1</td>\n",
       "      <td>3</td>\n",
       "      <td>0</td>\n",
       "      <td>6</td>\n",
       "      <td>0</td>\n",
       "      <td>1</td>\n",
       "      <td>10</td>\n",
       "      <td>14</td>\n",
       "      <td>75</td>\n",
       "      <td>0</td>\n",
       "      <td>3</td>\n",
       "      <td>10</td>\n",
       "      <td>13</td>\n",
       "    </tr>\n",
       "    <tr>\n",
       "      <th>4</th>\n",
       "      <td>5</td>\n",
       "      <td>2011-01-01</td>\n",
       "      <td>1</td>\n",
       "      <td>0</td>\n",
       "      <td>1</td>\n",
       "      <td>4</td>\n",
       "      <td>0</td>\n",
       "      <td>6</td>\n",
       "      <td>0</td>\n",
       "      <td>1</td>\n",
       "      <td>10</td>\n",
       "      <td>14</td>\n",
       "      <td>75</td>\n",
       "      <td>0</td>\n",
       "      <td>0</td>\n",
       "      <td>1</td>\n",
       "      <td>1</td>\n",
       "    </tr>\n",
       "  </tbody>\n",
       "</table>\n",
       "</div>"
      ],
      "text/plain": [
       "   instant      dteday  season  yr  mnth  hr  holiday  weekday  workingday  \\\n",
       "0        1  2011-01-01       1   0     1   0        0        6           0   \n",
       "1        2  2011-01-01       1   0     1   1        0        6           0   \n",
       "2        3  2011-01-01       1   0     1   2        0        6           0   \n",
       "3        4  2011-01-01       1   0     1   3        0        6           0   \n",
       "4        5  2011-01-01       1   0     1   4        0        6           0   \n",
       "\n",
       "   weathersit  temp  atemp  hum  windspeed  casual  registered  cnt  \n",
       "0           1    10     14   81          0       3          13   16  \n",
       "1           1     9     14   80          0       8          32   40  \n",
       "2           1     9     14   80          0       5          27   32  \n",
       "3           1    10     14   75          0       3          10   13  \n",
       "4           1    10     14   75          0       0           1    1  "
      ]
     },
     "execution_count": 1,
     "metadata": {},
     "output_type": "execute_result"
    }
   ],
   "source": [
    "import pandas as pd\n",
    "import seaborn as sns\n",
    "import matplotlib.pyplot as plt\n",
    "import statsmodels.api as sm\n",
    "from sklearn.linear_model import LinearRegression\n",
    "from sklearn.metrics import r2_score\n",
    "\n",
    "# Įkeliame duomenis\n",
    "df = pd.read_csv('hour.csv')\n",
    "df.head()"
   ]
  },
  {
   "cell_type": "markdown",
   "id": "952a6714",
   "metadata": {},
   "source": [
    "## 1. Duomenų vizualizacija ir koreliacijos analizė"
   ]
  },
  {
   "cell_type": "code",
   "execution_count": 2,
   "id": "0f24d044",
   "metadata": {
    "execution": {
     "iopub.execute_input": "2025-04-07T14:13:56.021707Z",
     "iopub.status.busy": "2025-04-07T14:13:56.021138Z",
     "iopub.status.idle": "2025-04-07T14:13:56.673067Z",
     "shell.execute_reply": "2025-04-07T14:13:56.671789Z"
    }
   },
   "outputs": [
    {
     "data": {
      "image/png": "[encoded data removed]",
      "text/plain": [
       "<Figure size 1000x600 with 2 Axes>"
      ]
     },
     "metadata": {},
     "output_type": "display_data"
    }
   ],
   "source": [
    "# Koreliacijos matrica\n",
    "plt.figure(figsize=(10, 6))\n",
    "sns.heatmap(df[['temp', 'atemp', 'hum', 'hr', 'windspeed', 'cnt']].corr(), annot=True, cmap='coolwarm')\n",
    "plt.title('Koreliacijos matrica')\n",
    "plt.show()"
   ]
  },
  {
   "cell_type": "markdown",
   "id": "12d96215",
   "metadata": {},
   "source": [
    "## 2. Regresijos modelio kūrimas\n",
    "Pabandykime sukurti daugialypį modelį su nepriklausomais kintamaisiais: `hr`, `temp`, `hum`, `windspeed`, `weathersit`."
   ]
  },
  {
   "cell_type": "code",
   "execution_count": 4,
   "id": "8592eb11",
   "metadata": {
    "execution": {
     "iopub.execute_input": "2025-04-07T14:13:56.683004Z",
     "iopub.status.busy": "2025-04-07T14:13:56.682434Z",
     "iopub.status.idle": "2025-04-07T14:13:56.826192Z",
     "shell.execute_reply": "2025-04-07T14:13:56.823774Z"
    }
   },
   "outputs": [
    {
     "name": "stdout",
     "output_type": "stream",
     "text": [
      "                            OLS Regression Results                            \n",
      "==============================================================================\n",
      "Dep. Variable:                    cnt   R-squared:                       0.338\n",
      "Model:                            OLS   Adj. R-squared:                  0.338\n",
      "Method:                 Least Squares   F-statistic:                     1110.\n",
      "Date:                Wed, 06 Aug 2025   Prob (F-statistic):               0.00\n",
      "Time:                        19:46:43   Log-Likelihood:            -1.1145e+05\n",
      "No. Observations:               17379   AIC:                         2.229e+05\n",
      "Df Residuals:                   17370   BIC:                         2.230e+05\n",
      "Df Model:                           8                                         \n",
      "Covariance Type:            nonrobust                                         \n",
      "==============================================================================\n",
      "                 coef    std err          t      P>|t|      [0.025      0.975]\n",
      "------------------------------------------------------------------------------\n",
      "const         41.6613      6.749      6.173      0.000      28.432      54.890\n",
      "hr             7.4989      0.171     43.785      0.000       7.163       7.835\n",
      "temp           7.1248      0.152     46.991      0.000       6.828       7.422\n",
      "hum           -2.1999      0.071    -30.929      0.000      -2.339      -2.060\n",
      "windspeed      0.2512      0.146      1.724      0.085      -0.034       0.537\n",
      "weathersit    -1.6297      1.977     -0.824      0.410      -5.504       2.245\n",
      "season        19.6450      1.089     18.034      0.000      17.510      21.780\n",
      "holiday      -24.1370      6.737     -3.583      0.000     -37.342     -10.932\n",
      "weekday        1.6050      0.562      2.857      0.004       0.504       2.706\n",
      "==============================================================================\n",
      "Omnibus:                     4261.851   Durbin-Watson:                   0.509\n",
      "Prob(Omnibus):                  0.000   Jarque-Bera (JB):             9814.248\n",
      "Skew:                           1.388   Prob(JB):                         0.00\n",
      "Kurtosis:                       5.418   Cond. No.                         440.\n",
      "==============================================================================\n",
      "\n",
      "Notes:\n",
      "[1] Standard Errors assume that the covariance matrix of the errors is correctly specified.\n"
     ]
    }
   ],
   "source": [
    "# Pasiruošimas modeliavimui\n",
    "X = df[['hr', 'temp', 'hum', 'windspeed', 'weathersit','season', 'holiday','weekday']]\n",
    "y = df['cnt']\n",
    "\n",
    "# Pridedame konstantą regresijai\n",
    "X_const = sm.add_constant(X)\n",
    "model = sm.OLS(y, X_const).fit()\n",
    "print(model.summary())"
   ]
  },
  {
   "cell_type": "markdown",
   "id": "180f3e9b",
   "metadata": {},
   "source": [
    "## 3. Interpretavimas\n",
    "- Kurie kintamieji yra statistiškai reikšmingi? (žiūrėk p reikšmes)\n",
    "- Kiek procentų priklausomo kintamojo paaiškinama modeliu (R²)?"
   ]
  },
  {
   "cell_type": "markdown",
   "id": "59099c03",
   "metadata": {},
   "source": [
    "## 4. BONUS: Dienos dalių įtraukimas\n",
    "Pabandykime padalinti `hr` į rytą (6–11), dieną (12–17), vakarą (18–23) ir naktį (0–5)."
   ]
  },
  {
   "cell_type": "code",
   "execution_count": null,
   "id": "c0616e35",
   "metadata": {},
   "outputs": [],
   "source": []
  }
 ],
 "metadata": {
  "kernelspec": {
   "display_name": "Python 3",
   "language": "python",
   "name": "python3"
  },
  "language_info": {
   "codemirror_mode": {
    "name": "ipython",
    "version": 3
   },
   "file_extension": ".py",
   "mimetype": "text/x-python",
   "name": "python",
   "nbconvert_exporter": "python",
   "pygments_lexer": "ipython3",
   "version": "3.13.4"
  }
 },
 "nbformat": 4,
 "nbformat_minor": 5
}

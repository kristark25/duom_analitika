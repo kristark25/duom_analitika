{
 "cells": [
  {
   "cell_type": "markdown",
   "id": "fc971287",
   "metadata": {},
   "source": [
    "# 02 — EDA **Exploratory Data Analysis**: pagrindiniai žingsniai"
   ]
  },
  {
   "cell_type": "markdown",
   "id": "0024d8ee",
   "metadata": {},
   "source": [
    "### Pagrindiniai EDA tikslai\n",
    "\n",
    "- **Suprasti kintamųjų tipus**  \n",
    "  (skaitiniai, kategoriniai, ordinalūs ir pan.)\n",
    "\n",
    "- **Patikrinti duomenų kokybę**  \n",
    "  (trūkstamos reikšmės, pasikartojimai, klaidingos reikšmės)\n",
    "\n",
    "- **Aprašyti pagrindinius rodiklius**  \n",
    "  (vidurkis, mediana, moda, dispersija, kvartiliai)\n",
    "\n",
    "- **Pavaizduoti duomenis grafiškai**  \n",
    "  (histogramos, dėžučių diagramos, sklaidos grafikai, bar chart)\n",
    "\n",
    "- **Pastebėti outlierius**  \n",
    "  (išskirtines reikšmes)\n",
    "\n",
    "- **Įvertinti ryšius tarp kintamųjų**  \n",
    "  (koreliacijos, grupių skirtumai)\n"
   ]
  },
  {
   "cell_type": "markdown",
   "id": "f1412457",
   "metadata": {},
   "source": [
    "## 0 žinksnis: **Bibliotekų importavimas**"
   ]
  },
  {
   "cell_type": "code",
   "execution_count": 39,
   "id": "b8e10bcc",
   "metadata": {},
   "outputs": [],
   "source": [
    "import pandas as pd\n",
    "import numpy as np\n",
    "import matplotlib.pyplot as plt"
   ]
  },
  {
   "cell_type": "markdown",
   "id": "d205fc38",
   "metadata": {},
   "source": [
    "## 1 žinksnis: **Duomenų įkėlimas**"
   ]
  },
  {
   "cell_type": "code",
   "execution_count": 40,
   "id": "32d1eca9",
   "metadata": {},
   "outputs": [],
   "source": [
    "# Įkelkime duomenis\n",
    "df = pd.read_csv(\"mini_shop_sales.csv\")"
   ]
  },
  {
   "cell_type": "markdown",
   "id": "28586670",
   "metadata": {},
   "source": [
    "## 2 žinksnis: **Duomenų apžvalga**"
   ]
  },
  {
   "cell_type": "markdown",
   "id": "48d65e22",
   "metadata": {},
   "source": [
    "## Pagrindiniai EDA žingsniai\n",
    "\n",
    "2.1. **Pirminė peržiūra**   \n",
    "\n",
    "2.2. **Duomenų kokybės tikrinimas**  \n",
    "\n",
    "2.3. **Kintamųjų tipų identifikavimas**  \n",
    "\n",
    "2.4. **Aprašomoji statistika**  \n",
    "\n",
    "2.5. **Vizualizacijos vienam kintamajam**  \n",
    "\n",
    "2.6. **Ryšių tarp kintamųjų analizė**  \n",
    "\n",
    "2.7. **Išvados ir duomenų paruošimo planas**  "
   ]
  },
  {
   "cell_type": "markdown",
   "id": "fc3a3a95",
   "metadata": {},
   "source": [
    "### 2.1. **Pirminė peržiūra**  \n",
    "   - `df.head()`, `df.info()`  "
   ]
  },
  {
   "cell_type": "code",
   "execution_count": 41,
   "id": "4da36341",
   "metadata": {},
   "outputs": [
    {
     "data": {
      "text/html": [
       "<div>\n",
       "<style scoped>\n",
       "    .dataframe tbody tr th:only-of-type {\n",
       "        vertical-align: middle;\n",
       "    }\n",
       "\n",
       "    .dataframe tbody tr th {\n",
       "        vertical-align: top;\n",
       "    }\n",
       "\n",
       "    .dataframe thead th {\n",
       "        text-align: right;\n",
       "    }\n",
       "</style>\n",
       "<table border=\"1\" class=\"dataframe\">\n",
       "  <thead>\n",
       "    <tr style=\"text-align: right;\">\n",
       "      <th></th>\n",
       "      <th>order_id</th>\n",
       "      <th>customer_segment</th>\n",
       "      <th>city</th>\n",
       "      <th>membership_level</th>\n",
       "      <th>satisfaction</th>\n",
       "      <th>items_count</th>\n",
       "      <th>revenue</th>\n",
       "      <th>delivery_time_days</th>\n",
       "      <th>temperature_c</th>\n",
       "      <th>returned</th>\n",
       "    </tr>\n",
       "  </thead>\n",
       "  <tbody>\n",
       "    <tr>\n",
       "      <th>0</th>\n",
       "      <td>1</td>\n",
       "      <td>B</td>\n",
       "      <td>Vilnius</td>\n",
       "      <td>Gold</td>\n",
       "      <td>High</td>\n",
       "      <td>4</td>\n",
       "      <td>11.711634</td>\n",
       "      <td>2.064192</td>\n",
       "      <td>23.850472</td>\n",
       "      <td>0</td>\n",
       "    </tr>\n",
       "    <tr>\n",
       "      <th>1</th>\n",
       "      <td>2</td>\n",
       "      <td>A</td>\n",
       "      <td>Kaunas</td>\n",
       "      <td>Bronze</td>\n",
       "      <td>Medium</td>\n",
       "      <td>2</td>\n",
       "      <td>15.937593</td>\n",
       "      <td>0.442284</td>\n",
       "      <td>13.346728</td>\n",
       "      <td>0</td>\n",
       "    </tr>\n",
       "    <tr>\n",
       "      <th>2</th>\n",
       "      <td>3</td>\n",
       "      <td>C</td>\n",
       "      <td>Vilnius</td>\n",
       "      <td>Gold</td>\n",
       "      <td>Low</td>\n",
       "      <td>2</td>\n",
       "      <td>8.898782</td>\n",
       "      <td>5.059285</td>\n",
       "      <td>28.390551</td>\n",
       "      <td>1</td>\n",
       "    </tr>\n",
       "    <tr>\n",
       "      <th>3</th>\n",
       "      <td>4</td>\n",
       "      <td>B</td>\n",
       "      <td>Vilnius</td>\n",
       "      <td>Silver</td>\n",
       "      <td>High</td>\n",
       "      <td>2</td>\n",
       "      <td>18.671088</td>\n",
       "      <td>2.212487</td>\n",
       "      <td>12.715129</td>\n",
       "      <td>0</td>\n",
       "    </tr>\n",
       "    <tr>\n",
       "      <th>4</th>\n",
       "      <td>5</td>\n",
       "      <td>A</td>\n",
       "      <td>Kaunas</td>\n",
       "      <td>Bronze</td>\n",
       "      <td>Low</td>\n",
       "      <td>3</td>\n",
       "      <td>38.979435</td>\n",
       "      <td>2.208552</td>\n",
       "      <td>28.285627</td>\n",
       "      <td>0</td>\n",
       "    </tr>\n",
       "  </tbody>\n",
       "</table>\n",
       "</div>"
      ],
      "text/plain": [
       "   order_id customer_segment     city membership_level satisfaction  \\\n",
       "0         1                B  Vilnius             Gold         High   \n",
       "1         2                A   Kaunas           Bronze       Medium   \n",
       "2         3                C  Vilnius             Gold          Low   \n",
       "3         4                B  Vilnius           Silver         High   \n",
       "4         5                A   Kaunas           Bronze          Low   \n",
       "\n",
       "   items_count    revenue  delivery_time_days  temperature_c  returned  \n",
       "0            4  11.711634            2.064192      23.850472         0  \n",
       "1            2  15.937593            0.442284      13.346728         0  \n",
       "2            2   8.898782            5.059285      28.390551         1  \n",
       "3            2  18.671088            2.212487      12.715129         0  \n",
       "4            3  38.979435            2.208552      28.285627         0  "
      ]
     },
     "execution_count": 41,
     "metadata": {},
     "output_type": "execute_result"
    }
   ],
   "source": [
    "# 1) Peržiūra\n",
    "df.head()"
   ]
  },
  {
   "cell_type": "code",
   "execution_count": 42,
   "id": "8f306622",
   "metadata": {},
   "outputs": [
    {
     "data": {
      "text/plain": [
       "(1002, 10)"
      ]
     },
     "execution_count": 42,
     "metadata": {},
     "output_type": "execute_result"
    }
   ],
   "source": [
    "df.shape"
   ]
  },
  {
   "cell_type": "code",
   "execution_count": 43,
   "id": "fe5ecdb5",
   "metadata": {},
   "outputs": [
    {
     "name": "stdout",
     "output_type": "stream",
     "text": [
      "<class 'pandas.core.frame.DataFrame'>\n",
      "RangeIndex: 1002 entries, 0 to 1001\n",
      "Data columns (total 10 columns):\n",
      " #   Column              Non-Null Count  Dtype  \n",
      "---  ------              --------------  -----  \n",
      " 0   order_id            1002 non-null   int64  \n",
      " 1   customer_segment    1002 non-null   object \n",
      " 2   city                972 non-null    object \n",
      " 3   membership_level    982 non-null    object \n",
      " 4   satisfaction        1002 non-null   object \n",
      " 5   items_count         1002 non-null   int64  \n",
      " 6   revenue             992 non-null    float64\n",
      " 7   delivery_time_days  992 non-null    float64\n",
      " 8   temperature_c       1002 non-null   float64\n",
      " 9   returned            1002 non-null   int64  \n",
      "dtypes: float64(3), int64(3), object(4)\n",
      "memory usage: 78.4+ KB\n"
     ]
    }
   ],
   "source": [
    "df.info()"
   ]
  },
  {
   "cell_type": "markdown",
   "id": "66a4bac0",
   "metadata": {},
   "source": [
    "### 2.2. **Duomenų kokybės tikrinimas**  \n",
    "   - trūkstamų reikšmių skaičiavimas: `df.isna().sum()`  \n",
    "   - dublikatų tikrinimas: `df.duplicated().sum()`  \n",
    "   - neteisingų reikšmių paieška (pvz., neigiami amžiai)"
   ]
  },
  {
   "cell_type": "code",
   "execution_count": 44,
   "id": "94b84c88",
   "metadata": {},
   "outputs": [
    {
     "data": {
      "text/plain": [
       "order_id               0\n",
       "customer_segment       0\n",
       "city                  30\n",
       "membership_level      20\n",
       "satisfaction           0\n",
       "items_count            0\n",
       "revenue               10\n",
       "delivery_time_days    10\n",
       "temperature_c          0\n",
       "returned               0\n",
       "dtype: int64"
      ]
     },
     "execution_count": 44,
     "metadata": {},
     "output_type": "execute_result"
    }
   ],
   "source": [
    "# 2) Trūkstamos reikšmės\n",
    "df.isnull().sum()"
   ]
  },
  {
   "cell_type": "code",
   "execution_count": 45,
   "id": "5b77dec7",
   "metadata": {},
   "outputs": [
    {
     "data": {
      "text/plain": [
       "order_id              0.00\n",
       "customer_segment      0.00\n",
       "city                  0.03\n",
       "membership_level      0.02\n",
       "satisfaction          0.00\n",
       "items_count           0.00\n",
       "revenue               0.01\n",
       "delivery_time_days    0.01\n",
       "temperature_c         0.00\n",
       "returned              0.00\n",
       "dtype: float64"
      ]
     },
     "execution_count": 45,
     "metadata": {},
     "output_type": "execute_result"
    }
   ],
   "source": [
    "df.isnull().mean().round(3)"
   ]
  },
  {
   "cell_type": "code",
   "execution_count": 46,
   "id": "1aaaca09",
   "metadata": {},
   "outputs": [
    {
     "data": {
      "text/plain": [
       "np.int64(1)"
      ]
     },
     "execution_count": 46,
     "metadata": {},
     "output_type": "execute_result"
    }
   ],
   "source": [
    "# dublikatų tikrinimas:\n",
    "df.duplicated().sum()"
   ]
  },
  {
   "cell_type": "code",
   "execution_count": 47,
   "id": "3ae4b85d",
   "metadata": {},
   "outputs": [
    {
     "data": {
      "text/html": [
       "<div>\n",
       "<style scoped>\n",
       "    .dataframe tbody tr th:only-of-type {\n",
       "        vertical-align: middle;\n",
       "    }\n",
       "\n",
       "    .dataframe tbody tr th {\n",
       "        vertical-align: top;\n",
       "    }\n",
       "\n",
       "    .dataframe thead th {\n",
       "        text-align: right;\n",
       "    }\n",
       "</style>\n",
       "<table border=\"1\" class=\"dataframe\">\n",
       "  <thead>\n",
       "    <tr style=\"text-align: right;\">\n",
       "      <th></th>\n",
       "      <th>order_id</th>\n",
       "      <th>customer_segment</th>\n",
       "      <th>city</th>\n",
       "      <th>membership_level</th>\n",
       "      <th>satisfaction</th>\n",
       "      <th>items_count</th>\n",
       "      <th>revenue</th>\n",
       "      <th>delivery_time_days</th>\n",
       "      <th>temperature_c</th>\n",
       "      <th>returned</th>\n",
       "    </tr>\n",
       "  </thead>\n",
       "  <tbody>\n",
       "    <tr>\n",
       "      <th>999</th>\n",
       "      <td>1000</td>\n",
       "      <td>A</td>\n",
       "      <td>Kaunas</td>\n",
       "      <td>Bronze</td>\n",
       "      <td>Low</td>\n",
       "      <td>2</td>\n",
       "      <td>4.46515</td>\n",
       "      <td>3.236884</td>\n",
       "      <td>25.534583</td>\n",
       "      <td>0</td>\n",
       "    </tr>\n",
       "    <tr>\n",
       "      <th>1001</th>\n",
       "      <td>1000</td>\n",
       "      <td>A</td>\n",
       "      <td>Kaunas</td>\n",
       "      <td>Bronze</td>\n",
       "      <td>Low</td>\n",
       "      <td>2</td>\n",
       "      <td>4.46515</td>\n",
       "      <td>3.236884</td>\n",
       "      <td>25.534583</td>\n",
       "      <td>0</td>\n",
       "    </tr>\n",
       "  </tbody>\n",
       "</table>\n",
       "</div>"
      ],
      "text/plain": [
       "      order_id customer_segment    city membership_level satisfaction  \\\n",
       "999       1000                A  Kaunas           Bronze          Low   \n",
       "1001      1000                A  Kaunas           Bronze          Low   \n",
       "\n",
       "      items_count  revenue  delivery_time_days  temperature_c  returned  \n",
       "999             2  4.46515            3.236884      25.534583         0  \n",
       "1001            2  4.46515            3.236884      25.534583         0  "
      ]
     },
     "execution_count": 47,
     "metadata": {},
     "output_type": "execute_result"
    }
   ],
   "source": [
    "df[df.duplicated(keep=False)].sort_values(list(df.columns))"
   ]
  },
  {
   "cell_type": "code",
   "execution_count": 48,
   "id": "73918bbd",
   "metadata": {},
   "outputs": [
    {
     "name": "stdout",
     "output_type": "stream",
     "text": [
      "neig_items: Empty DataFrame\n",
      "Columns: [order_id, customer_segment, city, membership_level, satisfaction, items_count, revenue, delivery_time_days, temperature_c, returned]\n",
      "Index: []\n"
     ]
    }
   ],
   "source": [
    "neig_items = df[(df['items_count'] < 0)]\n",
    "print('neig_items:', neig_items)"
   ]
  },
  {
   "cell_type": "code",
   "execution_count": 49,
   "id": "be1f42f5",
   "metadata": {},
   "outputs": [
    {
     "name": "stdout",
     "output_type": "stream",
     "text": [
      "neig_items rev: Empty DataFrame\n",
      "Columns: [order_id, customer_segment, city, membership_level, satisfaction, items_count, revenue, delivery_time_days, temperature_c, returned]\n",
      "Index: []\n"
     ]
    }
   ],
   "source": [
    "neig_items_rev = df[(df['revenue'] < 0)]\n",
    "print('neig_items rev:', neig_items_rev)"
   ]
  },
  {
   "cell_type": "markdown",
   "id": "86115eba",
   "metadata": {},
   "source": [
    "### 2.3. **Kintamųjų tipų identifikavimas**  \n",
    "   - skaitiniai (diskretūs, tolydieji)  \n",
    "   - kategoriniai (nominalūs, ordinalūs)  \n",
    "   - datų / tekstiniai"
   ]
  },
  {
   "cell_type": "code",
   "execution_count": 50,
   "id": "878f869c",
   "metadata": {},
   "outputs": [
    {
     "data": {
      "text/html": [
       "<div>\n",
       "<style scoped>\n",
       "    .dataframe tbody tr th:only-of-type {\n",
       "        vertical-align: middle;\n",
       "    }\n",
       "\n",
       "    .dataframe tbody tr th {\n",
       "        vertical-align: top;\n",
       "    }\n",
       "\n",
       "    .dataframe thead th {\n",
       "        text-align: right;\n",
       "    }\n",
       "</style>\n",
       "<table border=\"1\" class=\"dataframe\">\n",
       "  <thead>\n",
       "    <tr style=\"text-align: right;\">\n",
       "      <th></th>\n",
       "      <th>order_id</th>\n",
       "      <th>customer_segment</th>\n",
       "      <th>city</th>\n",
       "      <th>membership_level</th>\n",
       "      <th>satisfaction</th>\n",
       "      <th>items_count</th>\n",
       "      <th>revenue</th>\n",
       "      <th>delivery_time_days</th>\n",
       "      <th>temperature_c</th>\n",
       "      <th>returned</th>\n",
       "    </tr>\n",
       "  </thead>\n",
       "  <tbody>\n",
       "    <tr>\n",
       "      <th>0</th>\n",
       "      <td>1</td>\n",
       "      <td>B</td>\n",
       "      <td>Vilnius</td>\n",
       "      <td>Gold</td>\n",
       "      <td>High</td>\n",
       "      <td>4</td>\n",
       "      <td>11.711634</td>\n",
       "      <td>2.064192</td>\n",
       "      <td>23.850472</td>\n",
       "      <td>0</td>\n",
       "    </tr>\n",
       "    <tr>\n",
       "      <th>1</th>\n",
       "      <td>2</td>\n",
       "      <td>A</td>\n",
       "      <td>Kaunas</td>\n",
       "      <td>Bronze</td>\n",
       "      <td>Medium</td>\n",
       "      <td>2</td>\n",
       "      <td>15.937593</td>\n",
       "      <td>0.442284</td>\n",
       "      <td>13.346728</td>\n",
       "      <td>0</td>\n",
       "    </tr>\n",
       "    <tr>\n",
       "      <th>2</th>\n",
       "      <td>3</td>\n",
       "      <td>C</td>\n",
       "      <td>Vilnius</td>\n",
       "      <td>Gold</td>\n",
       "      <td>Low</td>\n",
       "      <td>2</td>\n",
       "      <td>8.898782</td>\n",
       "      <td>5.059285</td>\n",
       "      <td>28.390551</td>\n",
       "      <td>1</td>\n",
       "    </tr>\n",
       "    <tr>\n",
       "      <th>3</th>\n",
       "      <td>4</td>\n",
       "      <td>B</td>\n",
       "      <td>Vilnius</td>\n",
       "      <td>Silver</td>\n",
       "      <td>High</td>\n",
       "      <td>2</td>\n",
       "      <td>18.671088</td>\n",
       "      <td>2.212487</td>\n",
       "      <td>12.715129</td>\n",
       "      <td>0</td>\n",
       "    </tr>\n",
       "    <tr>\n",
       "      <th>4</th>\n",
       "      <td>5</td>\n",
       "      <td>A</td>\n",
       "      <td>Kaunas</td>\n",
       "      <td>Bronze</td>\n",
       "      <td>Low</td>\n",
       "      <td>3</td>\n",
       "      <td>38.979435</td>\n",
       "      <td>2.208552</td>\n",
       "      <td>28.285627</td>\n",
       "      <td>0</td>\n",
       "    </tr>\n",
       "  </tbody>\n",
       "</table>\n",
       "</div>"
      ],
      "text/plain": [
       "   order_id customer_segment     city membership_level satisfaction  \\\n",
       "0         1                B  Vilnius             Gold         High   \n",
       "1         2                A   Kaunas           Bronze       Medium   \n",
       "2         3                C  Vilnius             Gold          Low   \n",
       "3         4                B  Vilnius           Silver         High   \n",
       "4         5                A   Kaunas           Bronze          Low   \n",
       "\n",
       "   items_count    revenue  delivery_time_days  temperature_c  returned  \n",
       "0            4  11.711634            2.064192      23.850472         0  \n",
       "1            2  15.937593            0.442284      13.346728         0  \n",
       "2            2   8.898782            5.059285      28.390551         1  \n",
       "3            2  18.671088            2.212487      12.715129         0  \n",
       "4            3  38.979435            2.208552      28.285627         0  "
      ]
     },
     "execution_count": 50,
     "metadata": {},
     "output_type": "execute_result"
    }
   ],
   "source": [
    "df.head()"
   ]
  },
  {
   "cell_type": "markdown",
   "id": "435cee6f",
   "metadata": {},
   "source": []
  },
  {
   "cell_type": "markdown",
   "id": "8b58afa4",
   "metadata": {},
   "source": [
    "                        SKAITNIAI\n",
    "temperature_c, revenue yra tolydusis\n",
    "order_id, items_count diskretusis\n",
    "                        KATEGORINIAI\n",
    "city, customer_segment nominalus\n",
    "membership_level, satisfaction ordinalus\n",
    "                        LOGINES REIKSMES\n",
    "True, False\n",
    "                        DATU, TEKSTINIAI\n",
    "\n",
    "\n"
   ]
  },
  {
   "cell_type": "markdown",
   "id": "4749cf1c",
   "metadata": {},
   "source": [
    "\n",
    "### 2.4. **Aprašomoji statistika**  \n",
    "   - vidurkis, mediana, moda  \n",
    "   - dispersija, standartinis nuokrypis, kvartiliai  \n",
    "   - `df.describe(include=\"all\")`"
   ]
  },
  {
   "cell_type": "code",
   "execution_count": 51,
   "id": "bff62545",
   "metadata": {},
   "outputs": [
    {
     "data": {
      "text/html": [
       "<div>\n",
       "<style scoped>\n",
       "    .dataframe tbody tr th:only-of-type {\n",
       "        vertical-align: middle;\n",
       "    }\n",
       "\n",
       "    .dataframe tbody tr th {\n",
       "        vertical-align: top;\n",
       "    }\n",
       "\n",
       "    .dataframe thead th {\n",
       "        text-align: right;\n",
       "    }\n",
       "</style>\n",
       "<table border=\"1\" class=\"dataframe\">\n",
       "  <thead>\n",
       "    <tr style=\"text-align: right;\">\n",
       "      <th></th>\n",
       "      <th>order_id</th>\n",
       "      <th>customer_segment</th>\n",
       "      <th>city</th>\n",
       "      <th>membership_level</th>\n",
       "      <th>satisfaction</th>\n",
       "      <th>items_count</th>\n",
       "      <th>revenue</th>\n",
       "      <th>delivery_time_days</th>\n",
       "      <th>temperature_c</th>\n",
       "      <th>returned</th>\n",
       "    </tr>\n",
       "  </thead>\n",
       "  <tbody>\n",
       "    <tr>\n",
       "      <th>count</th>\n",
       "      <td>1002.000000</td>\n",
       "      <td>1002</td>\n",
       "      <td>972</td>\n",
       "      <td>982</td>\n",
       "      <td>1002</td>\n",
       "      <td>1002.000000</td>\n",
       "      <td>992.000000</td>\n",
       "      <td>992.000000</td>\n",
       "      <td>1002.000000</td>\n",
       "      <td>1002.000000</td>\n",
       "    </tr>\n",
       "    <tr>\n",
       "      <th>unique</th>\n",
       "      <td>NaN</td>\n",
       "      <td>3</td>\n",
       "      <td>5</td>\n",
       "      <td>4</td>\n",
       "      <td>5</td>\n",
       "      <td>NaN</td>\n",
       "      <td>NaN</td>\n",
       "      <td>NaN</td>\n",
       "      <td>NaN</td>\n",
       "      <td>NaN</td>\n",
       "    </tr>\n",
       "    <tr>\n",
       "      <th>top</th>\n",
       "      <td>NaN</td>\n",
       "      <td>A</td>\n",
       "      <td>Vilnius</td>\n",
       "      <td>Bronze</td>\n",
       "      <td>Medium</td>\n",
       "      <td>NaN</td>\n",
       "      <td>NaN</td>\n",
       "      <td>NaN</td>\n",
       "      <td>NaN</td>\n",
       "      <td>NaN</td>\n",
       "    </tr>\n",
       "    <tr>\n",
       "      <th>freq</th>\n",
       "      <td>NaN</td>\n",
       "      <td>452</td>\n",
       "      <td>434</td>\n",
       "      <td>495</td>\n",
       "      <td>362</td>\n",
       "      <td>NaN</td>\n",
       "      <td>NaN</td>\n",
       "      <td>NaN</td>\n",
       "      <td>NaN</td>\n",
       "      <td>NaN</td>\n",
       "    </tr>\n",
       "    <tr>\n",
       "      <th>mean</th>\n",
       "      <td>501.498004</td>\n",
       "      <td>NaN</td>\n",
       "      <td>NaN</td>\n",
       "      <td>NaN</td>\n",
       "      <td>NaN</td>\n",
       "      <td>3.207585</td>\n",
       "      <td>17.380131</td>\n",
       "      <td>2.512028</td>\n",
       "      <td>16.728949</td>\n",
       "      <td>0.116766</td>\n",
       "    </tr>\n",
       "    <tr>\n",
       "      <th>std</th>\n",
       "      <td>289.393338</td>\n",
       "      <td>NaN</td>\n",
       "      <td>NaN</td>\n",
       "      <td>NaN</td>\n",
       "      <td>NaN</td>\n",
       "      <td>1.728535</td>\n",
       "      <td>26.406869</td>\n",
       "      <td>2.335956</td>\n",
       "      <td>7.982171</td>\n",
       "      <td>0.321302</td>\n",
       "    </tr>\n",
       "    <tr>\n",
       "      <th>min</th>\n",
       "      <td>1.000000</td>\n",
       "      <td>NaN</td>\n",
       "      <td>NaN</td>\n",
       "      <td>NaN</td>\n",
       "      <td>NaN</td>\n",
       "      <td>1.000000</td>\n",
       "      <td>0.654838</td>\n",
       "      <td>0.031261</td>\n",
       "      <td>-7.662441</td>\n",
       "      <td>0.000000</td>\n",
       "    </tr>\n",
       "    <tr>\n",
       "      <th>25%</th>\n",
       "      <td>251.250000</td>\n",
       "      <td>NaN</td>\n",
       "      <td>NaN</td>\n",
       "      <td>NaN</td>\n",
       "      <td>NaN</td>\n",
       "      <td>2.000000</td>\n",
       "      <td>6.900762</td>\n",
       "      <td>1.183396</td>\n",
       "      <td>11.177214</td>\n",
       "      <td>0.000000</td>\n",
       "    </tr>\n",
       "    <tr>\n",
       "      <th>50%</th>\n",
       "      <td>501.500000</td>\n",
       "      <td>NaN</td>\n",
       "      <td>NaN</td>\n",
       "      <td>NaN</td>\n",
       "      <td>NaN</td>\n",
       "      <td>3.000000</td>\n",
       "      <td>11.503503</td>\n",
       "      <td>2.063122</td>\n",
       "      <td>16.626085</td>\n",
       "      <td>0.000000</td>\n",
       "    </tr>\n",
       "    <tr>\n",
       "      <th>75%</th>\n",
       "      <td>751.750000</td>\n",
       "      <td>NaN</td>\n",
       "      <td>NaN</td>\n",
       "      <td>NaN</td>\n",
       "      <td>NaN</td>\n",
       "      <td>4.000000</td>\n",
       "      <td>19.485335</td>\n",
       "      <td>3.236884</td>\n",
       "      <td>21.632316</td>\n",
       "      <td>0.000000</td>\n",
       "    </tr>\n",
       "    <tr>\n",
       "      <th>max</th>\n",
       "      <td>1001.000000</td>\n",
       "      <td>NaN</td>\n",
       "      <td>NaN</td>\n",
       "      <td>NaN</td>\n",
       "      <td>NaN</td>\n",
       "      <td>11.000000</td>\n",
       "      <td>348.752755</td>\n",
       "      <td>34.644286</td>\n",
       "      <td>50.209931</td>\n",
       "      <td>1.000000</td>\n",
       "    </tr>\n",
       "  </tbody>\n",
       "</table>\n",
       "</div>"
      ],
      "text/plain": [
       "           order_id customer_segment     city membership_level satisfaction  \\\n",
       "count   1002.000000             1002      972              982         1002   \n",
       "unique          NaN                3        5                4            5   \n",
       "top             NaN                A  Vilnius           Bronze       Medium   \n",
       "freq            NaN              452      434              495          362   \n",
       "mean     501.498004              NaN      NaN              NaN          NaN   \n",
       "std      289.393338              NaN      NaN              NaN          NaN   \n",
       "min        1.000000              NaN      NaN              NaN          NaN   \n",
       "25%      251.250000              NaN      NaN              NaN          NaN   \n",
       "50%      501.500000              NaN      NaN              NaN          NaN   \n",
       "75%      751.750000              NaN      NaN              NaN          NaN   \n",
       "max     1001.000000              NaN      NaN              NaN          NaN   \n",
       "\n",
       "        items_count     revenue  delivery_time_days  temperature_c  \\\n",
       "count   1002.000000  992.000000          992.000000    1002.000000   \n",
       "unique          NaN         NaN                 NaN            NaN   \n",
       "top             NaN         NaN                 NaN            NaN   \n",
       "freq            NaN         NaN                 NaN            NaN   \n",
       "mean       3.207585   17.380131            2.512028      16.728949   \n",
       "std        1.728535   26.406869            2.335956       7.982171   \n",
       "min        1.000000    0.654838            0.031261      -7.662441   \n",
       "25%        2.000000    6.900762            1.183396      11.177214   \n",
       "50%        3.000000   11.503503            2.063122      16.626085   \n",
       "75%        4.000000   19.485335            3.236884      21.632316   \n",
       "max       11.000000  348.752755           34.644286      50.209931   \n",
       "\n",
       "           returned  \n",
       "count   1002.000000  \n",
       "unique          NaN  \n",
       "top             NaN  \n",
       "freq            NaN  \n",
       "mean       0.116766  \n",
       "std        0.321302  \n",
       "min        0.000000  \n",
       "25%        0.000000  \n",
       "50%        0.000000  \n",
       "75%        0.000000  \n",
       "max        1.000000  "
      ]
     },
     "execution_count": 51,
     "metadata": {},
     "output_type": "execute_result"
    }
   ],
   "source": [
    "# Santrauka\n",
    "df.describe(include='all')"
   ]
  },
  {
   "cell_type": "markdown",
   "id": "535b9e16",
   "metadata": {},
   "source": [
    "\n",
    "### 2.5. **Vizualizacijos vienam kintamajam**  \n",
    "   - histogramos, dėžučių diagramos, bar chart  \n",
    "   - tikrinti pasiskirstymą ir galimus outlierius"
   ]
  },
  {
   "cell_type": "code",
   "execution_count": 52,
   "id": "10d689e2",
   "metadata": {},
   "outputs": [
    {
     "data": {
      "image/png": "[encoded data removed]",
      "text/plain": [
       "<Figure size 640x480 with 1 Axes>"
      ]
     },
     "metadata": {},
     "output_type": "display_data"
    }
   ],
   "source": [
    "# 5) Pasiskirstymai\n",
    "# histograma\n",
    "plt.hist(df['revenue'], bins=20, edgecolor='black')\n",
    "plt.title('Revenue Distribution')\n",
    "plt.xlabel('revenue')\n",
    "plt.ylabel('Frequency')\n",
    "plt.show()"
   ]
  },
  {
   "cell_type": "code",
   "execution_count": 53,
   "id": "e3a57950",
   "metadata": {},
   "outputs": [
    {
     "data": {
      "image/png": "[encoded data removed]",
      "text/plain": [
       "<Figure size 640x480 with 1 Axes>"
      ]
     },
     "metadata": {},
     "output_type": "display_data"
    }
   ],
   "source": [
    "# boxplot\n",
    "plt.figure()\n",
    "# plt.boxplot(df['revenue'])\n",
    "df.boxplot(column='revenue')\n",
    "plt.title('Revenue Distribution boxplot')\n",
    "plt.xlabel('Revenue')\n",
    "plt.ylabel('Frecuency')\n",
    "plt.show()"
   ]
  },
  {
   "cell_type": "code",
   "execution_count": 54,
   "id": "4b10d482",
   "metadata": {},
   "outputs": [
    {
     "data": {
      "image/png": "[encoded data removed]",
      "text/plain": [
       "<Figure size 640x480 with 1 Axes>"
      ]
     },
     "metadata": {},
     "output_type": "display_data"
    }
   ],
   "source": [
    "# barchart\n",
    "df['items_count'].value_counts().plot(kind='bar')\n",
    "plt.title('Items Count Bar Chart')\n",
    "plt.xlabel('Items Count')\n",
    "plt.ylabel('Frequency')\n",
    "plt.show()\n"
   ]
  },
  {
   "cell_type": "markdown",
   "id": "95808f1f",
   "metadata": {},
   "source": [
    "### 2.6. **Ryšių tarp kintamųjų analizė**  \n",
    "   - sklaidos grafikai, `df.corr()`  \n",
    "   - grupių palyginimai (pvz., `groupby`)  \n",
    "   - kryžminės lentelės kategoriniams\n",
    "   "
   ]
  },
  {
   "cell_type": "code",
   "execution_count": null,
   "id": "7b3eb2a5",
   "metadata": {},
   "outputs": [],
   "source": []
  },
  {
   "cell_type": "code",
   "execution_count": 55,
   "id": "d41b7013",
   "metadata": {},
   "outputs": [
    {
     "data": {
      "text/html": [
       "<div>\n",
       "<style scoped>\n",
       "    .dataframe tbody tr th:only-of-type {\n",
       "        vertical-align: middle;\n",
       "    }\n",
       "\n",
       "    .dataframe tbody tr th {\n",
       "        vertical-align: top;\n",
       "    }\n",
       "\n",
       "    .dataframe thead th {\n",
       "        text-align: right;\n",
       "    }\n",
       "</style>\n",
       "<table border=\"1\" class=\"dataframe\">\n",
       "  <thead>\n",
       "    <tr style=\"text-align: right;\">\n",
       "      <th></th>\n",
       "      <th>order_id</th>\n",
       "      <th>items_count</th>\n",
       "      <th>revenue</th>\n",
       "      <th>delivery_time_days</th>\n",
       "      <th>temperature_c</th>\n",
       "      <th>returned</th>\n",
       "    </tr>\n",
       "  </thead>\n",
       "  <tbody>\n",
       "    <tr>\n",
       "      <th>order_id</th>\n",
       "      <td>1.00</td>\n",
       "      <td>0.04</td>\n",
       "      <td>0.03</td>\n",
       "      <td>0.02</td>\n",
       "      <td>-0.00</td>\n",
       "      <td>0.03</td>\n",
       "    </tr>\n",
       "    <tr>\n",
       "      <th>items_count</th>\n",
       "      <td>0.04</td>\n",
       "      <td>1.00</td>\n",
       "      <td>-0.02</td>\n",
       "      <td>0.02</td>\n",
       "      <td>-0.06</td>\n",
       "      <td>0.01</td>\n",
       "    </tr>\n",
       "    <tr>\n",
       "      <th>revenue</th>\n",
       "      <td>0.03</td>\n",
       "      <td>-0.02</td>\n",
       "      <td>1.00</td>\n",
       "      <td>0.05</td>\n",
       "      <td>-0.06</td>\n",
       "      <td>0.02</td>\n",
       "    </tr>\n",
       "    <tr>\n",
       "      <th>delivery_time_days</th>\n",
       "      <td>0.02</td>\n",
       "      <td>0.02</td>\n",
       "      <td>0.05</td>\n",
       "      <td>1.00</td>\n",
       "      <td>-0.00</td>\n",
       "      <td>0.05</td>\n",
       "    </tr>\n",
       "    <tr>\n",
       "      <th>temperature_c</th>\n",
       "      <td>-0.00</td>\n",
       "      <td>-0.06</td>\n",
       "      <td>-0.06</td>\n",
       "      <td>-0.00</td>\n",
       "      <td>1.00</td>\n",
       "      <td>-0.05</td>\n",
       "    </tr>\n",
       "    <tr>\n",
       "      <th>returned</th>\n",
       "      <td>0.03</td>\n",
       "      <td>0.01</td>\n",
       "      <td>0.02</td>\n",
       "      <td>0.05</td>\n",
       "      <td>-0.05</td>\n",
       "      <td>1.00</td>\n",
       "    </tr>\n",
       "  </tbody>\n",
       "</table>\n",
       "</div>"
      ],
      "text/plain": [
       "                    order_id  items_count  revenue  delivery_time_days  \\\n",
       "order_id                1.00         0.04     0.03                0.02   \n",
       "items_count             0.04         1.00    -0.02                0.02   \n",
       "revenue                 0.03        -0.02     1.00                0.05   \n",
       "delivery_time_days      0.02         0.02     0.05                1.00   \n",
       "temperature_c          -0.00        -0.06    -0.06               -0.00   \n",
       "returned                0.03         0.01     0.02                0.05   \n",
       "\n",
       "                    temperature_c  returned  \n",
       "order_id                    -0.00      0.03  \n",
       "items_count                 -0.06      0.01  \n",
       "revenue                     -0.06      0.02  \n",
       "delivery_time_days          -0.00      0.05  \n",
       "temperature_c                1.00     -0.05  \n",
       "returned                    -0.05      1.00  "
      ]
     },
     "execution_count": 55,
     "metadata": {},
     "output_type": "execute_result"
    }
   ],
   "source": [
    "# 6) Ryšiai\n",
    "df.corr(numeric_only=True).round(2)\n"
   ]
  },
  {
   "cell_type": "code",
   "execution_count": 56,
   "id": "8900faab",
   "metadata": {},
   "outputs": [],
   "source": [
    "import seaborn as sns"
   ]
  },
  {
   "cell_type": "code",
   "execution_count": 59,
   "id": "7511a8ea",
   "metadata": {},
   "outputs": [
    {
     "data": {
      "image/png": "[encoded data removed]",
      "text/plain": [
       "<Figure size 1000x500 with 2 Axes>"
      ]
     },
     "metadata": {},
     "output_type": "display_data"
    }
   ],
   "source": [
    "# Apskaičiuojame koreliaciją tarp visų skaitinių kintamųjų\n",
    "corr_matrix = df.corr(numeric_only=True)\n",
    "\n",
    "plt.figure(figsize=(10, 5))\n",
    "sns.heatmap(corr_matrix, annot=True, cmap='coolwarm')\n",
    "plt.title('Correlation Heatmap')\n",
    "plt.show()"
   ]
  },
  {
   "cell_type": "markdown",
   "id": "67998b98",
   "metadata": {},
   "source": [
    "### 2.7. **Išvados ir duomenų paruošimo planas**  \n",
    "   - ką tvarkyti (trūkstami, outlieriai, kodavimas)  \n",
    "   - ką transformuoti (log, normalizacija)  \n",
    "   - kokias hipotezes verta tikrinti toliau"
   ]
  },
  {
   "cell_type": "markdown",
   "id": "d8225e2b",
   "metadata": {},
   "source": []
  },
  {
   "cell_type": "markdown",
   "id": "adcb8c54",
   "metadata": {},
   "source": [
    "**Užduotis:** parašykite 2–3 įžvalgas  apie duomenis: trūkumus, skirstinius, ryšius, galimus outlierius.\n"
   ]
  },
  {
   "cell_type": "markdown",
   "id": "e8c38666",
   "metadata": {},
   "source": []
  },
  {
   "cell_type": "markdown",
   "id": "3f0be561",
   "metadata": {},
   "source": [
    "## 3 Žinksnis: **Duomenų tvarkymas**"
   ]
  }
 ],
 "metadata": {
  "kernelspec": {
   "display_name": "Python 3",
   "language": "python",
   "name": "python3"
  },
  "language_info": {
   "codemirror_mode": {
    "name": "ipython",
    "version": 3
   },
   "file_extension": ".py",
   "mimetype": "text/x-python",
   "name": "python",
   "nbconvert_exporter": "python",
   "pygments_lexer": "ipython3",
   "version": "3.13.4"
  }
 },
 "nbformat": 4,
 "nbformat_minor": 5
}
